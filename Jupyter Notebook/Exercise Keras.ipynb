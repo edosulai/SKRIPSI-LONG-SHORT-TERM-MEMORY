{
  "cells": [
    {
      "cell_type": "markdown",
      "metadata": {},
      "source": [
        "<p>\n",
        "Prepared by Vytautas Bielinskas. 2020. <br>\n",
        "Download data from: https://finance.yahoo.com/quote/GOOG/history/\n",
        "</p>\n",
        "\n",
        "<h2>PART 1. Data Pre-processing</h2>"
      ]
    },
    {
      "cell_type": "markdown",
      "metadata": {},
      "source": [
        "<h3>Step #0. Fire the system</h3>"
      ]
    },
    {
      "cell_type": "code",
      "execution_count": 94,
      "metadata": {
        "tags": []
      },
      "outputs": [],
      "source": [
        "# Import modules and packages\n",
        "import numpy as np\n",
        "import pandas as pd\n",
        "import matplotlib.pyplot as plt\n",
        "import datetime as dt\n",
        "from datetime import datetime\n",
        "\n",
        "from keras.callbacks import EarlyStopping, ReduceLROnPlateau, ModelCheckpoint, TensorBoard\n",
        "\n",
        "%matplotlib inline"
      ]
    },
    {
      "cell_type": "markdown",
      "metadata": {},
      "source": [
        "<h3>Step #1. Read data</h3>"
      ]
    },
    {
      "cell_type": "code",
      "execution_count": 95,
      "metadata": {
        "tags": []
      },
      "outputs": [
        {
          "name": "stdout",
          "output_type": "stream",
          "text": [
            "Training set shape == (2998, 7)\n",
            "All timestamps == 2998\n",
            "Featured selected: ['Open', 'High', 'Low', 'Close', 'Adj Close']\n"
          ]
        }
      ],
      "source": [
        "# Importing Training Set\n",
        "dataset_train = pd.read_csv('../Assets/Data/GOOG.csv')\n",
        "\n",
        "# Select features (columns) to be involved intro training and predictions\n",
        "cols = list(dataset_train)[1:6]\n",
        "\n",
        "# Extract dates (will be used in visualization)\n",
        "datelist_train = list(dataset_train['Date'])\n",
        "datelist_train = [dt.datetime.strptime(date, '%Y-%m-%d').date() for date in datelist_train]\n",
        "\n",
        "print('Training set shape == {}'.format(dataset_train.shape))\n",
        "print('All timestamps == {}'.format(len(datelist_train)))\n",
        "print('Featured selected: {}'.format(cols))"
      ]
    },
    {
      "cell_type": "markdown",
      "metadata": {},
      "source": [
        "<h3>Step #2. Data pre-processing</h3>\n",
        "<p>\n",
        "Removing all commas and convert data to matrix shape format.\n",
        "</p>"
      ]
    },
    {
      "cell_type": "code",
      "execution_count": 96,
      "metadata": {
        "tags": []
      },
      "outputs": [
        {
          "name": "stdout",
          "output_type": "stream",
          "text": [
            "Shape of training set == (2998, 5).\n"
          ]
        }
      ],
      "source": [
        "dataset_train = dataset_train[cols].astype(str)\n",
        "for i in cols:\n",
        "    for j in range(0, len(dataset_train)):\n",
        "        dataset_train[i][j] = dataset_train[i][j].replace(',', '')\n",
        "\n",
        "dataset_train = dataset_train.astype(float)\n",
        "\n",
        "# Using multiple features (predictors)\n",
        "training_set = dataset_train.values\n",
        "\n",
        "print('Shape of training set == {}.'.format(training_set.shape))"
      ]
    },
    {
      "cell_type": "code",
      "execution_count": 97,
      "metadata": {},
      "outputs": [
        {
          "data": {
            "text/plain": [
              "array([[ 244.832306],\n",
              "       [ 242.147369],\n",
              "       [ 240.827316],\n",
              "       ...,\n",
              "       [1521.619995],\n",
              "       [1515.26001 ],\n",
              "       [1586.98999 ]])"
            ]
          },
          "execution_count": 97,
          "metadata": {},
          "output_type": "execute_result"
        }
      ],
      "source": [
        "training_set[:, 0:1]"
      ]
    },
    {
      "cell_type": "code",
      "execution_count": 98,
      "metadata": {
        "tags": []
      },
      "outputs": [
        {
          "data": {
            "text/plain": [
              "array([[-1.03988439],\n",
              "       [-1.04718024],\n",
              "       [-1.05076726],\n",
              "       ...,\n",
              "       [ 2.42956569],\n",
              "       [ 2.41228353],\n",
              "       [ 2.60719737]])"
            ]
          },
          "execution_count": 98,
          "metadata": {},
          "output_type": "execute_result"
        }
      ],
      "source": [
        "# Feature Scaling\n",
        "from sklearn.preprocessing import StandardScaler\n",
        "\n",
        "sc = StandardScaler()\n",
        "training_set_scaled = sc.fit_transform(training_set)\n",
        "\n",
        "sc_predict = StandardScaler()\n",
        "sc_predict.fit_transform(training_set[:, 0:1])"
      ]
    },
    {
      "cell_type": "code",
      "execution_count": 99,
      "metadata": {
        "tags": []
      },
      "outputs": [
        {
          "name": "stdout",
          "output_type": "stream",
          "text": [
            "X_train shape == (2849, 90, 4).\n",
            "y_train shape == (2849, 1).\n"
          ]
        }
      ],
      "source": [
        "# Creating a data structure with 90 timestamps and 1 output\n",
        "X_train = []\n",
        "y_train = []\n",
        "\n",
        "n_future = 60   # Number of days we want top predict into the future\n",
        "n_past = 90     # Number of past days we want to use to predict the future\n",
        "\n",
        "for i in range(n_past, len(training_set_scaled) - n_future +1):\n",
        "    X_train.append(training_set_scaled[i - n_past:i, 0:dataset_train.shape[1] - 1])\n",
        "    y_train.append(training_set_scaled[i + n_future - 1:i + n_future, 0])\n",
        "\n",
        "X_train, y_train = np.array(X_train), np.array(y_train)\n",
        "\n",
        "print('X_train shape == {}.'.format(X_train.shape))\n",
        "print('y_train shape == {}.'.format(y_train.shape))"
      ]
    },
    {
      "cell_type": "markdown",
      "metadata": {},
      "source": [
        "<h2>PART 2. Create a model. Training</h2>"
      ]
    },
    {
      "cell_type": "markdown",
      "metadata": {},
      "source": [
        "<h3>Step #3. Building the LSTM based Neural Network</h3>"
      ]
    },
    {
      "cell_type": "code",
      "execution_count": 100,
      "metadata": {},
      "outputs": [],
      "source": [
        "# Import Libraries and packages from Keras\n",
        "from keras.models import Sequential\n",
        "from keras.layers import Dense\n",
        "from keras.layers import LSTM\n",
        "from keras.layers import Dropout\n",
        "from keras.optimizers import adam_v2"
      ]
    },
    {
      "cell_type": "code",
      "execution_count": 101,
      "metadata": {
        "tags": []
      },
      "outputs": [],
      "source": [
        "# Initializing the Neural Network based on LSTM\n",
        "model = Sequential()\n",
        "\n",
        "# Adding 1st LSTM layer\n",
        "model.add(LSTM(units=64, return_sequences=True, input_shape=(n_past, dataset_train.shape[1]-1)))\n",
        "\n",
        "# Adding 2nd LSTM layer\n",
        "model.add(LSTM(units=10, return_sequences=False))\n",
        "\n",
        "# Adding Dropout\n",
        "model.add(Dropout(0.25))\n",
        "\n",
        "# Output layer\n",
        "model.add(Dense(units=1, activation='linear'))\n",
        "\n",
        "# Compiling the Neural Network\n",
        "model.compile(optimizer = adam_v2.Adam(learning_rate=0.01), loss='mean_squared_error')"
      ]
    },
    {
      "cell_type": "markdown",
      "metadata": {},
      "source": [
        "<h3>Step #4. Start training</h3>"
      ]
    },
    {
      "cell_type": "code",
      "execution_count": 102,
      "metadata": {
        "tags": []
      },
      "outputs": [
        {
          "name": "stdout",
          "output_type": "stream",
          "text": [
            "Epoch 1/30\n",
            "9/9 [==============================] - ETA: 0s - loss: 0.1664\n",
            "Epoch 00001: val_loss improved from inf to 0.42453, saving model to weights.h5\n",
            "9/9 [==============================] - 15s 554ms/step - loss: 0.1664 - val_loss: 0.4245 - lr: 0.0100\n",
            "Epoch 2/30\n",
            "9/9 [==============================] - ETA: 0s - loss: 0.0487\n",
            "Epoch 00002: val_loss improved from 0.42453 to 0.14746, saving model to weights.h5\n",
            "9/9 [==============================] - 3s 348ms/step - loss: 0.0487 - val_loss: 0.1475 - lr: 0.0100\n",
            "Epoch 3/30\n",
            "9/9 [==============================] - ETA: 0s - loss: 0.0377\n",
            "Epoch 00003: val_loss did not improve from 0.14746\n",
            "9/9 [==============================] - 3s 347ms/step - loss: 0.0377 - val_loss: 0.2765 - lr: 0.0100\n",
            "Epoch 4/30\n",
            "9/9 [==============================] - ETA: 0s - loss: 0.0369\n",
            "Epoch 00004: val_loss did not improve from 0.14746\n",
            "9/9 [==============================] - 3s 347ms/step - loss: 0.0369 - val_loss: 0.2198 - lr: 0.0100\n",
            "Epoch 5/30\n",
            "9/9 [==============================] - ETA: 0s - loss: 0.0334\n",
            "Epoch 00005: val_loss did not improve from 0.14746\n",
            "9/9 [==============================] - 4s 469ms/step - loss: 0.0334 - val_loss: 0.2364 - lr: 0.0100\n",
            "Epoch 6/30\n",
            "9/9 [==============================] - ETA: 0s - loss: 0.0336\n",
            "Epoch 00006: val_loss did not improve from 0.14746\n",
            "9/9 [==============================] - 5s 511ms/step - loss: 0.0336 - val_loss: 0.2010 - lr: 0.0100\n",
            "Epoch 7/30\n",
            "9/9 [==============================] - ETA: 0s - loss: 0.0315\n",
            "Epoch 00007: val_loss did not improve from 0.14746\n",
            "9/9 [==============================] - 5s 493ms/step - loss: 0.0315 - val_loss: 0.3070 - lr: 0.0100\n",
            "Epoch 8/30\n",
            "9/9 [==============================] - ETA: 0s - loss: 0.0339\n",
            "Epoch 00008: val_loss did not improve from 0.14746\n",
            "9/9 [==============================] - 3s 385ms/step - loss: 0.0339 - val_loss: 0.1838 - lr: 0.0100\n",
            "Epoch 9/30\n",
            "9/9 [==============================] - ETA: 0s - loss: 0.0333\n",
            "Epoch 00009: val_loss did not improve from 0.14746\n",
            "9/9 [==============================] - 3s 376ms/step - loss: 0.0333 - val_loss: 0.2665 - lr: 0.0100\n",
            "Epoch 10/30\n",
            "9/9 [==============================] - ETA: 0s - loss: 0.0323\n",
            "Epoch 00010: val_loss did not improve from 0.14746\n",
            "9/9 [==============================] - 3s 363ms/step - loss: 0.0323 - val_loss: 0.2234 - lr: 0.0100\n",
            "Epoch 11/30\n",
            "9/9 [==============================] - ETA: 0s - loss: 0.0326\n",
            "Epoch 00011: val_loss did not improve from 0.14746\n",
            "9/9 [==============================] - 3s 384ms/step - loss: 0.0326 - val_loss: 0.3110 - lr: 0.0100\n",
            "Epoch 12/30\n",
            "9/9 [==============================] - ETA: 0s - loss: 0.0299\n",
            "Epoch 00012: ReduceLROnPlateau reducing learning rate to 0.004999999888241291.\n",
            "\n",
            "Epoch 00012: val_loss did not improve from 0.14746\n",
            "9/9 [==============================] - 3s 359ms/step - loss: 0.0299 - val_loss: 0.2570 - lr: 0.0100\n",
            "Epoch 00012: early stopping\n",
            "CPU times: total: 1min 44s\n",
            "Wall time: 53.9 s\n"
          ]
        }
      ],
      "source": [
        "%%time\n",
        "es = EarlyStopping(monitor='val_loss', min_delta=1e-10, patience=10, verbose=1)\n",
        "rlr = ReduceLROnPlateau(monitor='val_loss', factor=0.5, patience=10, verbose=1)\n",
        "mcp = ModelCheckpoint(filepath='weights.h5', monitor='val_loss', verbose=1, save_best_only=True, save_weights_only=True)\n",
        "\n",
        "tb = TensorBoard('logs')\n",
        "\n",
        "history = model.fit(X_train, y_train, shuffle=True, epochs=30, callbacks=[es, rlr, mcp, tb], validation_split=0.2, verbose=1, batch_size=256)"
      ]
    },
    {
      "cell_type": "markdown",
      "metadata": {},
      "source": [
        "<p>\n",
        "Notes:<br>\n",
        "<ul>\n",
        "<li><b>EarlyStopping</b> - Stop training when a monitored metric has stopped improving.</li>\n",
        "<li><code>monitor</code> - quantity to be monitored.</li>\n",
        "<li><code>min_delta</code> - minimum change in the monitored quantity to qualify as an improvement, i.e. an absolute change of less than <code>min_delta</code>, will count as no improvement.</li>\n",
        "<li><code>patience</code> - number of epochs with no improvement after which training will be stopped.</li>\n",
        "</ul>\n",
        "\n",
        "<ul>\n",
        "<li><b>ReduceLROnPlateau</b> - Reduce learning rate when a metric has stopped improving.</li>\n",
        "<li><code>factor</code> - factor by which the learning rate will be reduced. <code>new_lr = lr * factor</code>.</li>\n",
        "</ul>\n",
        "</p>\n",
        "\n",
        "<hr>\n",
        "\n",
        "<p>\n",
        "The last date for our training set is <code>30-Dec-2016</code>.<br>\n",
        "</p>\n",
        "\n",
        "<p>\n",
        "We will perform predictions for the next <b>20</b> days, since <b>2017-01-01</b> to <b>2017-01-20</b>.\n",
        "</p>"
      ]
    },
    {
      "cell_type": "markdown",
      "metadata": {},
      "source": [
        "<h2>PART 3. Make future predictions</h2>"
      ]
    },
    {
      "cell_type": "code",
      "execution_count": 103,
      "metadata": {},
      "outputs": [],
      "source": [
        "# Generate list of sequence of days for predictions\n",
        "datelist_future = pd.date_range(datelist_train[-1], periods=n_future, freq='1d').tolist()\n",
        "\n",
        "'''\n",
        "Remeber, we have datelist_train from begining.\n",
        "'''\n",
        "\n",
        "# Convert Pandas Timestamp to Datetime object (for transformation) --> FUTURE\n",
        "datelist_future_ = []\n",
        "for this_timestamp in datelist_future:\n",
        "    datelist_future_.append(this_timestamp.date())"
      ]
    },
    {
      "cell_type": "markdown",
      "metadata": {},
      "source": [
        "<h3>Step #5. Make predictions for future dates</h3>"
      ]
    },
    {
      "cell_type": "code",
      "execution_count": 104,
      "metadata": {
        "tags": []
      },
      "outputs": [],
      "source": [
        "# Perform predictions\n",
        "predictions_future = model.predict(X_train[-n_future:])\n",
        "\n",
        "predictions_train = model.predict(X_train[n_past:])"
      ]
    },
    {
      "cell_type": "code",
      "execution_count": 105,
      "metadata": {
        "tags": []
      },
      "outputs": [
        {
          "data": {
            "text/html": [
              "<div>\n",
              "<style scoped>\n",
              "    .dataframe tbody tr th:only-of-type {\n",
              "        vertical-align: middle;\n",
              "    }\n",
              "\n",
              "    .dataframe tbody tr th {\n",
              "        vertical-align: top;\n",
              "    }\n",
              "\n",
              "    .dataframe thead th {\n",
              "        text-align: right;\n",
              "    }\n",
              "</style>\n",
              "<table border=\"1\" class=\"dataframe\">\n",
              "  <thead>\n",
              "    <tr style=\"text-align: right;\">\n",
              "      <th></th>\n",
              "      <th>Open</th>\n",
              "    </tr>\n",
              "  </thead>\n",
              "  <tbody>\n",
              "    <tr>\n",
              "      <th>2009-08-05</th>\n",
              "      <td>247.455658</td>\n",
              "    </tr>\n",
              "    <tr>\n",
              "      <th>2009-08-06</th>\n",
              "      <td>247.679535</td>\n",
              "    </tr>\n",
              "    <tr>\n",
              "      <th>2009-08-07</th>\n",
              "      <td>247.504700</td>\n",
              "    </tr>\n",
              "  </tbody>\n",
              "</table>\n",
              "</div>"
            ],
            "text/plain": [
              "                  Open\n",
              "2009-08-05  247.455658\n",
              "2009-08-06  247.679535\n",
              "2009-08-07  247.504700"
            ]
          },
          "execution_count": 105,
          "metadata": {},
          "output_type": "execute_result"
        }
      ],
      "source": [
        "# Inverse the predictions to original measurements\n",
        "\n",
        "# ---> Special function: convert <datetime.date> to <Timestamp>\n",
        "def datetime_to_timestamp(x):\n",
        "    '''\n",
        "        x : a given datetime value (datetime.date)\n",
        "    '''\n",
        "    return datetime.strptime(x.strftime('%Y%m%d'), '%Y%m%d')\n",
        "\n",
        "\n",
        "y_pred_future = sc_predict.inverse_transform(predictions_future)\n",
        "y_pred_train = sc_predict.inverse_transform(predictions_train)\n",
        "\n",
        "PREDICTIONS_FUTURE = pd.DataFrame(y_pred_future, columns=['Open']).set_index(pd.Series(datelist_future))\n",
        "PREDICTION_TRAIN = pd.DataFrame(y_pred_train, columns=['Open']).set_index(pd.Series(datelist_train[2 * n_past + n_future -1:]))\n",
        "\n",
        "# Convert <datetime.date> to <Timestamp> for PREDCITION_TRAIN\n",
        "PREDICTION_TRAIN.index = PREDICTION_TRAIN.index.to_series().apply(datetime_to_timestamp)\n",
        "\n",
        "PREDICTION_TRAIN.head(3)"
      ]
    },
    {
      "cell_type": "code",
      "execution_count": null,
      "metadata": {},
      "outputs": [],
      "source": [
        "# Parse training set timestamp for better visualization\n",
        "dataset_train = pd.DataFrame(dataset_train, columns=cols)\n",
        "dataset_train.index = datelist_train\n",
        "dataset_train.index = pd.to_datetime(dataset_train.index)"
      ]
    },
    {
      "cell_type": "markdown",
      "metadata": {},
      "source": [
        "<h3>Step #6. Visualize the Predictions</h3>"
      ]
    },
    {
      "cell_type": "code",
      "execution_count": 107,
      "metadata": {},
      "outputs": [
        {
          "data": {
            "image/png": "[encoded data removed]",
            "text/plain": [
              "<Figure size 1008x360 with 1 Axes>"
            ]
          },
          "metadata": {
            "needs_background": "light"
          },
          "output_type": "display_data"
        }
      ],
      "source": [
        "# Set plot size \n",
        "from pylab import rcParams\n",
        "rcParams['figure.figsize'] = 14, 5\n",
        "\n",
        "# Plot parameters\n",
        "START_DATE_FOR_PLOTTING = '2015-06-01'\n",
        "\n",
        "plt.plot(PREDICTIONS_FUTURE.index, PREDICTIONS_FUTURE['Open'], color='r', label='Predicted Stock Price')\n",
        "plt.plot(PREDICTION_TRAIN.loc[START_DATE_FOR_PLOTTING:].index, PREDICTION_TRAIN.loc[START_DATE_FOR_PLOTTING:]['Open'], color='orange', label='Training predictions')\n",
        "plt.plot(dataset_train.loc[START_DATE_FOR_PLOTTING:].index, dataset_train.loc[START_DATE_FOR_PLOTTING:]['Open'], color='b', label='Actual Stock Price')\n",
        "\n",
        "plt.axvline(x = min(PREDICTIONS_FUTURE.index), color='green', linewidth=2, linestyle='--')\n",
        "\n",
        "plt.grid(which='major', color='#cccccc', alpha=0.5)\n",
        "\n",
        "plt.legend(shadow=True)\n",
        "plt.title('Predcitions and Acutal Stock Prices', family='Arial', fontsize=12)\n",
        "plt.xlabel('Timeline', family='Arial', fontsize=10)\n",
        "plt.ylabel('Stock Price Value', family='Arial', fontsize=10)\n",
        "plt.xticks(rotation=45, fontsize=8)\n",
        "plt.show()"
      ]
    }
  ],
  "metadata": {
    "interpreter": {
      "hash": "f2f2458e07bac7c8c3de1e93d9e31725162ebf08e0cd894e418127fa6882b76d"
    },
    "kernelspec": {
      "display_name": "Python 3.7.4 64-bit ('base': conda)",
      "language": "python",
      "name": "python3"
    },
    "language_info": {
      "codemirror_mode": {
        "name": "ipython",
        "version": 3
      },
      "file_extension": ".py",
      "mimetype": "text/x-python",
      "name": "python",
      "nbconvert_exporter": "python",
      "pygments_lexer": "ipython3",
      "version": "3.9.0"
    },
    "orig_nbformat": 2
  },
  "nbformat": 4,
  "nbformat_minor": 2
}
