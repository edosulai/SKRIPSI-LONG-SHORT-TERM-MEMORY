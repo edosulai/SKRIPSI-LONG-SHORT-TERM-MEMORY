{
 "cells": [
  {
   "cell_type": "code",
   "execution_count": 177,
   "metadata": {},
   "outputs": [],
   "source": [
    "class Config:\n",
    "    def __init__(self):\n",
    "        pass\n",
    "\n",
    "def set_config(config_dict):\n",
    "    config = Config()\n",
    "    config.__dict__ = config_dict\n",
    "    return config\n",
    "\n",
    "import numpy as np\n",
    "import pandas as pd\n",
    "import matplotlib.pyplot as plt\n",
    "import datetime as dt\n",
    "from datetime import datetime, timedelta\n",
    "\n",
    "from keras.callbacks import EarlyStopping, ReduceLROnPlateau, ModelCheckpoint, TensorBoard\n",
    "\n",
    "from sklearn.preprocessing import StandardScaler, MinMaxScaler\n",
    "\n",
    "from keras.models import Sequential\n",
    "from keras.layers import Dense\n",
    "from keras.layers import LSTM\n",
    "from keras.layers import Dropout\n",
    "from keras.optimizers import adam_v2\n",
    "from keras import backend as K\n",
    "\n",
    "%matplotlib inline\n",
    "\n",
    "columns_train = ['tavg', 'rh_avg', 'rr', 'ff_avg']\n",
    "# columns_train = ['Open', 'High', 'Low', 'Close', 'Adj Close']\n",
    "\n",
    "config = set_config({\n",
    "    \"input_size\": columns_train.__len__(),\n",
    "    \"seq_len\": 14,\n",
    "    \"batch_size\": 256,\n",
    "    \"output_size\": 1,\n",
    "    \"hidden_size\": 64,\n",
    "    \"num_layers\": 2,\n",
    "    \"dropout\": 0.1,\n",
    "    \"bidirectional\": True,\n",
    "    \"learning_rate\": 0.01,\n",
    "    \"max_epochs\": 30,\n",
    "    \"time_col\": 'tanggal',\n",
    "    # \"time_col\": 'Date',\n",
    "    \"prediction_col\": columns_train[2],\n",
    "    'much_day_predict': 10 + 1,\n",
    "    'validation_split': 0.1,\n",
    "    'suffle': False,\n",
    "})\n",
    "\n",
    "usecols = [config.time_col] + columns_train\n",
    "\n",
    "def root_mean_squared_error(y_true, y_pred):\n",
    "  return K.sqrt(K.mean(K.square(y_pred - y_true)))"
   ]
  },
  {
   "cell_type": "code",
   "execution_count": 96,
   "metadata": {},
   "outputs": [
    {
     "name": "stdout",
     "output_type": "stream",
     "text": [
      "Training set shape == (13028, 5)\n",
      "All timestamps == 13028\n",
      "Featured selected: ['tavg', 'rh_avg', 'rr', 'ff_avg']\n"
     ]
    }
   ],
   "source": [
    "dataset_train = pd.read_csv('../Assets/Data/1985-2021.csv', usecols=usecols).replace(to_replace=[8888, 9999, 2555], value=np.nan)\n",
    "# dataset_train = pd.read_csv('../Assets/Data/GOOG.csv')\n",
    "\n",
    "datelist_train = list(dataset_train[config.time_col])\n",
    "datelist_train = [datetime.strptime(date, '%Y-%m-%d').date() for date in datelist_train]\n",
    "\n",
    "print('Training set shape == {}'.format(dataset_train.shape))\n",
    "print('All timestamps == {}'.format(len(datelist_train)))\n",
    "print('Featured selected: {}'.format(columns_train))"
   ]
  },
  {
   "cell_type": "code",
   "execution_count": 97,
   "metadata": {},
   "outputs": [
    {
     "name": "stdout",
     "output_type": "stream",
     "text": [
      "Shape of training set == (13028, 4).\n"
     ]
    }
   ],
   "source": [
    "dataset_train = dataset_train[columns_train]\n",
    "dataset_train.interpolate(inplace=True)\n",
    "\n",
    "# dataset_train = dataset_train[columns_train].astype(str)\n",
    "# for i in columns_train:\n",
    "#     for j in range(0, len(dataset_train)):\n",
    "#         dataset_train[i][j] = dataset_train[i][j].replace(',', '')\n",
    "\n",
    "# dataset_train = dataset_train.astype(float)\n",
    "\n",
    "training_set = dataset_train.values\n",
    "print('Shape of training set == {}.'.format(training_set.shape))"
   ]
  },
  {
   "cell_type": "code",
   "execution_count": 98,
   "metadata": {},
   "outputs": [
    {
     "data": {
      "text/plain": [
       "array([[0.        ],\n",
       "       [0.08950617],\n",
       "       [0.        ],\n",
       "       ...,\n",
       "       [0.        ],\n",
       "       [0.03842593],\n",
       "       [0.07685185]])"
      ]
     },
     "execution_count": 98,
     "metadata": {},
     "output_type": "execute_result"
    }
   ],
   "source": [
    "sc = MinMaxScaler()\n",
    "training_set_scaled = sc.fit_transform(training_set)\n",
    "\n",
    "sc_predict = MinMaxScaler()\n",
    "sc_predict.fit_transform(training_set[:, 2:3])"
   ]
  },
  {
   "cell_type": "code",
   "execution_count": 99,
   "metadata": {},
   "outputs": [
    {
     "name": "stdout",
     "output_type": "stream",
     "text": [
      "X_train shape == (13005, 14, 3).\n",
      "y_train shape == (13005, 1).\n"
     ]
    }
   ],
   "source": [
    "# Creating a data structure with 90 timestamps and 1 output\n",
    "X_train = []\n",
    "y_train = []\n",
    "\n",
    "n_future = config.much_day_predict   # Number of days we want top predict into the future\n",
    "n_past = config.seq_len     # Number of past days we want to use to predict the future\n",
    "\n",
    "for i in range(n_past, len(training_set_scaled) - n_future +1):\n",
    "    X_train.append(training_set_scaled[i - n_past:i, 0:dataset_train.shape[1] - 1])\n",
    "    y_train.append(training_set_scaled[i + n_future - 1:i + n_future, 2])\n",
    "\n",
    "X_train, y_train = np.array(X_train), np.array(y_train)\n",
    "\n",
    "print('X_train shape == {}.'.format(X_train.shape))\n",
    "print('y_train shape == {}.'.format(y_train.shape))"
   ]
  },
  {
   "cell_type": "code",
   "execution_count": 100,
   "metadata": {},
   "outputs": [],
   "source": [
    "model = Sequential()\n",
    "\n",
    "model.add(LSTM(units=config.hidden_size, return_sequences=True, input_shape=(n_past, dataset_train.shape[1]-1)))\n",
    "model.add(LSTM(units=10, return_sequences=False))\n",
    "model.add(Dropout(config.dropout))\n",
    "model.add(Dense(units=config.output_size, activation='linear'))\n",
    "\n",
    "model.compile(optimizer = adam_v2.Adam(learning_rate=config.learning_rate), loss=root_mean_squared_error)\n",
    "# model.compile(optimizer = adam_v2.Adam(learning_rate=config.learning_rate), loss='mean_squared_error')"
   ]
  },
  {
   "cell_type": "code",
   "execution_count": 101,
   "metadata": {},
   "outputs": [
    {
     "name": "stdout",
     "output_type": "stream",
     "text": [
      "Epoch 1/30\n",
      "46/46 [==============================] - 15s 110ms/step - loss: 0.0823 - val_loss: 0.0711 - lr: 0.0100\n",
      "Epoch 2/30\n",
      "46/46 [==============================] - 3s 64ms/step - loss: 0.0760 - val_loss: 0.0687 - lr: 0.0100\n",
      "Epoch 3/30\n",
      "46/46 [==============================] - 4s 81ms/step - loss: 0.0759 - val_loss: 0.0685 - lr: 0.0100\n",
      "Epoch 4/30\n",
      "46/46 [==============================] - 3s 59ms/step - loss: 0.0750 - val_loss: 0.0689 - lr: 0.0100\n",
      "Epoch 5/30\n",
      "46/46 [==============================] - 3s 58ms/step - loss: 0.0750 - val_loss: 0.0687 - lr: 0.0100\n",
      "Epoch 6/30\n",
      "46/46 [==============================] - 3s 59ms/step - loss: 0.0749 - val_loss: 0.0689 - lr: 0.0100\n",
      "Epoch 7/30\n",
      "46/46 [==============================] - 3s 60ms/step - loss: 0.0750 - val_loss: 0.0690 - lr: 0.0100\n",
      "Epoch 8/30\n",
      "46/46 [==============================] - 3s 69ms/step - loss: 0.0749 - val_loss: 0.0686 - lr: 0.0100\n",
      "Epoch 9/30\n",
      "46/46 [==============================] - 3s 60ms/step - loss: 0.0748 - val_loss: 0.0683 - lr: 0.0100\n",
      "Epoch 10/30\n",
      "46/46 [==============================] - 2s 54ms/step - loss: 0.0746 - val_loss: 0.0687 - lr: 0.0100\n",
      "Epoch 11/30\n",
      "46/46 [==============================] - 3s 56ms/step - loss: 0.0747 - val_loss: 0.0688 - lr: 0.0100\n",
      "Epoch 12/30\n",
      "46/46 [==============================] - 3s 62ms/step - loss: 0.0748 - val_loss: 0.0680 - lr: 0.0100\n",
      "Epoch 13/30\n",
      "46/46 [==============================] - 3s 63ms/step - loss: 0.0745 - val_loss: 0.0678 - lr: 0.0100\n",
      "Epoch 14/30\n",
      "46/46 [==============================] - 3s 60ms/step - loss: 0.0743 - val_loss: 0.0679 - lr: 0.0100\n",
      "Epoch 15/30\n",
      "46/46 [==============================] - 3s 62ms/step - loss: 0.0743 - val_loss: 0.0679 - lr: 0.0100\n",
      "Epoch 16/30\n",
      "46/46 [==============================] - 3s 55ms/step - loss: 0.0743 - val_loss: 0.0683 - lr: 0.0100\n",
      "Epoch 17/30\n",
      "46/46 [==============================] - 3s 56ms/step - loss: 0.0744 - val_loss: 0.0683 - lr: 0.0100\n",
      "Epoch 18/30\n",
      "46/46 [==============================] - 3s 58ms/step - loss: 0.0745 - val_loss: 0.0683 - lr: 0.0100\n",
      "Epoch 19/30\n",
      "46/46 [==============================] - 2s 53ms/step - loss: 0.0744 - val_loss: 0.0681 - lr: 0.0100\n",
      "Epoch 20/30\n",
      "46/46 [==============================] - 2s 53ms/step - loss: 0.0743 - val_loss: 0.0683 - lr: 0.0100\n",
      "Epoch 21/30\n",
      "46/46 [==============================] - 2s 53ms/step - loss: 0.0743 - val_loss: 0.0683 - lr: 0.0100\n",
      "Epoch 22/30\n",
      "46/46 [==============================] - 3s 54ms/step - loss: 0.0742 - val_loss: 0.0685 - lr: 0.0100\n",
      "Epoch 23/30\n",
      "45/46 [============================>.] - ETA: 0s - loss: 0.0743\n",
      "Epoch 00023: ReduceLROnPlateau reducing learning rate to 0.004999999888241291.\n",
      "46/46 [==============================] - 2s 54ms/step - loss: 0.0742 - val_loss: 0.0683 - lr: 0.0100\n",
      "Epoch 00023: early stopping\n",
      "CPU times: total: 2min 30s\n",
      "Wall time: 1min 15s\n"
     ]
    }
   ],
   "source": [
    "%%time\n",
    "es = EarlyStopping(monitor='val_loss', min_delta=1e-10, patience=10, verbose=1)\n",
    "rlr = ReduceLROnPlateau(monitor='val_loss', factor=0.5, patience=10, verbose=1)\n",
    "# mcp = ModelCheckpoint(filepath='weights.h5', monitor='val_loss', verbose=1, save_best_only=True, save_weights_only=True)\n",
    "# tb = TensorBoard('logs')\n",
    "# callbacks = [es, rlr, mcp, tb]\n",
    "callbacks = [es, rlr]\n",
    "\n",
    "history = model.fit(X_train, y_train, shuffle=config.suffle, epochs=config.max_epochs, callbacks=callbacks, validation_split=config.validation_split, verbose=1, batch_size=config.batch_size)"
   ]
  },
  {
   "cell_type": "code",
   "execution_count": 102,
   "metadata": {},
   "outputs": [
    {
     "data": {
      "text/plain": [
       "[0.0822623074054718,\n",
       " 0.07598959654569626,\n",
       " 0.07591700553894043,\n",
       " 0.07499633729457855,\n",
       " 0.07502895593643188,\n",
       " 0.07493630051612854,\n",
       " 0.07495113462209702,\n",
       " 0.07488706707954407,\n",
       " 0.07480928301811218,\n",
       " 0.07461583614349365,\n",
       " 0.07473358511924744,\n",
       " 0.07478554546833038,\n",
       " 0.0744943767786026,\n",
       " 0.07431388646364212,\n",
       " 0.07429597526788712,\n",
       " 0.07427193969488144,\n",
       " 0.07439760863780975,\n",
       " 0.07449370622634888,\n",
       " 0.07441765815019608,\n",
       " 0.07426952570676804,\n",
       " 0.0742649957537651,\n",
       " 0.07423413544893265,\n",
       " 0.07422669976949692]"
      ]
     },
     "execution_count": 102,
     "metadata": {},
     "output_type": "execute_result"
    }
   ],
   "source": [
    "history.history['loss']"
   ]
  },
  {
   "cell_type": "code",
   "execution_count": 103,
   "metadata": {},
   "outputs": [
    {
     "name": "stdout",
     "output_type": "stream",
     "text": [
      "51/51 [==============================] - 1s 24ms/step - loss: 0.0751\n"
     ]
    },
    {
     "data": {
      "text/plain": [
       "0.07510838657617569"
      ]
     },
     "execution_count": 103,
     "metadata": {},
     "output_type": "execute_result"
    }
   ],
   "source": [
    "model.evaluate(X_train, y_train, callbacks=callbacks, verbose=1, batch_size=config.batch_size)"
   ]
  },
  {
   "cell_type": "code",
   "execution_count": 154,
   "metadata": {},
   "outputs": [],
   "source": [
    "# Generate list of sequence of days for predictions\n",
    "# datelist_future = pd.date_range((datelist_train[-1] + datetime.timedelta(days=1)), periods=n_future, freq='1d').tolist()\n",
    "datelist_future = pd.date_range(datelist_train[-1], periods=n_future, freq='1d').tolist()\n",
    "\n",
    "'''\n",
    "Remeber, we have datelist_train from begining.\n",
    "'''\n",
    "\n",
    "# Convert Pandas Timestamp to Datetime object (for transformation) --> FUTURE\n",
    "datelist_future_ = []\n",
    "for this_timestamp in datelist_future:\n",
    "    datelist_future_.append(this_timestamp.date())"
   ]
  },
  {
   "cell_type": "code",
   "execution_count": 155,
   "metadata": {},
   "outputs": [],
   "source": [
    "# Perform predictions\n",
    "predictions_future = model.predict(X_train[-n_future:])\n",
    "\n",
    "predictions_train = model.predict(X_train[n_past:])"
   ]
  },
  {
   "cell_type": "code",
   "execution_count": 190,
   "metadata": {},
   "outputs": [
    {
     "data": {
      "text/html": [
       "<div>\n",
       "<style scoped>\n",
       "    .dataframe tbody tr th:only-of-type {\n",
       "        vertical-align: middle;\n",
       "    }\n",
       "\n",
       "    .dataframe tbody tr th {\n",
       "        vertical-align: top;\n",
       "    }\n",
       "\n",
       "    .dataframe thead th {\n",
       "        text-align: right;\n",
       "    }\n",
       "</style>\n",
       "<table border=\"1\" class=\"dataframe\">\n",
       "  <thead>\n",
       "    <tr style=\"text-align: right;\">\n",
       "      <th></th>\n",
       "      <th>rr</th>\n",
       "    </tr>\n",
       "  </thead>\n",
       "  <tbody>\n",
       "    <tr>\n",
       "      <th>2021-12-31</th>\n",
       "      <td>20.968603</td>\n",
       "    </tr>\n",
       "    <tr>\n",
       "      <th>2022-01-01</th>\n",
       "      <td>20.907274</td>\n",
       "    </tr>\n",
       "    <tr>\n",
       "      <th>2022-01-02</th>\n",
       "      <td>20.600414</td>\n",
       "    </tr>\n",
       "    <tr>\n",
       "      <th>2022-01-03</th>\n",
       "      <td>21.434532</td>\n",
       "    </tr>\n",
       "    <tr>\n",
       "      <th>2022-01-04</th>\n",
       "      <td>22.766701</td>\n",
       "    </tr>\n",
       "    <tr>\n",
       "      <th>2022-01-05</th>\n",
       "      <td>22.846689</td>\n",
       "    </tr>\n",
       "    <tr>\n",
       "      <th>2022-01-06</th>\n",
       "      <td>25.287983</td>\n",
       "    </tr>\n",
       "    <tr>\n",
       "      <th>2022-01-07</th>\n",
       "      <td>26.353153</td>\n",
       "    </tr>\n",
       "    <tr>\n",
       "      <th>2022-01-08</th>\n",
       "      <td>25.614944</td>\n",
       "    </tr>\n",
       "    <tr>\n",
       "      <th>2022-01-09</th>\n",
       "      <td>24.251471</td>\n",
       "    </tr>\n",
       "  </tbody>\n",
       "</table>\n",
       "</div>"
      ],
      "text/plain": [
       "                   rr\n",
       "2021-12-31  20.968603\n",
       "2022-01-01  20.907274\n",
       "2022-01-02  20.600414\n",
       "2022-01-03  21.434532\n",
       "2022-01-04  22.766701\n",
       "2022-01-05  22.846689\n",
       "2022-01-06  25.287983\n",
       "2022-01-07  26.353153\n",
       "2022-01-08  25.614944\n",
       "2022-01-09  24.251471"
      ]
     },
     "execution_count": 190,
     "metadata": {},
     "output_type": "execute_result"
    }
   ],
   "source": [
    "# Inverse the predictions to original measurements\n",
    "\n",
    "# ---> Special function: convert <datetime.date> to <Timestamp>\n",
    "def datetime_to_timestamp(x):\n",
    "    '''\n",
    "        x : a given datetime value (datetime.date)\n",
    "    '''\n",
    "    return datetime.strptime(x.strftime('%Y%m%d'), '%Y%m%d')\n",
    "\n",
    "\n",
    "y_pred_future = sc_predict.inverse_transform(predictions_future)\n",
    "y_pred_train = sc_predict.inverse_transform(predictions_train)\n",
    "\n",
    "PREDICTIONS_FUTURE = pd.DataFrame(y_pred_future, columns=[config.prediction_col]).set_index(pd.Series(datelist_future))\n",
    "PREDICTION_TRAIN = pd.DataFrame(y_pred_train, columns=[config.prediction_col]).set_index(pd.Series(datelist_train[2 * n_past + n_future -1:]))\n",
    "\n",
    "# Convert <datetime.date> to <Timestamp> for PREDCITION_TRAIN\n",
    "PREDICTION_TRAIN.index = PREDICTION_TRAIN.index.to_series().apply(datetime_to_timestamp)\n",
    "\n",
    "PREDICTIONS_FUTURE"
   ]
  },
  {
   "cell_type": "code",
   "execution_count": 255,
   "metadata": {},
   "outputs": [],
   "source": [
    "# Parse training set timestamp for better visualization\n",
    "dataset_train = pd.DataFrame(dataset_train, columns=columns_train)\n",
    "dataset_train.index = datelist_train\n",
    "dataset_train.index = pd.to_datetime(dataset_train.index)\n",
    "\n",
    "START_DATE_FOR_PLOTTING = (datelist_train[-1] - timedelta(days=60)).strftime(\"%Y-%m-%d\")"
   ]
  },
  {
   "cell_type": "code",
   "execution_count": 256,
   "metadata": {},
   "outputs": [],
   "source": [
    "import json\n",
    "\n",
    "new_histori = dataset_train.loc[START_DATE_FOR_PLOTTING:].reset_index().copy()\n",
    "new_histori.rename(columns={new_histori['index'].name: config.time_col}, inplace=True)\n",
    "new_histori[config.time_col] = new_histori[config.time_col].map(lambda x: x.strftime('%Y-%m-%d'))\n",
    "\n",
    "new_train = PREDICTION_TRAIN.loc[START_DATE_FOR_PLOTTING:].reset_index().copy()\n",
    "new_train.rename(columns={new_train['index'].name: config.time_col}, inplace=True)\n",
    "new_train[config.time_col] = new_train[config.time_col].map(lambda x: x.strftime('%Y-%m-%d'))\n",
    "\n",
    "new_future = PREDICTIONS_FUTURE.reset_index().copy()\n",
    "new_future.rename(columns={new_future['index'].name: config.time_col}, inplace=True)\n",
    "new_future[config.time_col] = new_future[config.time_col].map(lambda x: x.strftime('%Y-%m-%d'))\n",
    "\n",
    "\n",
    "jsonFile = open(\"dataFrame.json\", \"w\")\n",
    "jsonFile.write(json.dumps({\n",
    "    'histori': new_histori.to_dict('records'),\n",
    "    'train': new_train.to_dict('records'),\n",
    "    'future': new_future.to_dict('records')\n",
    "}))\n",
    "jsonFile.close()"
   ]
  },
  {
   "cell_type": "code",
   "execution_count": 257,
   "metadata": {},
   "outputs": [
    {
     "data": {
      "image/png": "[encoded data removed]",
      "text/plain": [
       "<Figure size 1008x360 with 1 Axes>"
      ]
     },
     "metadata": {
      "needs_background": "dark"
     },
     "output_type": "display_data"
    }
   ],
   "source": [
    "# Set plot size \n",
    "from pylab import rcParams\n",
    "rcParams['figure.figsize'] = 14, 5\n",
    "\n",
    "plt.plot(PREDICTIONS_FUTURE.index, PREDICTIONS_FUTURE[config.prediction_col], color='r', label='Prediksi')\n",
    "plt.plot(PREDICTION_TRAIN.loc[START_DATE_FOR_PLOTTING:].index, PREDICTION_TRAIN.loc[START_DATE_FOR_PLOTTING:][config.prediction_col], color='orange', label='Pelatihan')\n",
    "plt.plot(dataset_train.loc[START_DATE_FOR_PLOTTING:].index, dataset_train.loc[START_DATE_FOR_PLOTTING:][config.prediction_col], color='b', label='Histori')\n",
    "\n",
    "plt.axvline(x = min(PREDICTIONS_FUTURE.index), color='green', linewidth=2, linestyle='--')\n",
    "\n",
    "plt.grid(which='major', color='#cccccc', alpha=0.5)\n",
    "\n",
    "plt.legend(shadow=True)\n",
    "plt.title('Prediksi dan Histori Curah Hujan', family='Arial', fontsize=12)\n",
    "plt.xlabel('Timeline', family='Arial', fontsize=10)\n",
    "plt.ylabel('Tingkat Curah Hujan', family='Arial', fontsize=10)\n",
    "plt.xticks(rotation=45, fontsize=8)\n",
    "plt.show()"
   ]
  },
  {
   "cell_type": "code",
   "execution_count": null,
   "metadata": {},
   "outputs": [],
   "source": []
  }
 ],
 "metadata": {
  "interpreter": {
   "hash": "f2f2458e07bac7c8c3de1e93d9e31725162ebf08e0cd894e418127fa6882b76d"
  },
  "kernelspec": {
   "display_name": "Python 3.9.0 64-bit",
   "language": "python",
   "name": "python3"
  },
  "language_info": {
   "codemirror_mode": {
    "name": "ipython",
    "version": 3
   },
   "file_extension": ".py",
   "mimetype": "text/x-python",
   "name": "python",
   "nbconvert_exporter": "python",
   "pygments_lexer": "ipython3",
   "version": "3.9.0"
  },
  "orig_nbformat": 4
 },
 "nbformat": 4,
 "nbformat_minor": 2
}
