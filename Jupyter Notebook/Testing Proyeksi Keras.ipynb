{
 "cells": [
  {
   "cell_type": "code",
   "execution_count": 1,
   "metadata": {},
   "outputs": [],
   "source": [
    "class Config:\n",
    "    def __init__(self):\n",
    "        pass\n",
    "\n",
    "def set_config(config_dict):\n",
    "    config = Config()\n",
    "    config.__dict__ = config_dict\n",
    "    return config\n",
    "\n",
    "import math\n",
    "import json\n",
    "\n",
    "import numpy as np\n",
    "import pandas as pd\n",
    "import matplotlib.pyplot as plt\n",
    "import datetime as dt\n",
    "from datetime import datetime, timedelta\n",
    "\n",
    "from keras.callbacks import EarlyStopping, ReduceLROnPlateau, ModelCheckpoint, TensorBoard\n",
    "\n",
    "from sklearn.preprocessing import MinMaxScaler\n",
    "\n",
    "from keras.models import Sequential\n",
    "from keras.layers import Dense\n",
    "from keras.layers import LSTM\n",
    "from keras.layers import Dropout\n",
    "from keras.optimizers import adam_v2\n",
    "from keras.callbacks import Callback\n",
    "from keras import backend as K\n",
    "\n",
    "%matplotlib inline\n",
    "\n",
    "columns_train = ['tavg', 'rh_avg', 'rr', 'ff_avg']\n",
    "\n",
    "config = set_config({\n",
    "    \"input_size\": columns_train.__len__(),\n",
    "    \"seq_len\": 14,\n",
    "    \"batch_size\": 256,\n",
    "    \"output_size\": 1,\n",
    "    \"hidden_size\": 64,\n",
    "    # \"num_layers\": 2,\n",
    "    \"dropout\": 0.1,\n",
    "    \"bidirectional\": True,\n",
    "    \"learning_rate\": 0.01,\n",
    "    \"max_epochs\": 2,\n",
    "    \"time_col\": 'tanggal',\n",
    "    \"prediction_col\": columns_train[2],\n",
    "    'much_day_predict': 10 + 1,\n",
    "    'validation_split': 0.1,\n",
    "    'suffle': False,\n",
    "    'nan_handling': 1,\n",
    "})\n",
    "\n",
    "usecols = [config.time_col] + columns_train\n",
    "\n",
    "def root_mean_squared_error(y_true, y_pred):\n",
    "  return K.sqrt(K.mean(K.square(y_pred - y_true)))\n",
    "\n",
    "def printProgressBar(iteration, total, prefix = '', suffix = '', decimals = 1, length = 100, fill = '█', printEnd = \"\\r\"):\n",
    "    percent = (\"{0:.\" + str(decimals) + \"f}\").format(100 * (iteration / float(total)))\n",
    "    filledLength = int(length * iteration // total)\n",
    "    bar = fill * filledLength + '-' * (length - filledLength)\n",
    "    print(f'\\r{prefix} |{bar}| {percent}% {suffix}', end = printEnd)\n",
    "    # Print New Line on Complete\n",
    "    if iteration == total: \n",
    "        print()"
   ]
  },
  {
   "cell_type": "code",
   "execution_count": 2,
   "metadata": {},
   "outputs": [
    {
     "name": "stdout",
     "output_type": "stream",
     "text": [
      "Training set shape == (8848, 4)\n",
      "All timestamps == 8848\n",
      "Featured selected: ['tavg', 'rh_avg', 'rr', 'ff_avg']\n",
      "Shape of training set == (8848, 4).\n",
      "X_train shape == (8824, 14, 3).\n",
      "y_train shape == (8824, 1).\n"
     ]
    }
   ],
   "source": [
    "dataset_train = pd.read_csv('../Assets/Data/1985-2021.csv', usecols=usecols).replace(to_replace=[8888, 9999, 2555], value=np.nan)\n",
    "\n",
    "if config.nan_handling == 1:\n",
    "  dataset_train.dropna(inplace=True)\n",
    "elif config.nan_handling == 2:\n",
    "  dataset_train.interpolate(inplace=True)\n",
    "\n",
    "datelist_train = list(dataset_train[config.time_col])\n",
    "datelist_train = [datetime.strptime(date, '%Y-%m-%d').date() for date in datelist_train]\n",
    "\n",
    "dataset_train = dataset_train[columns_train]\n",
    "training_set = dataset_train.values\n",
    "\n",
    "print('Training set shape == {}'.format(dataset_train.shape))\n",
    "print('All timestamps == {}'.format(len(datelist_train)))\n",
    "print('Featured selected: {}'.format(columns_train))\n",
    "print('Shape of training set == {}.'.format(training_set.shape))\n",
    "\n",
    "scaller = MinMaxScaler()\n",
    "training_set_scaled = scaller.fit_transform(training_set)\n",
    "\n",
    "sc_predict = MinMaxScaler()\n",
    "sc_predict.fit_transform(training_set[:, 2:3])\n",
    "\n",
    "X_train = []\n",
    "y_train = []\n",
    "\n",
    "n_future = config.much_day_predict   # Number of days we want top predict into the future\n",
    "n_past = config.seq_len     # Number of past days we want to use to predict the future\n",
    "\n",
    "for i in range(n_past, len(training_set_scaled) - n_future +1):\n",
    "    X_train.append(training_set_scaled[i - n_past:i, 0:dataset_train.shape[1] - 1])\n",
    "    y_train.append(training_set_scaled[i + n_future - 1:i + n_future, 2])\n",
    "\n",
    "X_train, y_train = np.array(X_train), np.array(y_train)\n",
    "\n",
    "print('X_train shape == {}.'.format(X_train.shape))\n",
    "print('y_train shape == {}.'.format(y_train.shape))"
   ]
  },
  {
   "cell_type": "code",
   "execution_count": 109,
   "metadata": {},
   "outputs": [
    {
     "name": "stdout",
     "output_type": "stream",
     "text": [
      "Starting Training with Tensor Dimension (N, S, F) : (45 , 14 , 4)\n",
      "\n",
      "Start Epoch 1/2\n",
      "Training Batch 45/45 |█████████████████████████████████████████████| 100.0% Complete - loss : 0.10053\n",
      "Evaluating of Batch 5/5 |█████| 100.0% Complete - loss : 0.06984\n",
      "End Epoch 1/2 of training - loss: 0.10053 - val_loss: 0.06984 - lr: 0.009999999776482582\n",
      "\n",
      "Start Epoch 2/2\n",
      "Training Batch 45/45 |█████████████████████████████████████████████| 100.0% Complete - loss : 0.07625\n",
      "Evaluating of Batch 5/5 |█████| 100.0% Complete - loss : 0.06756\n",
      "End Epoch 2/2 of training - loss: 0.07625 - val_loss: 0.06756 - lr: 0.009999999776482582\n",
      "dict_keys(['loss', 'val_loss'])\n",
      "Stop Training - loss: 0.07625 - val_loss: 0.06756\n"
     ]
    }
   ],
   "source": [
    "model = Sequential()\n",
    "\n",
    "model.add(LSTM(units=config.hidden_size, return_sequences=True, input_shape=(n_past, dataset_train.shape[1]-1)))\n",
    "model.add(LSTM(units=config.hidden_size, return_sequences=False))\n",
    "model.add(Dropout(config.dropout))\n",
    "model.add(Dense(units=config.output_size, activation='linear'))\n",
    "\n",
    "model.compile(optimizer = adam_v2.Adam(learning_rate=config.learning_rate), loss=root_mean_squared_error)\n",
    "\n",
    "batch_train_length = math.floor((y_train.__len__()*(1-config.validation_split))/config.batch_size)\n",
    "batch_test_length = math.floor((y_train.__len__()*config.validation_split)/config.batch_size)\n",
    "\n",
    "class CustomCallback(Callback):\n",
    "    def on_epoch_begin(self, epoch, logs=None):\n",
    "        print(\"\\nStart Epoch {}/{}\".format(epoch + 1, config.max_epochs))\n",
    "\n",
    "    def on_epoch_end(self, epoch, logs=None):\n",
    "        print(\"End Epoch {}/{} of training - loss: {} - val_loss: {} - lr: {}\".format(epoch + 1, config.max_epochs,\n",
    "              round(logs['loss'], 5), round(logs['val_loss'], 5), round(logs['lr'], 5)))\n",
    "\n",
    "    def on_train_begin(self, logs=None):\n",
    "        print(\"Starting Training with Tensor Dimension (N, S, F) : ({} , {} , {})\".format(\n",
    "            batch_train_length, config.seq_len, dataset_train.shape[1]))\n",
    "\n",
    "    def on_train_end(self, logs=None):\n",
    "        print(\"Stop Training - loss: {} - val_loss: {}\".format(\n",
    "            round(logs['loss'], 5), round(logs['val_loss'], 5)))\n",
    "\n",
    "    def on_train_batch_end(self, batch, logs=None):\n",
    "        printProgressBar(batch, batch_train_length, prefix='Training Batch ' + str(batch) + \"/\" + str(\n",
    "            batch_train_length), suffix='Complete - loss : ' + str(round(logs['loss'], 5)), length=batch_train_length)\n",
    "\n",
    "    def on_test_batch_end(self, batch, logs=None):\n",
    "        printProgressBar(batch, batch_test_length, prefix='Evaluating of Batch ' + str(batch) + \"/\" + str(\n",
    "            batch_test_length), suffix='Complete - loss : ' + str(round(logs['loss'], 5)), length=batch_test_length)\n",
    "\n",
    "es = EarlyStopping(monitor='val_loss', min_delta=1e-10, patience=10, verbose=1)\n",
    "rlr = ReduceLROnPlateau(monitor='val_loss', factor=0.5, patience=10, verbose=1)\n",
    "# mcp = ModelCheckpoint(filepath='weights.h5', monitor='val_loss', verbose=1, save_best_only=True, save_weights_only=True)\n",
    "# tb = TensorBoard('logs')\n",
    "\n",
    "history = model.fit(X_train, y_train, shuffle=config.suffle, epochs=config.max_epochs, callbacks=[es, rlr, CustomCallback()], validation_split=config.validation_split, verbose=0, batch_size=config.batch_size)"
   ]
  },
  {
   "cell_type": "code",
   "execution_count": 7,
   "metadata": {},
   "outputs": [
    {
     "name": "stdout",
     "output_type": "stream",
     "text": [
      "406/406 [==============================] - 6s 11ms/step\n",
      "1/1 [==============================] - 0s 39ms/step\n"
     ]
    }
   ],
   "source": [
    "predictions_train = model.predict(X_train[n_past:], verbose=1)\n",
    "predictions_future = model.predict(X_train[-n_future:], verbose=1)"
   ]
  },
  {
   "cell_type": "code",
   "execution_count": 106,
   "metadata": {},
   "outputs": [],
   "source": [
    "START_DATE_FOR_PLOTTING = (\n",
    "    datelist_train[-1] - timedelta(days=180)).strftime(\"%Y-%m-%d\")\n",
    "\n",
    "datelist_future = pd.date_range(\n",
    "    datelist_train[-1], periods=n_future, freq='1d')\n",
    "\n",
    "y_pred_future = sc_predict.inverse_transform(predictions_future)\n",
    "y_pred_train = sc_predict.inverse_transform(predictions_train)\n",
    "\n",
    "PREDICTIONS_FUTURE = pd.DataFrame(y_pred_future, columns=[\n",
    "                                  config.prediction_col]).set_index(pd.Series(datelist_future))\n",
    "PREDICTION_TRAIN = pd.DataFrame(y_pred_train, columns=[config.prediction_col]).set_index(\n",
    "    pd.Series(datelist_train[2 * n_past + n_future - 1:]))\n",
    "DATASET_TRAIN = pd.DataFrame(dataset_train, columns=columns_train).set_index(\n",
    "    pd.Series(datelist_train))\n",
    "\n",
    "PREDICTIONS_FUTURE.index = PREDICTIONS_FUTURE.index.to_series().apply(\n",
    "    lambda x: datetime.strptime(x.strftime('%Y-%m-%d'), '%Y-%m-%d'))\n",
    "PREDICTION_TRAIN.index = PREDICTION_TRAIN.index.to_series().apply(\n",
    "    lambda x: datetime.strptime(x.strftime('%Y-%m-%d'), '%Y-%m-%d'))\n",
    "DATASET_TRAIN.index = DATASET_TRAIN.index.to_series().apply(\n",
    "    lambda x: datetime.strptime(x.strftime('%Y-%m-%d'), '%Y-%m-%d'))\n",
    "\n",
    "jsonFile = open(\"dataFrame.json\", \"w\")\n",
    "jsonFile.write(json.dumps({\n",
    "    'future': pd.DataFrame({\n",
    "        \"tanggal\": [x.strftime('%d-%m-%Y') for x in PREDICTIONS_FUTURE.index],\n",
    "        config.prediction_col: [\n",
    "            x for x in PREDICTIONS_FUTURE[config.prediction_col]]\n",
    "    }).to_dict('records'),\n",
    "    'train': pd.DataFrame({\n",
    "        \"tanggal\": [x.strftime('%d-%m-%Y') for x in PREDICTION_TRAIN.loc[START_DATE_FOR_PLOTTING:].index],\n",
    "        config.prediction_col: PREDICTION_TRAIN.loc[START_DATE_FOR_PLOTTING:][config.prediction_col].tolist()\n",
    "    }).to_dict('records'),\n",
    "    'histori': pd.DataFrame({\n",
    "        \"tanggal\": [x.strftime('%d-%m-%Y') for x in DATASET_TRAIN.loc[START_DATE_FOR_PLOTTING:].index],\n",
    "        config.prediction_col: DATASET_TRAIN.loc[START_DATE_FOR_PLOTTING:][config.prediction_col].tolist()\n",
    "    }).to_dict('records'),\n",
    "}))\n",
    "jsonFile.close()"
   ]
  },
  {
   "cell_type": "code",
   "execution_count": 36,
   "metadata": {},
   "outputs": [
    {
     "data": {
      "image/png": "[encoded data removed]",
      "text/plain": [
       "<Figure size 1008x360 with 1 Axes>"
      ]
     },
     "metadata": {
      "needs_background": "dark"
     },
     "output_type": "display_data"
    }
   ],
   "source": [
    "# Set plot size \n",
    "from pylab import rcParams\n",
    "rcParams['figure.figsize'] = 14, 5\n",
    "\n",
    "plt.plot(PREDICTIONS_FUTURE.index, PREDICTIONS_FUTURE[config.prediction_col], color='r', label='Prediksi')\n",
    "plt.plot(PREDICTION_TRAIN.loc[START_DATE_FOR_PLOTTING:].index, PREDICTION_TRAIN.loc[START_DATE_FOR_PLOTTING:][config.prediction_col], color='orange', label='Pelatihan')\n",
    "plt.plot(DATASET_TRAIN.loc[START_DATE_FOR_PLOTTING:].index, DATASET_TRAIN.loc[START_DATE_FOR_PLOTTING:][config.prediction_col], color='b', label='Histori')\n",
    "\n",
    "plt.axvline(x = min(PREDICTIONS_FUTURE.index), color='green', linewidth=2, linestyle='--')\n",
    "\n",
    "plt.grid(which='major', color='#cccccc', alpha=0.5)\n",
    "\n",
    "plt.legend(shadow=True)\n",
    "plt.title('Prediksi dan Histori Curah Hujan', family='Arial', fontsize=12)\n",
    "plt.xlabel('Timeline', family='Arial', fontsize=10)\n",
    "plt.ylabel('Tingkat Curah Hujan', family='Arial', fontsize=10)\n",
    "plt.xticks(rotation=45, fontsize=8)\n",
    "plt.show()"
   ]
  },
  {
   "cell_type": "code",
   "execution_count": null,
   "metadata": {},
   "outputs": [],
   "source": []
  }
 ],
 "metadata": {
  "interpreter": {
   "hash": "f2f2458e07bac7c8c3de1e93d9e31725162ebf08e0cd894e418127fa6882b76d"
  },
  "kernelspec": {
   "display_name": "Python 3.9.0 64-bit",
   "language": "python",
   "name": "python3"
  },
  "language_info": {
   "codemirror_mode": {
    "name": "ipython",
    "version": 3
   },
   "file_extension": ".py",
   "mimetype": "text/x-python",
   "name": "python",
   "nbconvert_exporter": "python",
   "pygments_lexer": "ipython3",
   "version": "3.9.0"
  },
  "orig_nbformat": 4
 },
 "nbformat": 4,
 "nbformat_minor": 2
}
