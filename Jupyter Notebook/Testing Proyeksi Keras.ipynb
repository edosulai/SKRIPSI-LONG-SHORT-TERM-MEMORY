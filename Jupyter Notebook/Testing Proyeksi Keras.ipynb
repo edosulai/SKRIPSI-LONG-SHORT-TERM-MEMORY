{
 "cells": [
  {
   "cell_type": "code",
   "execution_count": 72,
   "metadata": {},
   "outputs": [],
   "source": [
    "class Config:\n",
    "    def __init__(self):\n",
    "        pass\n",
    "\n",
    "def set_config(config_dict):\n",
    "    config = Config()\n",
    "    config.__dict__ = config_dict\n",
    "    return config\n",
    "\n",
    "# Import modules and packages\n",
    "import numpy as np\n",
    "import pandas as pd\n",
    "import matplotlib.pyplot as plt\n",
    "import datetime as dt\n",
    "from datetime import datetime\n",
    "\n",
    "from keras.callbacks import EarlyStopping, ReduceLROnPlateau, ModelCheckpoint, TensorBoard\n",
    "\n",
    "from sklearn.preprocessing import StandardScaler, MinMaxScaler\n",
    "\n",
    "# Import Libraries and packages from Keras\n",
    "from keras.models import Sequential\n",
    "from keras.layers import Dense\n",
    "from keras.layers import LSTM\n",
    "from keras.layers import Dropout\n",
    "from keras.optimizers import adam_v2\n",
    "from keras import backend as K\n",
    "\n",
    "%matplotlib inline\n",
    "\n",
    "columns_train = ['tavg', 'rh_avg', 'rr', 'ff_avg']\n",
    "# columns_train = ['Open', 'High', 'Low', 'Close', 'Adj Close']\n",
    "\n",
    "config = set_config({\n",
    "    \"input_size\": columns_train.__len__(),\n",
    "    \"seq_len\": 90,\n",
    "    \"batch_size\": 256,\n",
    "    \"output_size\": 1,\n",
    "    \"hidden_size\": 64,\n",
    "    \"num_layers\": 2,\n",
    "    \"dropout\": 0.1,\n",
    "    \"bidirectional\": True,\n",
    "    \"learning_rate\": 0.01,\n",
    "    \"max_epochs\": 30,\n",
    "    \"time_col\": 'tanggal',\n",
    "    # \"time_col\": 'Date',\n",
    "    \"prediction_col\": columns_train[0],\n",
    "    'much_day_predict': 60,\n",
    "    'validation_split': 0.1,\n",
    "})\n",
    "\n",
    "usecols = [config.time_col] + columns_train\n",
    "\n",
    "def root_mean_squared_error(y_true, y_pred):\n",
    "  return K.sqrt(K.mean(K.square(y_pred - y_true)))"
   ]
  },
  {
   "cell_type": "code",
   "execution_count": 73,
   "metadata": {},
   "outputs": [
    {
     "name": "stdout",
     "output_type": "stream",
     "text": [
      "Training set shape == (13028, 5)\n",
      "All timestamps == 13028\n",
      "Featured selected: ['tavg', 'rh_avg', 'rr', 'ff_avg']\n"
     ]
    }
   ],
   "source": [
    "dataset_train = pd.read_csv('../Assets/Data/1985-2021.csv', usecols=usecols).replace(to_replace=[8888, 9999, 2555], value=np.nan)\n",
    "# dataset_train = pd.read_csv('../Assets/Data/GOOG.csv')\n",
    "\n",
    "datelist_train = list(dataset_train[config.time_col])\n",
    "datelist_train = [dt.datetime.strptime(date, '%Y-%m-%d').date() for date in datelist_train]\n",
    "\n",
    "print('Training set shape == {}'.format(dataset_train.shape))\n",
    "print('All timestamps == {}'.format(len(datelist_train)))\n",
    "print('Featured selected: {}'.format(columns_train))"
   ]
  },
  {
   "cell_type": "code",
   "execution_count": 74,
   "metadata": {},
   "outputs": [
    {
     "name": "stdout",
     "output_type": "stream",
     "text": [
      "Shape of training set == (13028, 4).\n"
     ]
    }
   ],
   "source": [
    "dataset_train = dataset_train[columns_train]\n",
    "dataset_train.interpolate(inplace=True)\n",
    "\n",
    "# dataset_train = dataset_train[columns_train].astype(str)\n",
    "# for i in columns_train:\n",
    "#     for j in range(0, len(dataset_train)):\n",
    "#         dataset_train[i][j] = dataset_train[i][j].replace(',', '')\n",
    "\n",
    "# dataset_train = dataset_train.astype(float)\n",
    "\n",
    "training_set = dataset_train.values\n",
    "print('Shape of training set == {}.'.format(training_set.shape))"
   ]
  },
  {
   "cell_type": "code",
   "execution_count": 75,
   "metadata": {},
   "outputs": [
    {
     "data": {
      "text/plain": [
       "array([[0.5625  ],\n",
       "       [0.796875],\n",
       "       [0.875   ],\n",
       "       ...,\n",
       "       [0.75    ],\n",
       "       [0.828125],\n",
       "       [0.90625 ]])"
      ]
     },
     "execution_count": 75,
     "metadata": {},
     "output_type": "execute_result"
    }
   ],
   "source": [
    "sc = MinMaxScaler()\n",
    "training_set_scaled = sc.fit_transform(training_set)\n",
    "\n",
    "sc_predict = MinMaxScaler()\n",
    "sc_predict.fit_transform(training_set[:, 0:1])"
   ]
  },
  {
   "cell_type": "code",
   "execution_count": 76,
   "metadata": {},
   "outputs": [
    {
     "name": "stdout",
     "output_type": "stream",
     "text": [
      "X_train shape == (12879, 90, 3).\n",
      "y_train shape == (12879, 1).\n"
     ]
    }
   ],
   "source": [
    "# Creating a data structure with 90 timestamps and 1 output\n",
    "X_train = []\n",
    "y_train = []\n",
    "\n",
    "n_future = config.much_day_predict   # Number of days we want top predict into the future\n",
    "n_past = config.seq_len     # Number of past days we want to use to predict the future\n",
    "\n",
    "for i in range(n_past, len(training_set_scaled) - n_future +1):\n",
    "    X_train.append(training_set_scaled[i - n_past:i, 0:dataset_train.shape[1] - 1])\n",
    "    y_train.append(training_set_scaled[i + n_future - 1:i + n_future, 0])\n",
    "\n",
    "X_train, y_train = np.array(X_train), np.array(y_train)\n",
    "\n",
    "print('X_train shape == {}.'.format(X_train.shape))\n",
    "print('y_train shape == {}.'.format(y_train.shape))"
   ]
  },
  {
   "cell_type": "code",
   "execution_count": 77,
   "metadata": {},
   "outputs": [],
   "source": [
    "from keras.models import Sequential\n",
    "from keras.layers import Dense\n",
    "from keras.layers import LSTM\n",
    "from keras.layers import Dropout\n",
    "from keras.optimizers import adam_v2"
   ]
  },
  {
   "cell_type": "code",
   "execution_count": 78,
   "metadata": {},
   "outputs": [],
   "source": [
    "model = Sequential()\n",
    "\n",
    "model.add(LSTM(units=config.hidden_size, return_sequences=True, input_shape=(n_past, dataset_train.shape[1]-1)))\n",
    "model.add(LSTM(units=10, return_sequences=False))\n",
    "model.add(Dropout(config.dropout))\n",
    "model.add(Dense(units=config.output_size, activation='linear'))\n",
    "\n",
    "model.compile(optimizer = adam_v2.Adam(learning_rate=config.learning_rate), loss=root_mean_squared_error)\n",
    "# model.compile(optimizer = adam_v2.Adam(learning_rate=config.learning_rate), loss='mean_squared_error')"
   ]
  },
  {
   "cell_type": "code",
   "execution_count": 79,
   "metadata": {},
   "outputs": [
    {
     "name": "stdout",
     "output_type": "stream",
     "text": [
      "Epoch 1/30\n",
      "46/46 [==============================] - ETA: 0s - loss: 0.1213\n",
      "Epoch 00001: val_loss improved from inf to 0.09889, saving model to weights.h5\n",
      "46/46 [==============================] - 28s 400ms/step - loss: 0.1213 - val_loss: 0.0989 - lr: 0.0100\n",
      "Epoch 2/30\n",
      "46/46 [==============================] - ETA: 0s - loss: 0.0978\n",
      "Epoch 00002: val_loss did not improve from 0.09889\n",
      "46/46 [==============================] - 16s 347ms/step - loss: 0.0978 - val_loss: 0.1092 - lr: 0.0100\n",
      "Epoch 3/30\n",
      "46/46 [==============================] - ETA: 0s - loss: 0.0950\n",
      "Epoch 00003: val_loss improved from 0.09889 to 0.09355, saving model to weights.h5\n",
      "46/46 [==============================] - 15s 335ms/step - loss: 0.0950 - val_loss: 0.0935 - lr: 0.0100\n",
      "Epoch 4/30\n",
      "46/46 [==============================] - ETA: 0s - loss: 0.0919\n",
      "Epoch 00004: val_loss did not improve from 0.09355\n",
      "46/46 [==============================] - 16s 341ms/step - loss: 0.0919 - val_loss: 0.0943 - lr: 0.0100\n",
      "Epoch 5/30\n",
      "46/46 [==============================] - ETA: 0s - loss: 0.0908\n",
      "Epoch 00005: val_loss improved from 0.09355 to 0.09337, saving model to weights.h5\n",
      "46/46 [==============================] - 16s 336ms/step - loss: 0.0908 - val_loss: 0.0934 - lr: 0.0100\n",
      "Epoch 6/30\n",
      "46/46 [==============================] - ETA: 0s - loss: 0.0894\n",
      "Epoch 00006: val_loss did not improve from 0.09337\n",
      "46/46 [==============================] - 15s 329ms/step - loss: 0.0894 - val_loss: 0.0943 - lr: 0.0100\n",
      "Epoch 7/30\n",
      "46/46 [==============================] - ETA: 0s - loss: 0.0893\n",
      "Epoch 00007: val_loss improved from 0.09337 to 0.09319, saving model to weights.h5\n",
      "46/46 [==============================] - 15s 336ms/step - loss: 0.0893 - val_loss: 0.0932 - lr: 0.0100\n",
      "Epoch 8/30\n",
      "46/46 [==============================] - ETA: 0s - loss: 0.0887\n",
      "Epoch 00008: val_loss improved from 0.09319 to 0.09316, saving model to weights.h5\n",
      "46/46 [==============================] - 16s 342ms/step - loss: 0.0887 - val_loss: 0.0932 - lr: 0.0100\n",
      "Epoch 9/30\n",
      "46/46 [==============================] - ETA: 0s - loss: 0.0882\n",
      "Epoch 00009: val_loss improved from 0.09316 to 0.09271, saving model to weights.h5\n",
      "46/46 [==============================] - 16s 343ms/step - loss: 0.0882 - val_loss: 0.0927 - lr: 0.0100\n",
      "Epoch 10/30\n",
      "46/46 [==============================] - ETA: 0s - loss: 0.0889\n",
      "Epoch 00010: val_loss did not improve from 0.09271\n",
      "46/46 [==============================] - 16s 357ms/step - loss: 0.0889 - val_loss: 0.1050 - lr: 0.0100\n",
      "Epoch 11/30\n",
      "46/46 [==============================] - ETA: 0s - loss: 0.0889\n",
      "Epoch 00011: val_loss did not improve from 0.09271\n",
      "46/46 [==============================] - 16s 341ms/step - loss: 0.0889 - val_loss: 0.0933 - lr: 0.0100\n",
      "Epoch 12/30\n",
      "46/46 [==============================] - ETA: 0s - loss: 0.0881\n",
      "Epoch 00012: val_loss did not improve from 0.09271\n",
      "46/46 [==============================] - 17s 379ms/step - loss: 0.0881 - val_loss: 0.0931 - lr: 0.0100\n",
      "Epoch 13/30\n",
      "46/46 [==============================] - ETA: 0s - loss: 0.0880\n",
      "Epoch 00013: val_loss did not improve from 0.09271\n",
      "46/46 [==============================] - 14s 303ms/step - loss: 0.0880 - val_loss: 0.0937 - lr: 0.0100\n",
      "Epoch 14/30\n",
      "46/46 [==============================] - ETA: 0s - loss: 0.0879\n",
      "Epoch 00014: val_loss did not improve from 0.09271\n",
      "46/46 [==============================] - 14s 300ms/step - loss: 0.0879 - val_loss: 0.0953 - lr: 0.0100\n",
      "Epoch 15/30\n",
      "46/46 [==============================] - ETA: 0s - loss: 0.0881\n",
      "Epoch 00015: val_loss did not improve from 0.09271\n",
      "46/46 [==============================] - 14s 300ms/step - loss: 0.0881 - val_loss: 0.0937 - lr: 0.0100\n",
      "Epoch 16/30\n",
      "46/46 [==============================] - ETA: 0s - loss: 0.0883\n",
      "Epoch 00016: val_loss did not improve from 0.09271\n",
      "46/46 [==============================] - 14s 308ms/step - loss: 0.0883 - val_loss: 0.0970 - lr: 0.0100\n",
      "Epoch 17/30\n",
      "46/46 [==============================] - ETA: 0s - loss: 0.0879\n",
      "Epoch 00017: val_loss did not improve from 0.09271\n",
      "46/46 [==============================] - 14s 301ms/step - loss: 0.0879 - val_loss: 0.0951 - lr: 0.0100\n",
      "Epoch 18/30\n",
      "46/46 [==============================] - ETA: 0s - loss: 0.0879\n",
      "Epoch 00018: val_loss did not improve from 0.09271\n",
      "46/46 [==============================] - 14s 304ms/step - loss: 0.0879 - val_loss: 0.0935 - lr: 0.0100\n",
      "Epoch 19/30\n",
      "46/46 [==============================] - ETA: 0s - loss: 0.0879\n",
      "Epoch 00019: ReduceLROnPlateau reducing learning rate to 0.004999999888241291.\n",
      "\n",
      "Epoch 00019: val_loss did not improve from 0.09271\n",
      "46/46 [==============================] - 14s 299ms/step - loss: 0.0879 - val_loss: 0.0928 - lr: 0.0100\n",
      "Epoch 00019: early stopping\n",
      "CPU times: total: 11min 58s\n",
      "Wall time: 5min\n"
     ]
    }
   ],
   "source": [
    "%%time\n",
    "es = EarlyStopping(monitor='val_loss', min_delta=1e-10, patience=10, verbose=1)\n",
    "rlr = ReduceLROnPlateau(monitor='val_loss', factor=0.5, patience=10, verbose=1)\n",
    "mcp = ModelCheckpoint(filepath='weights.h5', monitor='val_loss', verbose=1, save_best_only=True, save_weights_only=True)\n",
    "\n",
    "tb = TensorBoard('logs')\n",
    "\n",
    "history = model.fit(X_train, y_train, shuffle=True, epochs=config.max_epochs, callbacks=[es, rlr, mcp, tb], validation_split=config.validation_split, verbose=1, batch_size=config.batch_size)"
   ]
  },
  {
   "cell_type": "code",
   "execution_count": 80,
   "metadata": {},
   "outputs": [],
   "source": [
    "# Generate list of sequence of days for predictions\n",
    "datelist_future = pd.date_range(datelist_train[-1], periods=n_future, freq='1d').tolist()\n",
    "\n",
    "'''\n",
    "Remeber, we have datelist_train from begining.\n",
    "'''\n",
    "\n",
    "# Convert Pandas Timestamp to Datetime object (for transformation) --> FUTURE\n",
    "datelist_future_ = []\n",
    "for this_timestamp in datelist_future:\n",
    "    datelist_future_.append(this_timestamp.date())"
   ]
  },
  {
   "cell_type": "code",
   "execution_count": 81,
   "metadata": {},
   "outputs": [],
   "source": [
    "# Perform predictions\n",
    "predictions_future = model.predict(X_train[-n_future:])\n",
    "\n",
    "predictions_train = model.predict(X_train[n_past:])"
   ]
  },
  {
   "cell_type": "code",
   "execution_count": 82,
   "metadata": {},
   "outputs": [
    {
     "data": {
      "text/html": [
       "<div>\n",
       "<style scoped>\n",
       "    .dataframe tbody tr th:only-of-type {\n",
       "        vertical-align: middle;\n",
       "    }\n",
       "\n",
       "    .dataframe tbody tr th {\n",
       "        vertical-align: top;\n",
       "    }\n",
       "\n",
       "    .dataframe thead th {\n",
       "        text-align: right;\n",
       "    }\n",
       "</style>\n",
       "<table border=\"1\" class=\"dataframe\">\n",
       "  <thead>\n",
       "    <tr style=\"text-align: right;\">\n",
       "      <th></th>\n",
       "      <th>rh_avg</th>\n",
       "    </tr>\n",
       "  </thead>\n",
       "  <tbody>\n",
       "    <tr>\n",
       "      <th>1985-08-28</th>\n",
       "      <td>69.716049</td>\n",
       "    </tr>\n",
       "    <tr>\n",
       "      <th>1985-08-29</th>\n",
       "      <td>69.497673</td>\n",
       "    </tr>\n",
       "    <tr>\n",
       "      <th>1985-08-30</th>\n",
       "      <td>69.297340</td>\n",
       "    </tr>\n",
       "  </tbody>\n",
       "</table>\n",
       "</div>"
      ],
      "text/plain": [
       "               rh_avg\n",
       "1985-08-28  69.716049\n",
       "1985-08-29  69.497673\n",
       "1985-08-30  69.297340"
      ]
     },
     "execution_count": 82,
     "metadata": {},
     "output_type": "execute_result"
    }
   ],
   "source": [
    "# Inverse the predictions to original measurements\n",
    "\n",
    "# ---> Special function: convert <datetime.date> to <Timestamp>\n",
    "def datetime_to_timestamp(x):\n",
    "    '''\n",
    "        x : a given datetime value (datetime.date)\n",
    "    '''\n",
    "    return datetime.strptime(x.strftime('%Y%m%d'), '%Y%m%d')\n",
    "\n",
    "\n",
    "y_pred_future = sc_predict.inverse_transform(predictions_future)\n",
    "y_pred_train = sc_predict.inverse_transform(predictions_train)\n",
    "\n",
    "PREDICTIONS_FUTURE = pd.DataFrame(y_pred_future, columns=[config.prediction_col]).set_index(pd.Series(datelist_future))\n",
    "PREDICTION_TRAIN = pd.DataFrame(y_pred_train, columns=[config.prediction_col]).set_index(pd.Series(datelist_train[2 * n_past + n_future -1:]))\n",
    "\n",
    "# Convert <datetime.date> to <Timestamp> for PREDCITION_TRAIN\n",
    "PREDICTION_TRAIN.index = PREDICTION_TRAIN.index.to_series().apply(datetime_to_timestamp)\n",
    "\n",
    "PREDICTION_TRAIN.head(3)"
   ]
  },
  {
   "cell_type": "code",
   "execution_count": 83,
   "metadata": {},
   "outputs": [],
   "source": [
    "# Parse training set timestamp for better visualization\n",
    "dataset_train = pd.DataFrame(dataset_train, columns=columns_train)\n",
    "dataset_train.index = datelist_train\n",
    "dataset_train.index = pd.to_datetime(dataset_train.index)"
   ]
  },
  {
   "cell_type": "code",
   "execution_count": 84,
   "metadata": {},
   "outputs": [
    {
     "data": {
      "image/png": "[encoded data removed]",
      "text/plain": [
       "<Figure size 1008x360 with 1 Axes>"
      ]
     },
     "metadata": {
      "needs_background": "light"
     },
     "output_type": "display_data"
    }
   ],
   "source": [
    "# Set plot size \n",
    "from pylab import rcParams\n",
    "rcParams['figure.figsize'] = 14, 5\n",
    "\n",
    "# Plot parameters\n",
    "START_DATE_FOR_PLOTTING = '2021-06-01'\n",
    "\n",
    "plt.plot(PREDICTIONS_FUTURE.index, PREDICTIONS_FUTURE[config.prediction_col], color='r', label='Prediksi')\n",
    "plt.plot(PREDICTION_TRAIN.loc[START_DATE_FOR_PLOTTING:].index, PREDICTION_TRAIN.loc[START_DATE_FOR_PLOTTING:][config.prediction_col], color='orange', label='Pelatihan')\n",
    "plt.plot(dataset_train.loc[START_DATE_FOR_PLOTTING:].index, dataset_train.loc[START_DATE_FOR_PLOTTING:][config.prediction_col], color='b', label='Histori')\n",
    "\n",
    "plt.axvline(x = min(PREDICTIONS_FUTURE.index), color='green', linewidth=2, linestyle='--')\n",
    "\n",
    "plt.grid(which='major', color='#cccccc', alpha=0.5)\n",
    "\n",
    "plt.legend(shadow=True)\n",
    "plt.title('Prediksi dan Histori', family='Arial', fontsize=12)\n",
    "plt.xlabel('Timeline', family='Arial', fontsize=10)\n",
    "plt.ylabel('Curah Hujan', family='Arial', fontsize=10)\n",
    "plt.xticks(rotation=45, fontsize=8)\n",
    "plt.show()"
   ]
  },
  {
   "cell_type": "code",
   "execution_count": null,
   "metadata": {},
   "outputs": [],
   "source": []
  }
 ],
 "metadata": {
  "interpreter": {
   "hash": "f2f2458e07bac7c8c3de1e93d9e31725162ebf08e0cd894e418127fa6882b76d"
  },
  "kernelspec": {
   "display_name": "Python 3.9.0 64-bit",
   "language": "python",
   "name": "python3"
  },
  "language_info": {
   "codemirror_mode": {
    "name": "ipython",
    "version": 3
   },
   "file_extension": ".py",
   "mimetype": "text/x-python",
   "name": "python",
   "nbconvert_exporter": "python",
   "pygments_lexer": "ipython3",
   "version": "3.9.0"
  },
  "orig_nbformat": 4
 },
 "nbformat": 4,
 "nbformat_minor": 2
}
