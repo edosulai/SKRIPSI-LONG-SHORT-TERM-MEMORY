{
 "cells": [
  {
   "cell_type": "code",
   "execution_count": 4,
   "metadata": {},
   "outputs": [],
   "source": [
    "import pandas as pd\n",
    "import numpy as np\n",
    "import os\n",
    "import glob\n",
    "\n",
    "from datetime import datetime"
   ]
  },
  {
   "cell_type": "code",
   "execution_count": 5,
   "metadata": {},
   "outputs": [],
   "source": [
    "path = os.getcwd()\n",
    "dateparse = lambda x: datetime.strptime(x, '%d-%m-%Y')\n",
    "appended_year = []\n",
    "for year in ['1985', '1986', '1987', '1988', '1989', '1990', '1991', '1992', '1993', '1994', '1995', '1996', '1997', '1998', '1999', '2000', '2001', '2002', '2003', '2004', '2005', '2006', '2007', '2008', '2009', '2010', '2011', '2012', '2013', '2014', '2015', '2016', '2017', '2018', '2019', '2020', '2021']:\n",
    "    xlsx_files = glob.glob(os.path.join(\n",
    "        path, \"../Assets/Data/\" + year + \"/\", \"*.xlsx\"))\n",
    "\n",
    "    appended_month = []\n",
    "    for xlsx in xlsx_files:\n",
    "        appended_month.append(\n",
    "            pd.read_excel(xlsx,\n",
    "                          skiprows=[1, 2, 3, 4, 5, 6, 7, 8],\n",
    "                          skipfooter=16,\n",
    "            date_parser=dateparse, parse_dates=[0]))\n",
    "    appended_year.append(pd.concat(appended_month))\n",
    "\n",
    "appended_year = pd.concat(appended_year)\n",
    "appended_year.columns = ['tanggal', 'tn', 'tx', 'tavg',\n",
    "                         'rh_avg', 'rr', 'ss', 'ff_x', 'ddd_x', 'ff_avg', 'ddd_car']"
   ]
  },
  {
   "cell_type": "code",
   "execution_count": 6,
   "metadata": {},
   "outputs": [],
   "source": [
    "appended_year.to_csv(os.path.join(path, \"../Assets/Data/1985-2021.csv\"), index=False)"
   ]
  },
  {
   "cell_type": "code",
   "execution_count": 7,
   "metadata": {},
   "outputs": [],
   "source": [
    "# appended_year.reset_index(drop=True, inplace=True)\n",
    "# appended_year.reindex(range(0, len(appended_year)))\n",
    "# appended_year.to_csv(os.path.join(path, \"../Assets/Data/1985-2021.csv\"))"
   ]
  }
 ],
 "metadata": {
  "interpreter": {
   "hash": "0d008810b9c8467bcb3ca39aa2180e5b81b3a9acb136aab30d47954377cc5120"
  },
  "kernelspec": {
   "display_name": "Python 3.9.6 64-bit",
   "language": "python",
   "name": "python3"
  },
  "language_info": {
   "codemirror_mode": {
    "name": "ipython",
    "version": 3
   },
   "file_extension": ".py",
   "mimetype": "text/x-python",
   "name": "python",
   "nbconvert_exporter": "python",
   "pygments_lexer": "ipython3",
   "version": "3.9.0"
  },
  "orig_nbformat": 4
 },
 "nbformat": 4,
 "nbformat_minor": 2
}
