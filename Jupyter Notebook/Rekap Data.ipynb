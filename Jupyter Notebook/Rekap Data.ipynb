{
 "cells": [
  {
   "cell_type": "code",
   "execution_count": 3,
   "metadata": {},
   "outputs": [],
   "source": [
    "import pandas as pd\n",
    "import os\n",
    "import glob"
   ]
  },
  {
   "cell_type": "code",
   "execution_count": 4,
   "metadata": {},
   "outputs": [],
   "source": [
    "path = os.getcwd()\n",
    "\n",
    "appended_year = []\n",
    "for year in ['1985', '1986', '1987', '1988', '1989', '1990', '1991', '1992', '1993', '1994', '1995', '1996', '1997', '1998', '1999', '2000', '2001', '2002', '2003', '2004', '2005', '2006', '2007', '2008', '2009', '2010', '2010', '2011', '2012', '2013', '2014', '2015', '2016', '2017', '2018', '2019', '2020', '2021']:\n",
    "    xlsx_files = glob.glob(os.path.join(\n",
    "        path, \"..\\\\Data\\\\\" + year + \"\\\\\", \"*.xlsx\"))\n",
    "\n",
    "    appended_month = []\n",
    "    for xlsx in xlsx_files:\n",
    "        appended_month.append(\n",
    "            pd.read_excel(xlsx,\n",
    "                          skiprows=[1, 2, 3, 4, 5, 6, 7, 8],\n",
    "                          skipfooter=16))\n",
    "    appended_year.append(pd.concat(appended_month))\n",
    "\n",
    "appended_year = pd.concat(appended_year)\n",
    "appended_year.columns = ['Tanggal', 'Tn', 'Tx', 'Tavg',\n",
    "                         'RH_avg', 'RR', 'ss', 'ff_x', 'ddd_x', 'ff_avg', 'ddd_car']\n",
    "appended_year.to_csv(os.path.join(path, \"..\\\\Data\\\\1985-2021.csv\"), index=False)\n"
   ]
  }
 ],
 "metadata": {
  "interpreter": {
   "hash": "0d008810b9c8467bcb3ca39aa2180e5b81b3a9acb136aab30d47954377cc5120"
  },
  "kernelspec": {
   "display_name": "Python 3.9.6 64-bit",
   "language": "python",
   "name": "python3"
  },
  "language_info": {
   "codemirror_mode": {
    "name": "ipython",
    "version": 3
   },
   "file_extension": ".py",
   "mimetype": "text/x-python",
   "name": "python",
   "nbconvert_exporter": "python",
   "pygments_lexer": "ipython3",
   "version": "3.9.0"
  },
  "orig_nbformat": 4
 },
 "nbformat": 4,
 "nbformat_minor": 2
}
