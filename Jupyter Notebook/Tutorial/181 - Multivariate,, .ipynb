{
 "cells": [
  {
   "cell_type": "code",
   "execution_count": 1,
   "metadata": {},
   "outputs": [],
   "source": [
    "# https://youtu.be/tepxdcepTbY\n",
    "\"\"\"\n",
    "@author: Sreenivas Bhattiprolu\n",
    "Code tested on Tensorflow: 2.2.0\n",
    "    Keras: 2.4.3\n",
    "dataset: https://finance.yahoo.com/quote/GE/history/\n",
    "Also try S&P: https://finance.yahoo.com/quote/%5EGSPC/history?p=%5EGSPC\n",
    "\"\"\"\n",
    "\n",
    "import numpy as np\n",
    "from tensorflow.keras.models import Sequential\n",
    "from tensorflow.keras.layers import LSTM\n",
    "from tensorflow.keras.layers import Dense, Dropout\n",
    "import pandas as pd\n",
    "from matplotlib import pyplot as plt\n",
    "from sklearn.preprocessing import StandardScaler\n",
    "import seaborn as sns\n",
    "#from datetime import datetime"
   ]
  },
  {
   "cell_type": "code",
   "execution_count": 3,
   "metadata": {},
   "outputs": [
    {
     "data": {
      "text/html": [
       "<div>\n",
       "<style scoped>\n",
       "    .dataframe tbody tr th:only-of-type {\n",
       "        vertical-align: middle;\n",
       "    }\n",
       "\n",
       "    .dataframe tbody tr th {\n",
       "        vertical-align: top;\n",
       "    }\n",
       "\n",
       "    .dataframe thead th {\n",
       "        text-align: right;\n",
       "    }\n",
       "</style>\n",
       "<table border=\"1\" class=\"dataframe\">\n",
       "  <thead>\n",
       "    <tr style=\"text-align: right;\">\n",
       "      <th></th>\n",
       "      <th>Date</th>\n",
       "      <th>Open</th>\n",
       "      <th>High</th>\n",
       "      <th>Low</th>\n",
       "      <th>Close</th>\n",
       "      <th>Adj Close</th>\n",
       "      <th>Volume</th>\n",
       "    </tr>\n",
       "  </thead>\n",
       "  <tbody>\n",
       "    <tr>\n",
       "      <th>0</th>\n",
       "      <td>2008-08-22</td>\n",
       "      <td>244.832306</td>\n",
       "      <td>246.515991</td>\n",
       "      <td>243.826080</td>\n",
       "      <td>244.379013</td>\n",
       "      <td>244.379013</td>\n",
       "      <td>4611621</td>\n",
       "    </tr>\n",
       "    <tr>\n",
       "      <th>1</th>\n",
       "      <td>2008-08-25</td>\n",
       "      <td>242.147369</td>\n",
       "      <td>247.572037</td>\n",
       "      <td>239.850983</td>\n",
       "      <td>240.603165</td>\n",
       "      <td>240.603165</td>\n",
       "      <td>4043700</td>\n",
       "    </tr>\n",
       "    <tr>\n",
       "      <th>2</th>\n",
       "      <td>2008-08-26</td>\n",
       "      <td>240.827316</td>\n",
       "      <td>240.827316</td>\n",
       "      <td>234.416351</td>\n",
       "      <td>236.194687</td>\n",
       "      <td>236.194687</td>\n",
       "      <td>6641200</td>\n",
       "    </tr>\n",
       "    <tr>\n",
       "      <th>3</th>\n",
       "      <td>2008-08-27</td>\n",
       "      <td>235.980484</td>\n",
       "      <td>236.528427</td>\n",
       "      <td>231.552094</td>\n",
       "      <td>233.415100</td>\n",
       "      <td>233.415100</td>\n",
       "      <td>8807088</td>\n",
       "    </tr>\n",
       "    <tr>\n",
       "      <th>4</th>\n",
       "      <td>2008-08-28</td>\n",
       "      <td>235.362808</td>\n",
       "      <td>237.335403</td>\n",
       "      <td>234.286835</td>\n",
       "      <td>236.005402</td>\n",
       "      <td>236.005402</td>\n",
       "      <td>6082112</td>\n",
       "    </tr>\n",
       "  </tbody>\n",
       "</table>\n",
       "</div>"
      ],
      "text/plain": [
       "         Date        Open        High         Low       Close   Adj Close  \\\n",
       "0  2008-08-22  244.832306  246.515991  243.826080  244.379013  244.379013   \n",
       "1  2008-08-25  242.147369  247.572037  239.850983  240.603165  240.603165   \n",
       "2  2008-08-26  240.827316  240.827316  234.416351  236.194687  236.194687   \n",
       "3  2008-08-27  235.980484  236.528427  231.552094  233.415100  233.415100   \n",
       "4  2008-08-28  235.362808  237.335403  234.286835  236.005402  236.005402   \n",
       "\n",
       "    Volume  \n",
       "0  4611621  \n",
       "1  4043700  \n",
       "2  6641200  \n",
       "3  8807088  \n",
       "4  6082112  "
      ]
     },
     "execution_count": 3,
     "metadata": {},
     "output_type": "execute_result"
    }
   ],
   "source": [
    "#Read the csv file\n",
    "df = pd.read_csv('../Data/GOOG.csv')\n",
    "df.head()"
   ]
  },
  {
   "cell_type": "code",
   "execution_count": 4,
   "metadata": {},
   "outputs": [
    {
     "data": {
      "text/plain": [
       "2983   2020-06-30\n",
       "2984   2020-07-01\n",
       "2985   2020-07-02\n",
       "2986   2020-07-06\n",
       "2987   2020-07-07\n",
       "2988   2020-07-08\n",
       "2989   2020-07-09\n",
       "2990   2020-07-10\n",
       "2991   2020-07-13\n",
       "2992   2020-07-14\n",
       "2993   2020-07-15\n",
       "2994   2020-07-16\n",
       "2995   2020-07-17\n",
       "2996   2020-07-20\n",
       "2997   2020-07-21\n",
       "Name: Date, dtype: datetime64[ns]"
      ]
     },
     "execution_count": 4,
     "metadata": {},
     "output_type": "execute_result"
    }
   ],
   "source": [
    "#Separate dates for future plotting\n",
    "train_dates = pd.to_datetime(df['Date'])\n",
    "train_dates.tail(15) #Check last few dates. "
   ]
  },
  {
   "cell_type": "code",
   "execution_count": 6,
   "metadata": {},
   "outputs": [
    {
     "name": "stdout",
     "output_type": "stream",
     "text": [
      "['Open', 'High', 'Low', 'Close', 'Adj Close']\n"
     ]
    }
   ],
   "source": [
    "#Variables for training\n",
    "cols = list(df)[1:6]\n",
    "#Date and volume columns are not used in training. \n",
    "print(cols) #['Open', 'High', 'Low', 'Close', 'Adj Close']"
   ]
  },
  {
   "cell_type": "code",
   "execution_count": 17,
   "metadata": {},
   "outputs": [
    {
     "data": {
      "text/plain": [
       "<AxesSubplot:>"
      ]
     },
     "execution_count": 17,
     "metadata": {},
     "output_type": "execute_result"
    },
    {
     "data": {
      "image/png": "[encoded data removed]",
      "text/plain": [
       "<Figure size 432x288 with 1 Axes>"
      ]
     },
     "metadata": {
      "needs_background": "light"
     },
     "output_type": "display_data"
    }
   ],
   "source": [
    "#New dataframe with only training data - 5 columns\n",
    "df_for_training = df[cols].astype(float)\n",
    "\n",
    "df_for_plot=df_for_training.tail(5000)\n",
    "df_for_plot.plot.line()"
   ]
  },
  {
   "cell_type": "code",
   "execution_count": 22,
   "metadata": {},
   "outputs": [],
   "source": [
    "#LSTM uses sigmoid and tanh that are sensitive to magnitude so values need to be normalized\n",
    "# normalize the dataset\n",
    "scaler = StandardScaler()\n",
    "scaler = scaler.fit(df_for_training)\n",
    "df_for_training_scaled = scaler.transform(df_for_training)"
   ]
  },
  {
   "cell_type": "code",
   "execution_count": 10,
   "metadata": {},
   "outputs": [],
   "source": [
    "#As required for LSTM networks, we require to reshape an input data into n_samples x timesteps x n_features. \n",
    "#In this example, the n_features is 5. We will make timesteps = 14 (past days data used for training). \n",
    "\n",
    "#Empty lists to be populated using formatted training data\n",
    "trainX = []\n",
    "trainY = []\n",
    "\n",
    "n_future = 1   # Number of days we want to look into the future based on the past days.\n",
    "n_past = 14  # Number of past days we want to use to predict the future.\n",
    "\n",
    "#Reformat input data into a shape: (n_samples x timesteps x n_features)\n",
    "#In my example, my df_for_training_scaled has a shape (12823, 5)\n",
    "#12823 refers to the number of data points and 5 refers to the columns (multi-variables).\n",
    "for i in range(n_past, len(df_for_training_scaled) - n_future +1):\n",
    "    trainX.append(df_for_training_scaled[i - n_past:i, 0:df_for_training.shape[1]])\n",
    "    trainY.append(df_for_training_scaled[i + n_future - 1:i + n_future, 0])"
   ]
  },
  {
   "cell_type": "code",
   "execution_count": 11,
   "metadata": {},
   "outputs": [
    {
     "name": "stdout",
     "output_type": "stream",
     "text": [
      "trainX shape == (2984, 14, 5).\n",
      "trainY shape == (2984, 1).\n"
     ]
    }
   ],
   "source": [
    "trainX, trainY = np.array(trainX), np.array(trainY)\n",
    "\n",
    "print('trainX shape == {}.'.format(trainX.shape))\n",
    "print('trainY shape == {}.'.format(trainY.shape))"
   ]
  },
  {
   "cell_type": "code",
   "execution_count": 12,
   "metadata": {},
   "outputs": [
    {
     "name": "stdout",
     "output_type": "stream",
     "text": [
      "Model: \"sequential\"\n",
      "_________________________________________________________________\n",
      " Layer (type)                Output Shape              Param #   \n",
      "=================================================================\n",
      " lstm (LSTM)                 (None, 14, 64)            17920     \n",
      "                                                                 \n",
      " lstm_1 (LSTM)               (None, 32)                12416     \n",
      "                                                                 \n",
      " dropout (Dropout)           (None, 32)                0         \n",
      "                                                                 \n",
      " dense (Dense)               (None, 1)                 33        \n",
      "                                                                 \n",
      "=================================================================\n",
      "Total params: 30,369\n",
      "Trainable params: 30,369\n",
      "Non-trainable params: 0\n",
      "_________________________________________________________________\n"
     ]
    }
   ],
   "source": [
    "\t#In my case, trainX has a shape (12809, 14, 5). \n",
    "#12809 because we are looking back 14 days (12823 - 14 = 12809). \n",
    "#Remember that we cannot look back 14 days until we get to the 15th day. \n",
    "#Also, trainY has a shape (12809, 1). Our model only predicts a single value, but \n",
    "#it needs multiple variables (5 in my example) to make this prediction. \n",
    "#This is why we can only predict a single day after our training, the day after where our data ends.\n",
    "#To predict more days in future, we need all the 5 variables which we do not have. \n",
    "#We need to predict all variables if we want to do that. \n",
    "\n",
    "# define the Autoencoder model\n",
    "\n",
    "model = Sequential()\n",
    "model.add(LSTM(64, activation='relu', input_shape=(trainX.shape[1], trainX.shape[2]), return_sequences=True))\n",
    "model.add(LSTM(32, activation='relu', return_sequences=False))\n",
    "model.add(Dropout(0.2))\n",
    "model.add(Dense(trainY.shape[1]))\n",
    "\n",
    "model.compile(optimizer='adam', loss='mse')\n",
    "model.summary()"
   ]
  },
  {
   "cell_type": "code",
   "execution_count": 13,
   "metadata": {},
   "outputs": [
    {
     "name": "stdout",
     "output_type": "stream",
     "text": [
      "Epoch 1/5\n",
      "168/168 [==============================] - 18s 36ms/step - loss: 0.0774 - val_loss: 0.0445\n",
      "Epoch 2/5\n",
      "168/168 [==============================] - 5s 32ms/step - loss: 0.0234 - val_loss: 0.0182\n",
      "Epoch 3/5\n",
      "168/168 [==============================] - 5s 28ms/step - loss: 0.0220 - val_loss: 0.0191\n",
      "Epoch 4/5\n",
      "168/168 [==============================] - 4s 25ms/step - loss: 0.0192 - val_loss: 0.0152\n",
      "Epoch 5/5\n",
      "168/168 [==============================] - 4s 24ms/step - loss: 0.0208 - val_loss: 0.0204\n"
     ]
    },
    {
     "data": {
      "text/plain": [
       "<matplotlib.legend.Legend at 0x23bb1df3ee0>"
      ]
     },
     "execution_count": 13,
     "metadata": {},
     "output_type": "execute_result"
    },
    {
     "data": {
      "image/png": "[encoded data removed]",
      "text/plain": [
       "<Figure size 432x288 with 1 Axes>"
      ]
     },
     "metadata": {
      "needs_background": "light"
     },
     "output_type": "display_data"
    }
   ],
   "source": [
    "# fit the model\n",
    "history = model.fit(trainX, trainY, epochs=5, batch_size=16, validation_split=0.1, verbose=1)\n",
    "\n",
    "plt.plot(history.history['loss'], label='Training loss')\n",
    "plt.plot(history.history['val_loss'], label='Validation loss')\n",
    "plt.legend()"
   ]
  },
  {
   "cell_type": "code",
   "execution_count": 14,
   "metadata": {},
   "outputs": [
    {
     "name": "stdout",
     "output_type": "stream",
     "text": [
      "[Timestamp('2020-06-29 00:00:00', freq='C'), Timestamp('2020-06-30 00:00:00', freq='C'), Timestamp('2020-07-01 00:00:00', freq='C'), Timestamp('2020-07-02 00:00:00', freq='C'), Timestamp('2020-07-06 00:00:00', freq='C'), Timestamp('2020-07-07 00:00:00', freq='C'), Timestamp('2020-07-08 00:00:00', freq='C'), Timestamp('2020-07-09 00:00:00', freq='C'), Timestamp('2020-07-10 00:00:00', freq='C'), Timestamp('2020-07-13 00:00:00', freq='C'), Timestamp('2020-07-14 00:00:00', freq='C'), Timestamp('2020-07-15 00:00:00', freq='C'), Timestamp('2020-07-16 00:00:00', freq='C'), Timestamp('2020-07-17 00:00:00', freq='C'), Timestamp('2020-07-20 00:00:00', freq='C')]\n"
     ]
    }
   ],
   "source": [
    "#Predicting...\n",
    "#Libraries that will help us extract only business days in the US.\n",
    "#Otherwise our dates would be wrong when we look back (or forward).  \n",
    "from pandas.tseries.holiday import USFederalHolidayCalendar\n",
    "from pandas.tseries.offsets import CustomBusinessDay\n",
    "us_bd = CustomBusinessDay(calendar=USFederalHolidayCalendar())\n",
    "#Remember that we can only predict one day in future as our model needs 5 variables\n",
    "#as inputs for prediction. We only have all 5 variables until the last day in our dataset.\n",
    "n_past = 16\n",
    "n_days_for_prediction=15  #let us predict past 15 days\n",
    "\n",
    "predict_period_dates = pd.date_range(list(train_dates)[-n_past], periods=n_days_for_prediction, freq=us_bd).tolist()\n",
    "print(predict_period_dates)"
   ]
  },
  {
   "cell_type": "code",
   "execution_count": 15,
   "metadata": {},
   "outputs": [],
   "source": [
    "#Make prediction\n",
    "prediction = model.predict(trainX[-n_days_for_prediction:]) #shape = (n, 1) where n is the n_days_for_prediction\n",
    "\n",
    "#Perform inverse transformation to rescale back to original range\n",
    "#Since we used 5 variables for transform, the inverse expects same dimensions\n",
    "#Therefore, let us copy our values 5 times and discard them after inverse transform\n",
    "prediction_copies = np.repeat(prediction, df_for_training.shape[1], axis=-1)\n",
    "y_pred_future = scaler.inverse_transform(prediction_copies)[:,0]"
   ]
  },
  {
   "cell_type": "code",
   "execution_count": 16,
   "metadata": {},
   "outputs": [
    {
     "name": "stderr",
     "output_type": "stream",
     "text": [
      "C:\\Users\\Sulai\\AppData\\Local\\Temp\\ipykernel_11440\\4095038512.py:11: SettingWithCopyWarning: \n",
      "A value is trying to be set on a copy of a slice from a DataFrame.\n",
      "Try using .loc[row_indexer,col_indexer] = value instead\n",
      "\n",
      "See the caveats in the documentation: https://pandas.pydata.org/pandas-docs/stable/user_guide/indexing.html#returning-a-view-versus-a-copy\n",
      "  original['Date']=pd.to_datetime(original['Date'])\n",
      "C:\\Users\\Sulai\\AppData\\Local\\Programs\\Python\\Python39\\lib\\site-packages\\seaborn\\_decorators.py:36: FutureWarning: Pass the following variables as keyword args: x, y. From version 0.12, the only valid positional argument will be `data`, and passing other arguments without an explicit keyword will result in an error or misinterpretation.\n",
      "  warnings.warn(\n",
      "C:\\Users\\Sulai\\AppData\\Local\\Programs\\Python\\Python39\\lib\\site-packages\\seaborn\\_decorators.py:36: FutureWarning: Pass the following variables as keyword args: x, y. From version 0.12, the only valid positional argument will be `data`, and passing other arguments without an explicit keyword will result in an error or misinterpretation.\n",
      "  warnings.warn(\n"
     ]
    },
    {
     "data": {
      "text/plain": [
       "<AxesSubplot:xlabel='Date', ylabel='Open'>"
      ]
     },
     "execution_count": 16,
     "metadata": {},
     "output_type": "execute_result"
    },
    {
     "data": {
      "image/png": "[encoded data removed]",
      "text/plain": [
       "<Figure size 432x288 with 1 Axes>"
      ]
     },
     "metadata": {
      "needs_background": "light"
     },
     "output_type": "display_data"
    }
   ],
   "source": [
    "# Convert timestamp to date\n",
    "forecast_dates = []\n",
    "for time_i in predict_period_dates:\n",
    "    forecast_dates.append(time_i.date())\n",
    "    \n",
    "df_forecast = pd.DataFrame({'Date':np.array(forecast_dates), 'Open':y_pred_future})\n",
    "df_forecast['Date']=pd.to_datetime(df_forecast['Date'])\n",
    "\n",
    "\n",
    "original = df[['Date', 'Open']]\n",
    "original['Date']=pd.to_datetime(original['Date'])\n",
    "original = original.loc[original['Date'] >= '2020-5-1']\n",
    "\n",
    "sns.lineplot(original['Date'], original['Open'])\n",
    "sns.lineplot(df_forecast['Date'], df_forecast['Open'])"
   ]
  },
  {
   "cell_type": "code",
   "execution_count": null,
   "metadata": {},
   "outputs": [],
   "source": []
  }
 ],
 "metadata": {
  "interpreter": {
   "hash": "f2f2458e07bac7c8c3de1e93d9e31725162ebf08e0cd894e418127fa6882b76d"
  },
  "kernelspec": {
   "display_name": "Python 3.9.0 64-bit",
   "language": "python",
   "name": "python3"
  },
  "language_info": {
   "codemirror_mode": {
    "name": "ipython",
    "version": 3
   },
   "file_extension": ".py",
   "mimetype": "text/x-python",
   "name": "python",
   "nbconvert_exporter": "python",
   "pygments_lexer": "ipython3",
   "version": "3.9.0"
  },
  "orig_nbformat": 4
 },
 "nbformat": 4,
 "nbformat_minor": 2
}
