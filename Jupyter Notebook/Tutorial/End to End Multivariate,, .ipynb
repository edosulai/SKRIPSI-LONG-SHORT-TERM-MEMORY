{
 "cells": [
  {
   "cell_type": "code",
   "execution_count": 1,
   "metadata": {},
   "outputs": [],
   "source": [
    "import pandas as pd\n",
    "import matplotlib as mpl\n",
    "import matplotlib.pyplot as plt\n",
    "from sklearn.model_selection import train_test_split\n",
    "from keras.preprocessing.sequence import TimeseriesGenerator\n",
    "from sklearn.preprocessing import MinMaxScaler, StandardScaler\n",
    "import tensorflow as tf\n",
    "\n",
    "mpl.rcParams['figure.figsize'] = (10, 8)\n",
    "mpl.rcParams['axes.grid'] = False"
   ]
  },
  {
   "cell_type": "code",
   "execution_count": 2,
   "metadata": {},
   "outputs": [
    {
     "data": {
      "text/html": [
       "<div>\n",
       "<style scoped>\n",
       "    .dataframe tbody tr th:only-of-type {\n",
       "        vertical-align: middle;\n",
       "    }\n",
       "\n",
       "    .dataframe tbody tr th {\n",
       "        vertical-align: top;\n",
       "    }\n",
       "\n",
       "    .dataframe thead th {\n",
       "        text-align: right;\n",
       "    }\n",
       "</style>\n",
       "<table border=\"1\" class=\"dataframe\">\n",
       "  <thead>\n",
       "    <tr style=\"text-align: right;\">\n",
       "      <th></th>\n",
       "      <th>Date</th>\n",
       "      <th>Open</th>\n",
       "      <th>High</th>\n",
       "      <th>Low</th>\n",
       "      <th>Close</th>\n",
       "      <th>Adj Close</th>\n",
       "      <th>Volume</th>\n",
       "    </tr>\n",
       "  </thead>\n",
       "  <tbody>\n",
       "    <tr>\n",
       "      <th>0</th>\n",
       "      <td>2008-08-22</td>\n",
       "      <td>244.832306</td>\n",
       "      <td>246.515991</td>\n",
       "      <td>243.826080</td>\n",
       "      <td>244.379013</td>\n",
       "      <td>244.379013</td>\n",
       "      <td>4611621</td>\n",
       "    </tr>\n",
       "    <tr>\n",
       "      <th>1</th>\n",
       "      <td>2008-08-25</td>\n",
       "      <td>242.147369</td>\n",
       "      <td>247.572037</td>\n",
       "      <td>239.850983</td>\n",
       "      <td>240.603165</td>\n",
       "      <td>240.603165</td>\n",
       "      <td>4043700</td>\n",
       "    </tr>\n",
       "    <tr>\n",
       "      <th>2</th>\n",
       "      <td>2008-08-26</td>\n",
       "      <td>240.827316</td>\n",
       "      <td>240.827316</td>\n",
       "      <td>234.416351</td>\n",
       "      <td>236.194687</td>\n",
       "      <td>236.194687</td>\n",
       "      <td>6641200</td>\n",
       "    </tr>\n",
       "    <tr>\n",
       "      <th>3</th>\n",
       "      <td>2008-08-27</td>\n",
       "      <td>235.980484</td>\n",
       "      <td>236.528427</td>\n",
       "      <td>231.552094</td>\n",
       "      <td>233.415100</td>\n",
       "      <td>233.415100</td>\n",
       "      <td>8807088</td>\n",
       "    </tr>\n",
       "    <tr>\n",
       "      <th>4</th>\n",
       "      <td>2008-08-28</td>\n",
       "      <td>235.362808</td>\n",
       "      <td>237.335403</td>\n",
       "      <td>234.286835</td>\n",
       "      <td>236.005402</td>\n",
       "      <td>236.005402</td>\n",
       "      <td>6082112</td>\n",
       "    </tr>\n",
       "    <tr>\n",
       "      <th>...</th>\n",
       "      <td>...</td>\n",
       "      <td>...</td>\n",
       "      <td>...</td>\n",
       "      <td>...</td>\n",
       "      <td>...</td>\n",
       "      <td>...</td>\n",
       "      <td>...</td>\n",
       "    </tr>\n",
       "    <tr>\n",
       "      <th>2993</th>\n",
       "      <td>2020-07-15</td>\n",
       "      <td>1523.130005</td>\n",
       "      <td>1535.329956</td>\n",
       "      <td>1498.000000</td>\n",
       "      <td>1513.640015</td>\n",
       "      <td>1513.640015</td>\n",
       "      <td>1610700</td>\n",
       "    </tr>\n",
       "    <tr>\n",
       "      <th>2994</th>\n",
       "      <td>2020-07-16</td>\n",
       "      <td>1500.000000</td>\n",
       "      <td>1518.689941</td>\n",
       "      <td>1486.310059</td>\n",
       "      <td>1518.000000</td>\n",
       "      <td>1518.000000</td>\n",
       "      <td>1519300</td>\n",
       "    </tr>\n",
       "    <tr>\n",
       "      <th>2995</th>\n",
       "      <td>2020-07-17</td>\n",
       "      <td>1521.619995</td>\n",
       "      <td>1523.439941</td>\n",
       "      <td>1498.420044</td>\n",
       "      <td>1515.550049</td>\n",
       "      <td>1515.550049</td>\n",
       "      <td>1456700</td>\n",
       "    </tr>\n",
       "    <tr>\n",
       "      <th>2996</th>\n",
       "      <td>2020-07-20</td>\n",
       "      <td>1515.260010</td>\n",
       "      <td>1570.290039</td>\n",
       "      <td>1503.599976</td>\n",
       "      <td>1565.719971</td>\n",
       "      <td>1565.719971</td>\n",
       "      <td>1557300</td>\n",
       "    </tr>\n",
       "    <tr>\n",
       "      <th>2997</th>\n",
       "      <td>2020-07-21</td>\n",
       "      <td>1586.989990</td>\n",
       "      <td>1586.989990</td>\n",
       "      <td>1554.280029</td>\n",
       "      <td>1558.420044</td>\n",
       "      <td>1558.420044</td>\n",
       "      <td>1216200</td>\n",
       "    </tr>\n",
       "  </tbody>\n",
       "</table>\n",
       "<p>2998 rows × 7 columns</p>\n",
       "</div>"
      ],
      "text/plain": [
       "            Date         Open         High          Low        Close  \\\n",
       "0     2008-08-22   244.832306   246.515991   243.826080   244.379013   \n",
       "1     2008-08-25   242.147369   247.572037   239.850983   240.603165   \n",
       "2     2008-08-26   240.827316   240.827316   234.416351   236.194687   \n",
       "3     2008-08-27   235.980484   236.528427   231.552094   233.415100   \n",
       "4     2008-08-28   235.362808   237.335403   234.286835   236.005402   \n",
       "...          ...          ...          ...          ...          ...   \n",
       "2993  2020-07-15  1523.130005  1535.329956  1498.000000  1513.640015   \n",
       "2994  2020-07-16  1500.000000  1518.689941  1486.310059  1518.000000   \n",
       "2995  2020-07-17  1521.619995  1523.439941  1498.420044  1515.550049   \n",
       "2996  2020-07-20  1515.260010  1570.290039  1503.599976  1565.719971   \n",
       "2997  2020-07-21  1586.989990  1586.989990  1554.280029  1558.420044   \n",
       "\n",
       "        Adj Close   Volume  \n",
       "0      244.379013  4611621  \n",
       "1      240.603165  4043700  \n",
       "2      236.194687  6641200  \n",
       "3      233.415100  8807088  \n",
       "4      236.005402  6082112  \n",
       "...           ...      ...  \n",
       "2993  1513.640015  1610700  \n",
       "2994  1518.000000  1519300  \n",
       "2995  1515.550049  1456700  \n",
       "2996  1565.719971  1557300  \n",
       "2997  1558.420044  1216200  \n",
       "\n",
       "[2998 rows x 7 columns]"
      ]
     },
     "execution_count": 2,
     "metadata": {},
     "output_type": "execute_result"
    }
   ],
   "source": [
    "df = pd.read_csv('../../Data/GOOG.csv')\n",
    "df"
   ]
  },
  {
   "cell_type": "code",
   "execution_count": 3,
   "metadata": {},
   "outputs": [],
   "source": [
    "df['Date'] = pd.to_datetime(df['Date'], infer_datetime_format=True)\n",
    "df.set_index('Date', inplace=True)"
   ]
  },
  {
   "cell_type": "code",
   "execution_count": 5,
   "metadata": {},
   "outputs": [
    {
     "data": {
      "text/html": [
       "<div>\n",
       "<style scoped>\n",
       "    .dataframe tbody tr th:only-of-type {\n",
       "        vertical-align: middle;\n",
       "    }\n",
       "\n",
       "    .dataframe tbody tr th {\n",
       "        vertical-align: top;\n",
       "    }\n",
       "\n",
       "    .dataframe thead th {\n",
       "        text-align: right;\n",
       "    }\n",
       "</style>\n",
       "<table border=\"1\" class=\"dataframe\">\n",
       "  <thead>\n",
       "    <tr style=\"text-align: right;\">\n",
       "      <th></th>\n",
       "      <th>0</th>\n",
       "      <th>1</th>\n",
       "      <th>2</th>\n",
       "      <th>3</th>\n",
       "      <th>4</th>\n",
       "      <th>5</th>\n",
       "    </tr>\n",
       "  </thead>\n",
       "  <tbody>\n",
       "    <tr>\n",
       "      <th>0</th>\n",
       "      <td>0.078331</td>\n",
       "      <td>0.077322</td>\n",
       "      <td>0.084298</td>\n",
       "      <td>0.080794</td>\n",
       "      <td>0.080794</td>\n",
       "      <td>0.141247</td>\n",
       "    </tr>\n",
       "    <tr>\n",
       "      <th>1</th>\n",
       "      <td>0.076487</td>\n",
       "      <td>0.078049</td>\n",
       "      <td>0.081520</td>\n",
       "      <td>0.078167</td>\n",
       "      <td>0.078167</td>\n",
       "      <td>0.123823</td>\n",
       "    </tr>\n",
       "    <tr>\n",
       "      <th>2</th>\n",
       "      <td>0.075581</td>\n",
       "      <td>0.073406</td>\n",
       "      <td>0.077723</td>\n",
       "      <td>0.075100</td>\n",
       "      <td>0.075100</td>\n",
       "      <td>0.203517</td>\n",
       "    </tr>\n",
       "    <tr>\n",
       "      <th>3</th>\n",
       "      <td>0.072252</td>\n",
       "      <td>0.070447</td>\n",
       "      <td>0.075721</td>\n",
       "      <td>0.073167</td>\n",
       "      <td>0.073167</td>\n",
       "      <td>0.269969</td>\n",
       "    </tr>\n",
       "    <tr>\n",
       "      <th>4</th>\n",
       "      <td>0.071828</td>\n",
       "      <td>0.071003</td>\n",
       "      <td>0.077632</td>\n",
       "      <td>0.074969</td>\n",
       "      <td>0.074969</td>\n",
       "      <td>0.186364</td>\n",
       "    </tr>\n",
       "    <tr>\n",
       "      <th>...</th>\n",
       "      <td>...</td>\n",
       "      <td>...</td>\n",
       "      <td>...</td>\n",
       "      <td>...</td>\n",
       "      <td>...</td>\n",
       "      <td>...</td>\n",
       "    </tr>\n",
       "    <tr>\n",
       "      <th>2993</th>\n",
       "      <td>0.956147</td>\n",
       "      <td>0.964441</td>\n",
       "      <td>0.960673</td>\n",
       "      <td>0.963770</td>\n",
       "      <td>0.963770</td>\n",
       "      <td>0.049175</td>\n",
       "    </tr>\n",
       "    <tr>\n",
       "      <th>2994</th>\n",
       "      <td>0.940263</td>\n",
       "      <td>0.952988</td>\n",
       "      <td>0.952505</td>\n",
       "      <td>0.966803</td>\n",
       "      <td>0.966803</td>\n",
       "      <td>0.046371</td>\n",
       "    </tr>\n",
       "    <tr>\n",
       "      <th>2995</th>\n",
       "      <td>0.955110</td>\n",
       "      <td>0.956257</td>\n",
       "      <td>0.960967</td>\n",
       "      <td>0.965099</td>\n",
       "      <td>0.965099</td>\n",
       "      <td>0.044450</td>\n",
       "    </tr>\n",
       "    <tr>\n",
       "      <th>2996</th>\n",
       "      <td>0.950743</td>\n",
       "      <td>0.988505</td>\n",
       "      <td>0.964586</td>\n",
       "      <td>1.000000</td>\n",
       "      <td>1.000000</td>\n",
       "      <td>0.047537</td>\n",
       "    </tr>\n",
       "    <tr>\n",
       "      <th>2997</th>\n",
       "      <td>1.000000</td>\n",
       "      <td>1.000000</td>\n",
       "      <td>1.000000</td>\n",
       "      <td>0.994922</td>\n",
       "      <td>0.994922</td>\n",
       "      <td>0.037071</td>\n",
       "    </tr>\n",
       "  </tbody>\n",
       "</table>\n",
       "<p>2998 rows × 6 columns</p>\n",
       "</div>"
      ],
      "text/plain": [
       "             0         1         2         3         4         5\n",
       "0     0.078331  0.077322  0.084298  0.080794  0.080794  0.141247\n",
       "1     0.076487  0.078049  0.081520  0.078167  0.078167  0.123823\n",
       "2     0.075581  0.073406  0.077723  0.075100  0.075100  0.203517\n",
       "3     0.072252  0.070447  0.075721  0.073167  0.073167  0.269969\n",
       "4     0.071828  0.071003  0.077632  0.074969  0.074969  0.186364\n",
       "...        ...       ...       ...       ...       ...       ...\n",
       "2993  0.956147  0.964441  0.960673  0.963770  0.963770  0.049175\n",
       "2994  0.940263  0.952988  0.952505  0.966803  0.966803  0.046371\n",
       "2995  0.955110  0.956257  0.960967  0.965099  0.965099  0.044450\n",
       "2996  0.950743  0.988505  0.964586  1.000000  1.000000  0.047537\n",
       "2997  1.000000  1.000000  1.000000  0.994922  0.994922  0.037071\n",
       "\n",
       "[2998 rows x 6 columns]"
      ]
     },
     "execution_count": 5,
     "metadata": {},
     "output_type": "execute_result"
    }
   ],
   "source": [
    "scaller = MinMaxScaler()\n",
    "data_scaled = scaller.fit_transform(df)\n",
    "pd.DataFrame(data_scaled)"
   ]
  },
  {
   "cell_type": "code",
   "execution_count": 18,
   "metadata": {},
   "outputs": [],
   "source": [
    "features = data_scaled\n",
    "target = data_scaled[:]"
   ]
  },
  {
   "cell_type": "code",
   "execution_count": 19,
   "metadata": {},
   "outputs": [
    {
     "data": {
      "text/plain": [
       "17988"
      ]
     },
     "execution_count": 19,
     "metadata": {},
     "output_type": "execute_result"
    }
   ],
   "source": [
    "features.size"
   ]
  },
  {
   "cell_type": "code",
   "execution_count": 20,
   "metadata": {},
   "outputs": [
    {
     "data": {
      "text/plain": [
       "17988"
      ]
     },
     "execution_count": 20,
     "metadata": {},
     "output_type": "execute_result"
    }
   ],
   "source": [
    "target.size"
   ]
  },
  {
   "cell_type": "code",
   "execution_count": 42,
   "metadata": {},
   "outputs": [
    {
     "data": {
      "text/plain": [
       "(array([[[0.07833091, 0.07732195, 0.08429775, 0.08079391, 0.08079391,\n",
       "          0.14124714],\n",
       "         [0.07648715, 0.07804885, 0.08152008, 0.0781672 , 0.0781672 ,\n",
       "          0.12382263]]]),\n",
       " array([0.07558066]))"
      ]
     },
     "execution_count": 42,
     "metadata": {},
     "output_type": "execute_result"
    }
   ],
   "source": [
    "TimeseriesGenerator(features, target, length=2, sampling_rate=1, batch_size=1)[0]"
   ]
  },
  {
   "cell_type": "code",
   "execution_count": 21,
   "metadata": {},
   "outputs": [],
   "source": [
    "x_train, x_test, y_train, y_test = train_test_split(features, target, test_size=0.20, random_state=123, shuffle=False)"
   ]
  },
  {
   "cell_type": "code",
   "execution_count": 23,
   "metadata": {},
   "outputs": [
    {
     "data": {
      "text/plain": [
       "14388"
      ]
     },
     "execution_count": 23,
     "metadata": {},
     "output_type": "execute_result"
    }
   ],
   "source": [
    "x_train.size"
   ]
  },
  {
   "cell_type": "code",
   "execution_count": null,
   "metadata": {},
   "outputs": [],
   "source": []
  }
 ],
 "metadata": {
  "interpreter": {
   "hash": "f2f2458e07bac7c8c3de1e93d9e31725162ebf08e0cd894e418127fa6882b76d"
  },
  "kernelspec": {
   "display_name": "Python 3.9.0 64-bit",
   "language": "python",
   "name": "python3"
  },
  "language_info": {
   "codemirror_mode": {
    "name": "ipython",
    "version": 3
   },
   "file_extension": ".py",
   "mimetype": "text/x-python",
   "name": "python",
   "nbconvert_exporter": "python",
   "pygments_lexer": "ipython3",
   "version": "3.9.0"
  },
  "orig_nbformat": 4
 },
 "nbformat": 4,
 "nbformat_minor": 2
}
