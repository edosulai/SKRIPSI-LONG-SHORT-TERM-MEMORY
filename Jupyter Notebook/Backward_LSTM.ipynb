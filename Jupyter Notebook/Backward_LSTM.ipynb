{
 "cells": [
  {
   "cell_type": "code",
   "execution_count": null,
   "metadata": {},
   "outputs": [],
   "source": [
    "# Import logistic function that doesn't explode outside a 64 bit float\n",
    "from scipy.special import expit as sigmoid\n",
    "from numpy import zeros, zeros_like, tanh, exp, sum, dot, sqrt, log, argmax, concatenate as concat, copy, clip\n",
    "from numpy.random import randn\n",
    "\n",
    "\n",
    "# derivative of sigmoid function\n",
    "def dsigmoid(z):\n",
    "    return sigmoid(z) * (1 - sigmoid(z))\n",
    "\n",
    "# derivative of hyperbolic tangent\n",
    "\n",
    "\n",
    "def dtanh(z):\n",
    "    return 1 - tanh(z) ** 2\n",
    "\n",
    "# probability function\n",
    "\n",
    "\n",
    "def softmax(z):\n",
    "    return exp(z) / sum(exp(z))\n",
    "\n",
    "# cross entropy loss\n",
    "\n",
    "\n",
    "def cross_ent(p, y):\n",
    "    return -log(p[y])\n",
    "\n",
    "\n",
    "class Cell:\n",
    "    \n",
    "    def __init__(self, n, d, rnn):\n",
    "        \"\"\"Pass the input size (n) and memory cell size (d), create hidden state of size d, pass rnn (self)\"\"\"\n",
    "        self.n, self.d, self.h, self.z, z = n, d, zeros((d, 1)), n + d, n + d\n",
    "        self.rnn = rnn\n",
    "\n",
    "\n",
    "    def feedforward(self, x, c_, h_):\n",
    "        \"\"\"Pass an input of size n, the previous hidden state(ht), and the previous cell state(c)\"\"\"\n",
    "        n, d = self.n, self.d\n",
    "        Wi, Wf, Wo, Wc, Wy = self.rnn.Wi, self.rnn.Wf, self.rnn.Wo, self.rnn.Wc, self.rnn.Wy\n",
    "        bi, bf, bo, bc, by = self.rnn.bi, self.rnn.bf, self.rnn.bo, self.rnn.bc, self.rnn.by\n",
    "\n",
    "        index = x       # one hot encoding\n",
    "        x = zeros((n, 1))\n",
    "        x[index] = 1\n",
    "        g = concat((x, h_))         # input g is input x + previous hidden state\n",
    "\n",
    "        it = sigmoid(dot(Wi.T, g) + bi)     # gate activations\n",
    "        ft = sigmoid(dot(Wf.T, g) + bf)\n",
    "        ot = sigmoid(dot(Wo.T, g) + bo)\n",
    "        ct = tanh(dot(Wc.T, g) + bc)        # non linearity activation\n",
    "        c = ft * c_ + it * ct       # cell state\n",
    "\n",
    "        ht = ot * tanh(c)       # squashed hidden state\n",
    "        yt = dot(Wy.T, ht) + by     # output state\n",
    "        p = softmax(yt)     # call softmax, get probability\n",
    "\n",
    "        self.c_, self.h_ = c_, h_\n",
    "        self.it, self.ft, self.ot, self.ct = it, ft, ot, ct\n",
    "        self.c, self.ht, self.yt, self.p, self.g = c, ht, yt, p, g\n",
    "\n",
    "        return ht, c\n",
    "\n",
    "\n",
    "    def backpropagate(self, y, ht1, ct1):\n",
    "\n",
    "        n, d = self.n, self.d\n",
    "        Wi, Wf, Wo, Wc, Wy = self.rnn.Wi, self.rnn.Wf, self.rnn.Wo, self.rnn.Wc, self.rnn.Wy\n",
    "        dWi, dWf, dWo, dWc, dWy = self.rnn.dWi, self.rnn.dWf, self.rnn.dWo, self.rnn.dWc, self.rnn.dWy\n",
    "        dbi, dbf, dbo, dbc, dby = self.rnn.dbi, self.rnn.dbf, self.rnn.dbo, self.rnn.dbc, self.rnn.dby\n",
    "        c_, h_ = self.c_, self.h_\n",
    "        it, ft, ot, ct = self.it, self.ft, self.ot, self.ct\n",
    "        c, ht, yt, p = self.c, self.ht, self.yt, self.p\n",
    "        g = self.g\n",
    "\n",
    "        dy = copy(p)\n",
    "        dy[y] -= 1\n",
    "\n",
    "        loss = cross_ent(p, y)\n",
    "\n",
    "        dh = dot(Wy, dy) + ht1\n",
    "        dh = clip(dh, -6, 6)\n",
    "\n",
    "        do = tanh(c) * dh\n",
    "        do = dsigmoid(ot) * do\n",
    "\n",
    "        dc = ot * dh * dtanh(c)\n",
    "        dc = dc + ct1\n",
    "        dc = clip(dc, -6, 6)\n",
    "\n",
    "        df = c_ * dc\n",
    "        df = dsigmoid(ft) * df\n",
    "\n",
    "        di = ct * dc\n",
    "        di = dsigmoid(it) * di\n",
    "\n",
    "        dct = it * dc\n",
    "        dct = dtanh(ct) * dct\n",
    "\n",
    "        dWf += dot(g, df.T)\n",
    "        dWi += dot(g, di.T)\n",
    "        dWo += dot(g, do.T)\n",
    "        dWc += dot(g, dc.T)\n",
    "        dWy += dot(ht, dy.T)\n",
    "\n",
    "        dbf += df\n",
    "        dbi += di\n",
    "        dbo += do\n",
    "        dbc += dc\n",
    "        dby += dy\n",
    "\n",
    "        dxi = dot(Wi, di)\n",
    "        dxf = dot(Wf, df)\n",
    "        dxo = dot(Wo, do)\n",
    "        dxc = dot(Wc, dct)\n",
    "\n",
    "        dx = dxf + dxi + dxo + dxc\n",
    "\n",
    "        dht1 = dx[n:]\n",
    "        dct1 = ft * dc\n",
    "\n",
    "        return loss, dht1, dct1\n",
    "\n",
    "\n",
    "# RNN class\n",
    "class RNN:\n",
    "\n",
    "    def __init__(self, n, d, RL, LR):\n",
    "        \"\"\"Pass input size (n), number of memory cells (d), recurrence length (RL), and learning rate (LR)\"\"\"\n",
    "        self.n, self.d, self.z, z = n, d, n + d, n + d\n",
    "        self.d = d\n",
    "        self.z, z = n + d, n + d\n",
    "        self.RL = RL\n",
    "        self.LR = LR\n",
    "\n",
    "        self.x = []\n",
    "\n",
    "        self.Cells = [Cell(n, d, self)]\n",
    "\n",
    "        self.Wi, self.Wf, self.Wo, self.Wc, self.Wy = randn(z, d) / sqrt(z / 2), randn(z, d) / sqrt(\n",
    "            z / 2), randn(z, d) / sqrt(z / 2), randn(z, d) / sqrt(z / 2), randn(d, n) / sqrt(d / 2)\n",
    "        self.bi, self.bf, self.bo, self.bc, self.by = randn(\n",
    "            d, 1), randn(d, 1), randn(d, 1), randn(d, 1), randn(n, 1)\n",
    "        self.dWi, self.dWf, self.dWo, self.dWc, self.dWy = zeros(\n",
    "            (z, d)), zeros((z, d)), zeros((z, d)), zeros((z, d)), zeros((d, n))\n",
    "        self.dbi, self.dbf, self.dbo, self.dbc, self.dby = zeros(\n",
    "            (d, 1)), zeros((d, 1)), zeros((d, 1)), zeros((d, 1)), zeros((n, 1))\n",
    "\n",
    "\n",
    "    def FeedForward(self, inputs, ht_, ct_):\n",
    "\n",
    "        n, d, rl, Cells = self.n, self.d, self.RL, self.Cells\n",
    "\n",
    "        while len(Cells) < rl:\n",
    "            Cells.append(Cell(n, d, self))\n",
    "\n",
    "        for cell, x in zip(Cells, range(len(inputs))):\n",
    "            ht_, ct_ = cell.feedforward(x, ht_, ct_)\n",
    "\n",
    "        return ht_, ct_\n",
    "\n",
    "\n",
    "    def BPTT(self, outputs, ht1, ct1):\n",
    "\n",
    "        n, d, z, rl = self.n, self.d, self.n + self.d, self.RL\n",
    "        Cells = self.Cells\n",
    "\n",
    "        avg_loss = 0\n",
    "\n",
    "        for i in reversed(range(rl)):\n",
    "            loss, ht1, ct1 = Cells[i].backpropagate(outputs[i], ht1, ct1)\n",
    "            avg_loss += loss\n",
    "\n",
    "        avg_loss /= rl\n",
    "\n",
    "        return avg_loss, ht1, ct1\n",
    "\n",
    "\n",
    "    def train(self, inputs, outputs):\n",
    "\n",
    "        n, d, z, rl = self.n, self.d, self.n + self.d, self.RL\n",
    "        index = 0\n",
    "        LR = 0.1\n",
    "        loss = 0\n",
    "\n",
    "        ht_, ct_ = zeros((d, 1)), zeros((d, 1))\n",
    "        ht1, ct1 = zeros((d, 1)), zeros((d, 1))\n",
    "\n",
    "        while index < len(outputs):\n",
    "            xlist = inputs[index:index + rl]\n",
    "            ylist = outputs[index:index + rl]\n",
    "            ht_, ct_ = self.FeedForward(xlist, ht_, ct_)\n",
    "            loss, ht1, ct1 = self.BPTT(ylist, ht1, ct1)\n",
    "            # print(loss)\n",
    "            self.update(LR)\n",
    "            index += rl\n",
    "\n",
    "\n",
    "    def update(self, LR):\n",
    "\n",
    "        n, d, z = self.n, self.d, self.n + self.d\n",
    "\n",
    "        self.Wi -= LR * self.dWi\n",
    "        self.Wf -= LR * self.dWf\n",
    "        self.Wo -= LR * self.dWo\n",
    "        self.Wc -= LR * self.dWc\n",
    "        self.Wy -= LR * self.dWy\n",
    "        self.bi -= LR * self.dbi\n",
    "        self.bf -= LR * self.dbf\n",
    "        self.bo -= LR * self.dbo\n",
    "        self.bc -= LR * self.dbc\n",
    "        self.by -= LR * self.dby\n",
    "\n",
    "        self.dWi, self.dWf, self.dWo, self.dWc, self.dWy = zeros(\n",
    "            (z, d)), zeros((z, d)), zeros((z, d)), zeros((z, d)), zeros((d, n))\n",
    "        self.dbi, self.dbf, self.dbo, self.dbc, self.dby = zeros(\n",
    "            (d, 1)), zeros((d, 1)), zeros((d, 1)), zeros((d, 1)), zeros((n, 1))\n",
    "        \n",
    "        \n",
    "file = open(\"trumptweets.txt\", 'r', encoding='utf8').read()\n",
    "\n",
    "text = list(file)\n",
    "\n",
    "alphabet = list(set(text))\n",
    "\n",
    "n = (len(alphabet))\n",
    "d = 100\n",
    "\n",
    "encode = {ch:i for i,ch in enumerate(alphabet)}\n",
    "decode = {i:ch for i,ch in enumerate(alphabet)}\n",
    "\n",
    "inputs = [encode[ch] for ch in text]\n",
    "outputs = [inputs[i + 1] for i in range(len(inputs)-1)]\n",
    "\n",
    "\n",
    "RNN = RNN(n, d, 100, 0.1)\n",
    "\n",
    "RNN.train(inputs, outputs)\n"
   ]
  },
  {
   "cell_type": "code",
   "execution_count": 70,
   "metadata": {},
   "outputs": [],
   "source": [
    "import sys\n",
    "import numpy as np\n",
    "import pandas as pd\n",
    "import matplotlib.pyplot as plt\n",
    "from sklearn.preprocessing import MinMaxScaler"
   ]
  },
  {
   "cell_type": "code",
   "execution_count": 71,
   "metadata": {},
   "outputs": [],
   "source": [
    "def sigmoid(x):\n",
    "    return 1 / (1 + np.exp(-x))\n",
    "  \n",
    "def tanh(x):\n",
    "    return np.tanh(x)\n",
    "\n",
    "def softmax(x):\n",
    "    e_x = np.exp(x - np.max(x))\n",
    "    return e_x / e_x.sum()\n",
    "\n",
    "def dsigmoid(x):\n",
    "    return x * (1 - x)\n",
    "\n",
    "def dtanh(x):\n",
    "    return 1 - np.power(x, 2)"
   ]
  },
  {
   "cell_type": "code",
   "execution_count": 76,
   "metadata": {},
   "outputs": [
    {
     "data": {
      "text/html": [
       "<div>\n",
       "<style scoped>\n",
       "    .dataframe tbody tr th:only-of-type {\n",
       "        vertical-align: middle;\n",
       "    }\n",
       "\n",
       "    .dataframe tbody tr th {\n",
       "        vertical-align: top;\n",
       "    }\n",
       "\n",
       "    .dataframe thead th {\n",
       "        text-align: right;\n",
       "    }\n",
       "</style>\n",
       "<table border=\"1\" class=\"dataframe\">\n",
       "  <thead>\n",
       "    <tr style=\"text-align: right;\">\n",
       "      <th></th>\n",
       "      <th>Unnamed: 0</th>\n",
       "      <th>symbol</th>\n",
       "      <th>date</th>\n",
       "      <th>close</th>\n",
       "      <th>high</th>\n",
       "      <th>low</th>\n",
       "      <th>open</th>\n",
       "      <th>volume</th>\n",
       "      <th>adjClose</th>\n",
       "      <th>adjHigh</th>\n",
       "      <th>adjLow</th>\n",
       "      <th>adjOpen</th>\n",
       "      <th>adjVolume</th>\n",
       "      <th>divCash</th>\n",
       "      <th>splitFactor</th>\n",
       "    </tr>\n",
       "  </thead>\n",
       "  <tbody>\n",
       "    <tr>\n",
       "      <th>0</th>\n",
       "      <td>0</td>\n",
       "      <td>AAPL</td>\n",
       "      <td>2015-05-27 00:00:00+00:00</td>\n",
       "      <td>132.045</td>\n",
       "      <td>132.260</td>\n",
       "      <td>130.05</td>\n",
       "      <td>130.34</td>\n",
       "      <td>45833246</td>\n",
       "      <td>121.682558</td>\n",
       "      <td>121.880685</td>\n",
       "      <td>119.844118</td>\n",
       "      <td>120.111360</td>\n",
       "      <td>45833246</td>\n",
       "      <td>0.0</td>\n",
       "      <td>1.0</td>\n",
       "    </tr>\n",
       "    <tr>\n",
       "      <th>1</th>\n",
       "      <td>1</td>\n",
       "      <td>AAPL</td>\n",
       "      <td>2015-05-28 00:00:00+00:00</td>\n",
       "      <td>131.780</td>\n",
       "      <td>131.950</td>\n",
       "      <td>131.10</td>\n",
       "      <td>131.86</td>\n",
       "      <td>30733309</td>\n",
       "      <td>121.438354</td>\n",
       "      <td>121.595013</td>\n",
       "      <td>120.811718</td>\n",
       "      <td>121.512076</td>\n",
       "      <td>30733309</td>\n",
       "      <td>0.0</td>\n",
       "      <td>1.0</td>\n",
       "    </tr>\n",
       "    <tr>\n",
       "      <th>2</th>\n",
       "      <td>2</td>\n",
       "      <td>AAPL</td>\n",
       "      <td>2015-05-29 00:00:00+00:00</td>\n",
       "      <td>130.280</td>\n",
       "      <td>131.450</td>\n",
       "      <td>129.90</td>\n",
       "      <td>131.23</td>\n",
       "      <td>50884452</td>\n",
       "      <td>120.056069</td>\n",
       "      <td>121.134251</td>\n",
       "      <td>119.705890</td>\n",
       "      <td>120.931516</td>\n",
       "      <td>50884452</td>\n",
       "      <td>0.0</td>\n",
       "      <td>1.0</td>\n",
       "    </tr>\n",
       "    <tr>\n",
       "      <th>3</th>\n",
       "      <td>3</td>\n",
       "      <td>AAPL</td>\n",
       "      <td>2015-06-01 00:00:00+00:00</td>\n",
       "      <td>130.535</td>\n",
       "      <td>131.390</td>\n",
       "      <td>130.05</td>\n",
       "      <td>131.20</td>\n",
       "      <td>32112797</td>\n",
       "      <td>120.291057</td>\n",
       "      <td>121.078960</td>\n",
       "      <td>119.844118</td>\n",
       "      <td>120.903870</td>\n",
       "      <td>32112797</td>\n",
       "      <td>0.0</td>\n",
       "      <td>1.0</td>\n",
       "    </tr>\n",
       "    <tr>\n",
       "      <th>4</th>\n",
       "      <td>4</td>\n",
       "      <td>AAPL</td>\n",
       "      <td>2015-06-02 00:00:00+00:00</td>\n",
       "      <td>129.960</td>\n",
       "      <td>130.655</td>\n",
       "      <td>129.32</td>\n",
       "      <td>129.86</td>\n",
       "      <td>33667627</td>\n",
       "      <td>119.761181</td>\n",
       "      <td>120.401640</td>\n",
       "      <td>119.171406</td>\n",
       "      <td>119.669029</td>\n",
       "      <td>33667627</td>\n",
       "      <td>0.0</td>\n",
       "      <td>1.0</td>\n",
       "    </tr>\n",
       "  </tbody>\n",
       "</table>\n",
       "</div>"
      ],
      "text/plain": [
       "   Unnamed: 0 symbol                       date    close     high     low  \\\n",
       "0           0   AAPL  2015-05-27 00:00:00+00:00  132.045  132.260  130.05   \n",
       "1           1   AAPL  2015-05-28 00:00:00+00:00  131.780  131.950  131.10   \n",
       "2           2   AAPL  2015-05-29 00:00:00+00:00  130.280  131.450  129.90   \n",
       "3           3   AAPL  2015-06-01 00:00:00+00:00  130.535  131.390  130.05   \n",
       "4           4   AAPL  2015-06-02 00:00:00+00:00  129.960  130.655  129.32   \n",
       "\n",
       "     open    volume    adjClose     adjHigh      adjLow     adjOpen  \\\n",
       "0  130.34  45833246  121.682558  121.880685  119.844118  120.111360   \n",
       "1  131.86  30733309  121.438354  121.595013  120.811718  121.512076   \n",
       "2  131.23  50884452  120.056069  121.134251  119.705890  120.931516   \n",
       "3  131.20  32112797  120.291057  121.078960  119.844118  120.903870   \n",
       "4  129.86  33667627  119.761181  120.401640  119.171406  119.669029   \n",
       "\n",
       "   adjVolume  divCash  splitFactor  \n",
       "0   45833246      0.0          1.0  \n",
       "1   30733309      0.0          1.0  \n",
       "2   50884452      0.0          1.0  \n",
       "3   32112797      0.0          1.0  \n",
       "4   33667627      0.0          1.0  "
      ]
     },
     "execution_count": 76,
     "metadata": {},
     "output_type": "execute_result"
    }
   ],
   "source": [
    "df = pd.read_csv('../Assets/Data/AAPL.csv')\n",
    "df.head()"
   ]
  },
  {
   "cell_type": "code",
   "execution_count": 77,
   "metadata": {},
   "outputs": [
    {
     "data": {
      "text/plain": [
       "[<matplotlib.lines.Line2D at 0x2e401103880>]"
      ]
     },
     "execution_count": 77,
     "metadata": {},
     "output_type": "execute_result"
    },
    {
     "data": {
      "image/png": "[encoded data removed]",
      "text/plain": [
       "<Figure size 432x288 with 1 Axes>"
      ]
     },
     "metadata": {},
     "output_type": "display_data"
    }
   ],
   "source": [
    "df1 = df.reset_index()['close']\n",
    "plt.plot(df1)"
   ]
  },
  {
   "cell_type": "code",
   "execution_count": 78,
   "metadata": {},
   "outputs": [],
   "source": [
    "scaler = MinMaxScaler(feature_range=(0, 1))\n",
    "df1 = scaler.fit_transform(np.array(df1).reshape(-1, 1))"
   ]
  },
  {
   "cell_type": "code",
   "execution_count": 79,
   "metadata": {},
   "outputs": [],
   "source": [
    "training_size = int(len(df1)*0.65)\n",
    "test_size = len(df1)-training_size\n",
    "train_data, test_data = df1[0:training_size,:], df1[training_size:len(df1), :1]"
   ]
  },
  {
   "cell_type": "code",
   "execution_count": 80,
   "metadata": {},
   "outputs": [
    {
     "data": {
      "text/plain": [
       "(817, 441)"
      ]
     },
     "execution_count": 80,
     "metadata": {},
     "output_type": "execute_result"
    }
   ],
   "source": [
    "training_size,test_size"
   ]
  },
  {
   "cell_type": "code",
   "execution_count": 81,
   "metadata": {},
   "outputs": [],
   "source": [
    "def create_dataset(dataset, time_step=1):\n",
    "    dataX, dataY = [], []\n",
    "    for i in range(len(dataset)-time_step-1):\n",
    "        a = dataset[i:(i+time_step), 0]  # i=0, 0,1,2,3-----99   100\n",
    "        dataX.append(a)\n",
    "        dataY.append(dataset[i + time_step, 0])\n",
    "    return np.array(dataX), np.array(dataY)"
   ]
  },
  {
   "cell_type": "code",
   "execution_count": 82,
   "metadata": {},
   "outputs": [],
   "source": [
    "time_step = 3\n",
    "X_train, y_train = create_dataset(train_data, time_step)\n",
    "X_test, ytest = create_dataset(test_data, time_step)"
   ]
  },
  {
   "cell_type": "code",
   "execution_count": 83,
   "metadata": {},
   "outputs": [
    {
     "name": "stdout",
     "output_type": "stream",
     "text": [
      "(813, 3)\n",
      "(813,)\n"
     ]
    },
    {
     "data": {
      "text/plain": [
       "(None, None)"
      ]
     },
     "execution_count": 83,
     "metadata": {},
     "output_type": "execute_result"
    }
   ],
   "source": [
    "print(X_train.shape), print(y_train.shape)"
   ]
  },
  {
   "cell_type": "code",
   "execution_count": 84,
   "metadata": {},
   "outputs": [
    {
     "name": "stdout",
     "output_type": "stream",
     "text": [
      "(437, 3)\n",
      "(437,)\n"
     ]
    },
    {
     "data": {
      "text/plain": [
       "(None, None)"
      ]
     },
     "execution_count": 84,
     "metadata": {},
     "output_type": "execute_result"
    }
   ],
   "source": [
    "print(X_test.shape), print(ytest.shape)"
   ]
  },
  {
   "cell_type": "code",
   "execution_count": 85,
   "metadata": {},
   "outputs": [],
   "source": [
    "X_train = X_train.reshape(X_train.shape[0], X_train.shape[1], 1)\n",
    "X_test = X_test.reshape(X_test.shape[0], X_test.shape[1], 1)"
   ]
  },
  {
   "cell_type": "code",
   "execution_count": 86,
   "metadata": {},
   "outputs": [
    {
     "ename": "SystemExit",
     "evalue": "(3, 1)",
     "output_type": "error",
     "traceback": [
      "An exception has occurred, use %tb to see the full traceback.\n",
      "\u001b[1;31mSystemExit\u001b[0m\u001b[1;31m:\u001b[0m (3, 1)\n"
     ]
    },
    {
     "name": "stderr",
     "output_type": "stream",
     "text": [
      "C:\\Users\\Sulai\\AppData\\Roaming\\Python\\Python39\\site-packages\\IPython\\core\\interactiveshell.py:3369: UserWarning: To exit: use 'exit', 'quit', or Ctrl-D.\n",
      "  warn(\"To exit: use 'exit', 'quit', or Ctrl-D.\", stacklevel=1)\n"
     ]
    }
   ],
   "source": [
    "state = (0, 0)\n",
    "train_step(X_train, y_train, state)"
   ]
  }
 ],
 "metadata": {
  "interpreter": {
   "hash": "2ec44ab71e55dcbd77e8108daeda65d530bc364476bc79d734b0ae94bd7b36be"
  },
  "kernelspec": {
   "display_name": "Python 3.9.0 64-bit",
   "language": "python",
   "name": "python3"
  },
  "language_info": {
   "codemirror_mode": {
    "name": "ipython",
    "version": 3
   },
   "file_extension": ".py",
   "mimetype": "text/x-python",
   "name": "python",
   "nbconvert_exporter": "python",
   "pygments_lexer": "ipython3",
   "version": "3.9.0"
  }
 },
 "nbformat": 4,
 "nbformat_minor": 2
}
