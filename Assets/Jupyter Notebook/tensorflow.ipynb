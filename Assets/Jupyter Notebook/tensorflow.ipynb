{
 "cells": [
  {
   "cell_type": "code",
   "execution_count": 1,
   "metadata": {},
   "outputs": [],
   "source": [
    "from datetime import datetime\n",
    "import numpy as np\n",
    "import pandas as pd\n",
    "import matplotlib.pyplot as plt\n",
    "from tensorflow.keras import backend as K\n",
    "from tensorflow.keras.callbacks import Callback\n",
    "from tensorflow.keras.optimizers import SGD\n",
    "from tensorflow.keras.layers import Dropout, LSTM\n",
    "from tensorflow.keras.models import Sequential\n",
    "from sklearn.preprocessing import MinMaxScaler\n",
    "from tensorflow.keras.callbacks import EarlyStopping, ReduceLROnPlateau, ModelCheckpoint, TensorBoard\n",
    "\n",
    "%matplotlib inline\n",
    "\n",
    "\n",
    "class Config:\n",
    "    def __init__(self):\n",
    "        pass\n",
    "\n",
    "\n",
    "def set_config(config_dict):\n",
    "    config = Config()\n",
    "    config.__dict__ = config_dict\n",
    "    return config\n"
   ]
  },
  {
   "cell_type": "code",
   "execution_count": 2,
   "metadata": {},
   "outputs": [],
   "source": [
    "config = set_config({\n",
    "    'row_start': 7228,\n",
    "    'row_end': 7288,\n",
    "    \"timesteps\": 2,\n",
    "    \"max_batch_size\": 13,\n",
    "    \"layer_size\": 1,\n",
    "    \"unit_size\": 1,\n",
    "    \"dropout\": 0,\n",
    "    \"learning_rate\": 0.1,\n",
    "    \"max_epochs\": 1,\n",
    "    \"time_col\": 'tanggal',\n",
    "    \"feature\": ['rr']\n",
    "})\n",
    "\n",
    "# usecols = [*[config.time_col], *config.feature]\n",
    "\n",
    "\n",
    "def train_test_split(dataset, time_step=1):\n",
    "    dataX, dataY = [], []\n",
    "    # for i in range(len(dataset)-time_step-1):\n",
    "    for i in range(len(dataset)-time_step):\n",
    "        dataX.append(dataset[i:(i+time_step), 0])\n",
    "        dataY.append(dataset[i+time_step, 0])\n",
    "    return np.array(dataX), np.array(dataY)\n"
   ]
  },
  {
   "cell_type": "code",
   "execution_count": 3,
   "metadata": {},
   "outputs": [],
   "source": [
    "dataset = pd.read_csv('../Data/1985-2021.csv').replace(to_replace=[8888, 9999, 2555], value=np.nan)[config.row_start:config.row_end]\n",
    "dataset.interpolate(inplace=True)\n",
    "\n",
    "datelist = [datetime.strptime(date, '%Y-%m-%d').date() for date in list(dataset[config.time_col])]"
   ]
  },
  {
   "cell_type": "code",
   "execution_count": 4,
   "metadata": {},
   "outputs": [],
   "source": [
    "featureset = dataset[config.feature]\n",
    "vector_featureset = featureset.values\n",
    "\n",
    "scaller = MinMaxScaler()\n",
    "vector_featureset_scaled = scaller.fit_transform(vector_featureset)\n",
    "\n",
    "train_size = int(vector_featureset_scaled.size * 0.9)\n",
    "trainset, testset = vector_featureset_scaled[0:train_size], vector_featureset_scaled[train_size:vector_featureset_scaled.size]\n",
    "\n",
    "X_train, y_train = train_test_split(trainset, time_step=config.timesteps)\n",
    "X_test, y_test = train_test_split(testset, time_step=config.timesteps)\n",
    "(51, 2)\n",
    "\n",
    "X_train = np.reshape(X_train, (X_train.shape[0], len(config.feature), X_train.shape[1]))\n",
    "X_test = np.reshape(X_test, (X_test.shape[0], len(config.feature), X_test.shape[1]))\n",
    "# (51, 1, 2)"
   ]
  },
  {
   "cell_type": "code",
   "execution_count": 5,
   "metadata": {},
   "outputs": [
    {
     "data": {
      "text/plain": [
       "(52, 1, 2)"
      ]
     },
     "execution_count": 5,
     "metadata": {},
     "output_type": "execute_result"
    }
   ],
   "source": [
    "X_train.shape"
   ]
  },
  {
   "cell_type": "code",
   "execution_count": 6,
   "metadata": {},
   "outputs": [
    {
     "data": {
      "text/plain": [
       "(52,)"
      ]
     },
     "execution_count": 6,
     "metadata": {},
     "output_type": "execute_result"
    }
   ],
   "source": [
    "y_train.shape"
   ]
  },
  {
   "cell_type": "code",
   "execution_count": 7,
   "metadata": {},
   "outputs": [
    {
     "name": "stdout",
     "output_type": "stream",
     "text": [
      "Model: \"sequential\"\n",
      "_________________________________________________________________\n",
      " Layer (type)                Output Shape              Param #   \n",
      "=================================================================\n",
      " lstm (LSTM)                 (13, 1)                   16        \n",
      "                                                                 \n",
      "=================================================================\n",
      "Total params: 16\n",
      "Trainable params: 16\n",
      "Non-trainable params: 0\n",
      "_________________________________________________________________\n"
     ]
    }
   ],
   "source": [
    "y_pred_loss = list()\n",
    "y_true_loss = list()\n",
    "\n",
    "\n",
    "def mean_squared_error(y_true, y_pred):\n",
    "    y_pred_loss.append(y_pred)\n",
    "    y_true_loss.append(y_true)\n",
    "    return K.mean(K.square(y_pred - y_true))\n",
    "\n",
    "\n",
    "def root_mean_squared_error(y_true, y_pred):\n",
    "    return K.sqrt(K.mean(K.square(y_pred - y_true)))\n",
    "\n",
    "# model = Sequential()\n",
    "\n",
    "# for i in range(0, config.layer_size):\n",
    "#     model.add(LSTM(\n",
    "#         units=config.unit_size,\n",
    "#         return_sequences=False if i == config.layer_size - 1 else True,\n",
    "#         input_shape=(config.timesteps, 1),\n",
    "#         go_backwards=True,\n",
    "#         dropout=config.dropout,\n",
    "#         weights=[\n",
    "#             np.float32([[0.5774, 0.5774, 0.5774, 0.5774]]),\n",
    "#             np.float32([[0.5774, 0.5774, 0.5774, 0.5774]]),\n",
    "#             np.float32([0, 0, 0, 0])\n",
    "#         ],\n",
    "#     ))\n",
    "# else:\n",
    "#     # model.compile(optimizer=SGD(learning_rate=config.learning_rate), loss=root_mean_squared_error)\n",
    "#     print(model.get_weights())\n",
    "#     model.compile(optimizer=SGD(learning_rate=config.learning_rate), loss='mean_squared_error')\n",
    "#     model.summary()\n",
    "\n",
    "\n",
    "model = Sequential()\n",
    "\n",
    "model.add(LSTM(\n",
    "    config.unit_size,\n",
    "    # input_shape=(len(config.feature), config.timesteps),\n",
    "    batch_input_shape=(13, 1, 2),\n",
    "    go_backwards=True,\n",
    "    dropout=config.dropout,\n",
    "    weights=[\n",
    "        np.float32([\n",
    "            [0.5774, 0.5774, 0.5774, 0.5774],\n",
    "            [0.5774, 0.5774, 0.5774, 0.5774]\n",
    "        ]),\n",
    "        np.float32([\n",
    "            [0.5774, 0.5774, 0.5774, 0.5774]\n",
    "        ]),\n",
    "        np.float32(\n",
    "            [0, 0, 0, 0]\n",
    "        )\n",
    "    ],\n",
    "))\n",
    "\n",
    "model.compile(\n",
    "    optimizer=SGD(learning_rate=config.learning_rate),\n",
    "    loss=mean_squared_error,\n",
    "    run_eagerly=True\n",
    ")\n",
    "\n",
    "model.summary()\n"
   ]
  },
  {
   "cell_type": "code",
   "execution_count": 8,
   "metadata": {},
   "outputs": [
    {
     "name": "stdout",
     "output_type": "stream",
     "text": [
      "4/4 [==============================] - 0s 56ms/step - loss: 0.0863\n"
     ]
    }
   ],
   "source": [
    "batch_loss = list()\n",
    "\n",
    "class CustomCallback(Callback):\n",
    "    def on_train_batch_end(self, batch, logs=None):\n",
    "        batch_loss.append(logs)\n",
    "        \n",
    "history = model.fit(X_train, y_train, shuffle=False, epochs=config.max_epochs, verbose=1, batch_size=config.max_batch_size, callbacks=[CustomCallback()])"
   ]
  },
  {
   "cell_type": "code",
   "execution_count": 9,
   "metadata": {},
   "outputs": [
    {
     "data": {
      "text/plain": [
       "[{'loss': 0.10938253998756409},\n",
       " {'loss': 0.07940879464149475},\n",
       " {'loss': 0.08572952449321747},\n",
       " {'loss': 0.08628234267234802}]"
      ]
     },
     "execution_count": 9,
     "metadata": {},
     "output_type": "execute_result"
    }
   ],
   "source": [
    "batch_loss"
   ]
  },
  {
   "cell_type": "code",
   "execution_count": 10,
   "metadata": {},
   "outputs": [
    {
     "data": {
      "text/plain": [
       "<tf.Tensor: shape=(13, 1), dtype=float32, numpy=\n",
       "array([[0.00377558],\n",
       "       [0.2109283 ],\n",
       "       [0.32661963],\n",
       "       [0.24064206],\n",
       "       [0.17232989],\n",
       "       [0.0582256 ],\n",
       "       [0.04636811],\n",
       "       [0.0313885 ],\n",
       "       [0.00316408],\n",
       "       [0.02445099],\n",
       "       [0.04007021],\n",
       "       [0.06351911],\n",
       "       [0.07628259]], dtype=float32)>"
      ]
     },
     "execution_count": 10,
     "metadata": {},
     "output_type": "execute_result"
    }
   ],
   "source": [
    "y_pred_loss[0]"
   ]
  },
  {
   "cell_type": "code",
   "execution_count": 11,
   "metadata": {},
   "outputs": [
    {
     "data": {
      "text/plain": [
       "<tf.Tensor: shape=(13, 1), dtype=float32, numpy=\n",
       "array([[1.        ],\n",
       "       [0.52577317],\n",
       "       [0.6206186 ],\n",
       "       [0.2371134 ],\n",
       "       [0.10309278],\n",
       "       [0.17525773],\n",
       "       [0.02061856],\n",
       "       [0.00103093],\n",
       "       [0.15463917],\n",
       "       [0.08969072],\n",
       "       [0.27731958],\n",
       "       [0.15257733],\n",
       "       [0.4402062 ]], dtype=float32)>"
      ]
     },
     "execution_count": 11,
     "metadata": {},
     "output_type": "execute_result"
    }
   ],
   "source": [
    "y_true_loss[0]"
   ]
  },
  {
   "cell_type": "code",
   "execution_count": null,
   "metadata": {},
   "outputs": [],
   "source": []
  }
 ],
 "metadata": {
  "interpreter": {
   "hash": "2ec44ab71e55dcbd77e8108daeda65d530bc364476bc79d734b0ae94bd7b36be"
  },
  "kernelspec": {
   "display_name": "Python 3.9.0 64-bit",
   "language": "python",
   "name": "python3"
  },
  "language_info": {
   "codemirror_mode": {
    "name": "ipython",
    "version": 3
   },
   "file_extension": ".py",
   "mimetype": "text/x-python",
   "name": "python",
   "nbconvert_exporter": "python",
   "pygments_lexer": "ipython3",
   "version": "3.9.0"
  },
  "orig_nbformat": 4
 },
 "nbformat": 4,
 "nbformat_minor": 2
}
