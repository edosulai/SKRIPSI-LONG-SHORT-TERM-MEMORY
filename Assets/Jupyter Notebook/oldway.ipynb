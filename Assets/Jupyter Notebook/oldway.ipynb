{
 "cells": [
  {
   "cell_type": "code",
   "execution_count": 1,
   "metadata": {},
   "outputs": [],
   "source": [
    "import math\n",
    "from keras import backend as K\n",
    "from keras.callbacks import Callback\n",
    "from keras.optimizers import adam_v2\n",
    "from keras.layers import Dropout\n",
    "from keras.layers import LSTM\n",
    "from keras.layers import Dense\n",
    "from keras.models import Sequential\n",
    "from sklearn.preprocessing import MinMaxScaler\n",
    "from keras.callbacks import EarlyStopping, ReduceLROnPlateau, ModelCheckpoint, TensorBoard\n",
    "from datetime import datetime, timedelta\n",
    "import datetime as dt\n",
    "import matplotlib.pyplot as plt\n",
    "import pandas as pd\n",
    "import numpy as np\n",
    "import json\n",
    "\n",
    "class Config:\n",
    "    def __init__(self):\n",
    "        pass\n",
    "\n",
    "def set_config(config_dict):\n",
    "    config = Config()\n",
    "    config.__dict__ = config_dict\n",
    "    return config\n",
    "\n",
    "%matplotlib inline"
   ]
  },
  {
   "cell_type": "code",
   "execution_count": 2,
   "metadata": {},
   "outputs": [],
   "source": [
    "columns_train = ['tavg', 'rh_avg', 'rr', 'ff_avg']\n",
    "\n",
    "config = set_config({\n",
    "    \"input_size\": columns_train.__len__(),\n",
    "    # 'limit_len': 0,\n",
    "    'limit_len': 60,\n",
    "    # \"seq_len\": 14,\n",
    "    \"seq_len\": 4,\n",
    "    \"batch_size\": 256,\n",
    "    \"output_size\": 1,\n",
    "    \"hidden_size\": 64,\n",
    "    # \"num_layers\": 2,\n",
    "    \"dropout\": 0.1,\n",
    "    \"bidirectional\": True,\n",
    "    \"learning_rate\": 0.01,\n",
    "    \"max_epochs\": 30,\n",
    "    \"time_col\": 'tanggal',\n",
    "    \"prediction_col\": columns_train[2],\n",
    "    # 'much_day_predict': 10 + 1,\n",
    "    'much_day_predict': 4 + 1,\n",
    "    'validation_split': 0.1,\n",
    "    'suffle': False,\n",
    "    'nan_handling': 2,\n",
    "})\n",
    "\n",
    "usecols = [config.time_col] + columns_train\n",
    "\n",
    "def root_mean_squared_error(y_true, y_pred):\n",
    "    return K.sqrt(K.mean(K.square(y_pred - y_true)))\n",
    "\n",
    "def printProgressBar(iteration, total, prefix='', suffix='', decimals=1, length=100, fill='█', printEnd=\"\\r\"):\n",
    "    percent = (\"{0:.\" + str(decimals) + \"f}\").format(100 *\n",
    "                                                     (iteration / float(total)))\n",
    "    filledLength = int(length * iteration // total)\n",
    "    bar = fill * filledLength + '-' * (length - filledLength)\n",
    "    print(f'\\r{prefix} |{bar}| {percent}% {suffix}', end=printEnd)\n",
    "    # Print New Line on Complete\n",
    "    if iteration == total:\n",
    "        print()"
   ]
  },
  {
   "cell_type": "code",
   "execution_count": 3,
   "metadata": {},
   "outputs": [
    {
     "name": "stdout",
     "output_type": "stream",
     "text": [
      "Training set shape == (60, 4)\n",
      "All timestamps == 60\n",
      "Featured selected: ['tavg', 'rh_avg', 'rr', 'ff_avg']\n",
      "Shape of training set == (60, 4).\n",
      "range(4, 56)\n",
      "0\n",
      "1\n",
      "2\n",
      "3\n",
      "4\n",
      "5\n",
      "6\n",
      "7\n",
      "8\n",
      "9\n",
      "10\n",
      "11\n",
      "12\n",
      "13\n",
      "14\n",
      "15\n",
      "16\n",
      "17\n",
      "18\n",
      "19\n",
      "20\n",
      "21\n",
      "22\n",
      "23\n",
      "24\n",
      "25\n",
      "26\n",
      "27\n",
      "28\n",
      "29\n",
      "30\n",
      "31\n",
      "32\n",
      "33\n",
      "34\n",
      "35\n",
      "36\n",
      "37\n",
      "38\n",
      "39\n",
      "40\n",
      "41\n",
      "42\n",
      "43\n",
      "44\n",
      "45\n",
      "46\n",
      "47\n",
      "48\n",
      "49\n",
      "50\n",
      "51\n",
      "X_train shape == (52, 4, 3).\n",
      "y_train shape == (52, 1).\n"
     ]
    }
   ],
   "source": [
    "dataset_train = pd.read_csv('../Data/1985-2021.csv', usecols=usecols).replace(to_replace=[8888, 9999, 2555], value=np.nan)[0:config.limit_len]\n",
    "\n",
    "if config.nan_handling == 1:\n",
    "  dataset_train.dropna(inplace=True)\n",
    "elif config.nan_handling == 2:\n",
    "  dataset_train.interpolate(inplace=True)\n",
    "  \n",
    "datelist_train = list(dataset_train[config.time_col])\n",
    "datelist_train = [datetime.strptime(date, '%Y-%m-%d').date() for date in datelist_train]\n",
    "\n",
    "dataset_train = dataset_train[columns_train]\n",
    "training_set = dataset_train.values\n",
    "\n",
    "print('Training set shape == {}'.format(dataset_train.shape))\n",
    "print('All timestamps == {}'.format(len(datelist_train)))\n",
    "print('Featured selected: {}'.format(columns_train))\n",
    "print('Shape of training set == {}.'.format(training_set.shape))\n",
    "\n",
    "scaller = MinMaxScaler()\n",
    "training_set_scaled = scaller.fit_transform(training_set)\n",
    "\n",
    "sc_predict = MinMaxScaler()\n",
    "sc_predict.fit_transform(training_set[:, 2:3])\n",
    "\n",
    "X_train = []\n",
    "y_train = []\n",
    "\n",
    "n_future = config.much_day_predict  # Number of days we want top predict into the future\n",
    "n_past = config.seq_len             # Number of past days we want to use to predict the future\n",
    "\n",
    "print(range(n_past, len(training_set_scaled) - n_future + 1))\n",
    "\n",
    "for i in range(n_past, len(training_set_scaled) - n_future + 1):\n",
    "    print(i - n_past)\n",
    "    X_train.append(training_set_scaled[i - n_past:i, 0:dataset_train.shape[1] - 1])\n",
    "    y_train.append(training_set_scaled[i + n_future - 1:i + n_future, 2])\n",
    "    \n",
    "X_train, y_train = np.array(X_train), np.array(y_train)\n",
    "\n",
    "print('X_train shape == {}.'.format(X_train.shape))\n",
    "print('y_train shape == {}.'.format(y_train.shape))"
   ]
  },
  {
   "cell_type": "code",
   "execution_count": 4,
   "metadata": {},
   "outputs": [
    {
     "name": "stdout",
     "output_type": "stream",
     "text": [
      "Epoch 1/30\n",
      "1/1 [==============================] - 10s 10s/step - loss: 0.2227 - val_loss: 0.3930 - lr: 0.0100\n",
      "Epoch 2/30\n",
      "1/1 [==============================] - 0s 72ms/step - loss: 0.3614 - val_loss: 0.2231 - lr: 0.0100\n",
      "Epoch 3/30\n",
      "1/1 [==============================] - 0s 351ms/step - loss: 0.2216 - val_loss: 0.1991 - lr: 0.0100\n",
      "Epoch 4/30\n",
      "1/1 [==============================] - 0s 101ms/step - loss: 0.2259 - val_loss: 0.2102 - lr: 0.0100\n",
      "Epoch 5/30\n",
      "1/1 [==============================] - 0s 77ms/step - loss: 0.2399 - val_loss: 0.2044 - lr: 0.0100\n",
      "Epoch 6/30\n",
      "1/1 [==============================] - 0s 98ms/step - loss: 0.2318 - val_loss: 0.1961 - lr: 0.0100\n",
      "Epoch 7/30\n",
      "1/1 [==============================] - 0s 84ms/step - loss: 0.2176 - val_loss: 0.1938 - lr: 0.0100\n",
      "Epoch 8/30\n",
      "1/1 [==============================] - 0s 87ms/step - loss: 0.2101 - val_loss: 0.2002 - lr: 0.0100\n",
      "Epoch 9/30\n",
      "1/1 [==============================] - 0s 91ms/step - loss: 0.2088 - val_loss: 0.2107 - lr: 0.0100\n",
      "Epoch 10/30\n",
      "1/1 [==============================] - 0s 84ms/step - loss: 0.2135 - val_loss: 0.2141 - lr: 0.0100\n",
      "Epoch 11/30\n",
      "1/1 [==============================] - 0s 132ms/step - loss: 0.2112 - val_loss: 0.2085 - lr: 0.0100\n",
      "Epoch 12/30\n",
      "1/1 [==============================] - 0s 97ms/step - loss: 0.2092 - val_loss: 0.2008 - lr: 0.0100\n",
      "Epoch 13/30\n",
      "1/1 [==============================] - 0s 90ms/step - loss: 0.2068 - val_loss: 0.1960 - lr: 0.0100\n",
      "Epoch 14/30\n",
      "1/1 [==============================] - 0s 153ms/step - loss: 0.2065 - val_loss: 0.1945 - lr: 0.0100\n",
      "Epoch 15/30\n",
      "1/1 [==============================] - 0s 98ms/step - loss: 0.2089 - val_loss: 0.1946 - lr: 0.0100\n",
      "Epoch 16/30\n",
      "1/1 [==============================] - 0s 91ms/step - loss: 0.2082 - val_loss: 0.1952 - lr: 0.0100\n",
      "Epoch 17/30\n",
      "1/1 [==============================] - ETA: 0s - loss: 0.2075\n",
      "Epoch 17: ReduceLROnPlateau reducing learning rate to 0.004999999888241291.\n",
      "1/1 [==============================] - 0s 135ms/step - loss: 0.2075 - val_loss: 0.1976 - lr: 0.0100\n",
      "Epoch 17: early stopping\n"
     ]
    }
   ],
   "source": [
    "model = Sequential()\n",
    "\n",
    "model.add(LSTM(units=config.hidden_size, return_sequences=True, input_shape=(n_past, dataset_train.shape[1]-1)))\n",
    "model.add(LSTM(units=config.hidden_size, return_sequences=False))\n",
    "model.add(Dropout(config.dropout))\n",
    "model.add(Dense(units=config.output_size, activation='linear'))\n",
    "\n",
    "model.compile(optimizer = adam_v2.Adam(learning_rate=config.learning_rate), loss=root_mean_squared_error)\n",
    "\n",
    "es = EarlyStopping(monitor='val_loss', min_delta=1e-10, patience=10, verbose=1)\n",
    "rlr = ReduceLROnPlateau(monitor='val_loss', factor=0.5, patience=10, verbose=1)\n",
    "# mcp = ModelCheckpoint(filepath='weights.h5', monitor='val_loss', verbose=1, save_best_only=True, save_weights_only=True)\n",
    "# tb = TensorBoard('logs')\n",
    "\n",
    "history = model.fit(X_train, y_train, shuffle=config.suffle, epochs=config.max_epochs, callbacks=[es, rlr], validation_split=config.validation_split, verbose=1, batch_size=config.batch_size)"
   ]
  },
  {
   "cell_type": "code",
   "execution_count": 19,
   "metadata": {},
   "outputs": [
    {
     "data": {
      "text/plain": [
       "(48, 4, 3)"
      ]
     },
     "execution_count": 19,
     "metadata": {},
     "output_type": "execute_result"
    }
   ],
   "source": [
    "X_train[n_past:].shape"
   ]
  },
  {
   "cell_type": "code",
   "execution_count": 17,
   "metadata": {},
   "outputs": [
    {
     "data": {
      "text/plain": [
       "(5, 4, 3)"
      ]
     },
     "execution_count": 17,
     "metadata": {},
     "output_type": "execute_result"
    }
   ],
   "source": [
    "X_train[-n_future:].shape"
   ]
  },
  {
   "cell_type": "code",
   "execution_count": 9,
   "metadata": {},
   "outputs": [
    {
     "name": "stdout",
     "output_type": "stream",
     "text": [
      "2/2 [==============================] - 0s 12ms/step\n",
      "1/1 [==============================] - 0s 50ms/step\n"
     ]
    }
   ],
   "source": [
    "predictions_train = model.predict(X_train[n_past:], verbose=1)\n",
    "predictions_future = model.predict(X_train[-n_future:], verbose=1)"
   ]
  },
  {
   "cell_type": "code",
   "execution_count": 6,
   "metadata": {},
   "outputs": [],
   "source": [
    "START_DATE_FOR_PLOTTING = (\n",
    "    datelist_train[-1] - timedelta(days=180)).strftime(\"%Y-%m-%d\")\n",
    "\n",
    "datelist_future = pd.date_range(\n",
    "    datelist_train[-1], periods=n_future, freq='1d')\n",
    "\n",
    "y_pred_future = sc_predict.inverse_transform(predictions_future)\n",
    "y_pred_train = sc_predict.inverse_transform(predictions_train)\n",
    "\n",
    "PREDICTIONS_FUTURE = pd.DataFrame(y_pred_future, columns=[\n",
    "                                  config.prediction_col]).set_index(pd.Series(datelist_future))\n",
    "PREDICTION_TRAIN = pd.DataFrame(y_pred_train, columns=[config.prediction_col]).set_index(\n",
    "    pd.Series(datelist_train[2 * n_past + n_future - 1:]))\n",
    "DATASET_TRAIN = pd.DataFrame(dataset_train, columns=columns_train).set_index(\n",
    "    pd.Series(datelist_train))\n",
    "\n",
    "PREDICTIONS_FUTURE.index = PREDICTIONS_FUTURE.index.to_series().apply(\n",
    "    lambda x: datetime.strptime(x.strftime('%Y-%m-%d'), '%Y-%m-%d'))\n",
    "PREDICTION_TRAIN.index = PREDICTION_TRAIN.index.to_series().apply(\n",
    "    lambda x: datetime.strptime(x.strftime('%Y-%m-%d'), '%Y-%m-%d'))\n",
    "DATASET_TRAIN.index = DATASET_TRAIN.index.to_series().apply(\n",
    "    lambda x: datetime.strptime(x.strftime('%Y-%m-%d'), '%Y-%m-%d'))\n",
    "\n",
    "# jsonFile = open(\"dataFrame.json\", \"w\")\n",
    "# jsonFile.write(json.dumps({\n",
    "#     'future': pd.DataFrame({\n",
    "#         \"tanggal\": [x.strftime('%d-%m-%Y') for x in PREDICTIONS_FUTURE.index],\n",
    "#         config.prediction_col: [\n",
    "#             x for x in PREDICTIONS_FUTURE[config.prediction_col]]\n",
    "#     }).to_dict('records'),\n",
    "#     'train': pd.DataFrame({\n",
    "#         \"tanggal\": [x.strftime('%d-%m-%Y') for x in PREDICTION_TRAIN.loc[START_DATE_FOR_PLOTTING:].index],\n",
    "#         config.prediction_col: PREDICTION_TRAIN.loc[START_DATE_FOR_PLOTTING:][config.prediction_col].tolist()\n",
    "#     }).to_dict('records'),\n",
    "#     'histori': pd.DataFrame({\n",
    "#         \"tanggal\": [x.strftime('%d-%m-%Y') for x in DATASET_TRAIN.loc[START_DATE_FOR_PLOTTING:].index],\n",
    "#         config.prediction_col: DATASET_TRAIN.loc[START_DATE_FOR_PLOTTING:][config.prediction_col].tolist()\n",
    "#     }).to_dict('records'),\n",
    "# }))\n",
    "# jsonFile.close()"
   ]
  },
  {
   "cell_type": "code",
   "execution_count": 8,
   "metadata": {},
   "outputs": [
    {
     "data": {
      "image/png": "[encoded data removed]",
      "text/plain": [
       "<Figure size 1008x360 with 1 Axes>"
      ]
     },
     "metadata": {
      "needs_background": "dark"
     },
     "output_type": "display_data"
    }
   ],
   "source": [
    "# Set plot size \n",
    "from pylab import rcParams\n",
    "rcParams['figure.figsize'] = 14, 5\n",
    "\n",
    "plt.plot(PREDICTIONS_FUTURE.index, PREDICTIONS_FUTURE[config.prediction_col], color='r', label='Prediksi')\n",
    "plt.plot(PREDICTION_TRAIN.loc[START_DATE_FOR_PLOTTING:].index, PREDICTION_TRAIN.loc[START_DATE_FOR_PLOTTING:][config.prediction_col], color='orange', label='Pelatihan')\n",
    "plt.plot(DATASET_TRAIN.loc[START_DATE_FOR_PLOTTING:].index, DATASET_TRAIN.loc[START_DATE_FOR_PLOTTING:][config.prediction_col], color='b', label='Histori')\n",
    "\n",
    "plt.axvline(x = min(PREDICTIONS_FUTURE.index), color='green', linewidth=2, linestyle='--')\n",
    "\n",
    "plt.grid(which='major', color='#cccccc', alpha=0.5)\n",
    "\n",
    "plt.legend(shadow=True)\n",
    "plt.title('Prediksi dan Histori Curah Hujan', family='Arial', fontsize=12)\n",
    "plt.xlabel('Timeline', family='Arial', fontsize=10)\n",
    "plt.ylabel('Tingkat Curah Hujan', family='Arial', fontsize=10)\n",
    "plt.xticks(rotation=45, fontsize=8)\n",
    "plt.show()"
   ]
  }
 ],
 "metadata": {
  "interpreter": {
   "hash": "2ec44ab71e55dcbd77e8108daeda65d530bc364476bc79d734b0ae94bd7b36be"
  },
  "kernelspec": {
   "display_name": "Python 3.9.0 64-bit",
   "language": "python",
   "name": "python3"
  },
  "language_info": {
   "codemirror_mode": {
    "name": "ipython",
    "version": 3
   },
   "file_extension": ".py",
   "mimetype": "text/x-python",
   "name": "python",
   "nbconvert_exporter": "python",
   "pygments_lexer": "ipython3",
   "version": "3.9.0"
  },
  "orig_nbformat": 4
 },
 "nbformat": 4,
 "nbformat_minor": 2
}
