{
 "cells": [
  {
   "cell_type": "code",
   "execution_count": 1,
   "metadata": {},
   "outputs": [],
   "source": [
    "const dfd = require(\"danfojs-node\");\n",
    "const tf = dfd.tensorflow\n",
    "// const tf = require('@tensorflow/tfjs');"
   ]
  },
  {
   "cell_type": "code",
   "execution_count": 2,
   "metadata": {},
   "outputs": [
    {
     "data": {
      "text/plain": [
       "{\n",
       "  rowStart: 7228,\n",
       "  rowEnd: 7288,\n",
       "  timesteps: 2,\n",
       "  maxBatchSize: 1,\n",
       "  layerSize: 1,\n",
       "  unitSize: 1,\n",
       "  dropout: 0,\n",
       "  learningRate: 0.1,\n",
       "  maxEpochs: 50,\n",
       "  timeCol: 'tanggal',\n",
       "  feature: [ 'rr' ]\n",
       "}"
      ]
     },
     "execution_count": 2,
     "metadata": {},
     "output_type": "execute_result"
    }
   ],
   "source": [
    "config = {\n",
    "  rowStart: 7228,\n",
    "  rowEnd: 7288,\n",
    "  timesteps: 2,\n",
    "  maxBatchSize: 1,\n",
    "  layerSize: 1,\n",
    "  unitSize: 1,\n",
    "  dropout: 0,\n",
    "  learningRate: 0.1,\n",
    "  maxEpochs: 50,\n",
    "  timeCol: 'tanggal',\n",
    "  feature: ['rr']\n",
    "}\n",
    "\n",
    "// usecols = [config.timeCol].concat(config.feature)\n",
    "\n",
    "function trainTestSplit(dataset, timeStep = 1) {\n",
    "  dataX = []\n",
    "  dataY = []\n",
    "\n",
    "  // for (let i = 0; i < dataset.values.length - timeStep - 1; i++) {\n",
    "  for (let i = 0; i < dataset.values.length - timeStep; i++) {\n",
    "    dataX.push(dataset.iloc({ rows: [`${i}:${i + timeStep}`] }).values)\n",
    "    dataY.push(dataset.iloc({ rows: [i + timeStep] }).values[0])\n",
    "  }\n",
    "\n",
    "  return [dataX, dataY]\n",
    "}"
   ]
  },
  {
   "cell_type": "code",
   "execution_count": 15,
   "metadata": {},
   "outputs": [],
   "source": [
    "function sigmod(x) {\n",
    "  return 1 / (1 + Math.exp(-x))\n",
    "}\n",
    "\n",
    "function tanh(x) {\n",
    "  return Math.tanh(x)\n",
    "}"
   ]
  },
  {
   "cell_type": "code",
   "execution_count": 16,
   "metadata": {},
   "outputs": [
    {
     "data": {
      "text/plain": [
       "0.7310585786300049"
      ]
     },
     "execution_count": 16,
     "metadata": {},
     "output_type": "execute_result"
    }
   ],
   "source": [
    "sigmod(1)"
   ]
  },
  {
   "cell_type": "code",
   "execution_count": 17,
   "metadata": {},
   "outputs": [
    {
     "data": {
      "text/plain": [
       "0.7615941559557649"
      ]
     },
     "execution_count": 17,
     "metadata": {},
     "output_type": "execute_result"
    }
   ],
   "source": [
    "tanh(1)"
   ]
  },
  {
   "cell_type": "code",
   "execution_count": 3,
   "metadata": {},
   "outputs": [
    {
     "data": {
      "text/plain": [
       "[ 60, 11 ]"
      ]
     },
     "execution_count": 3,
     "metadata": {},
     "output_type": "execute_result"
    }
   ],
   "source": [
    "$$async$$ = true;\n",
    "(async function () {\n",
    "  dataset = await dfd.readCSV(\"../Data/1985-2021.csv\")\n",
    "  dataset = dataset.iloc({rows:[`${config.rowStart}:${config.rowEnd}`]})\n",
    "  datelist = dataset.loc({columns: [config.timeCol]})\n",
    "\n",
    "  $$done$$(dataset.shape)\n",
    "})()"
   ]
  },
  {
   "cell_type": "code",
   "execution_count": 4,
   "metadata": {},
   "outputs": [
    {
     "data": {
      "text/plain": [
       "Tensor {\n",
       "  kept: false,\n",
       "  isDisposedInternal: false,\n",
       "  shape: [ 4, 1, 2 ],\n",
       "  dtype: 'float32',\n",
       "  size: 8,\n",
       "  strides: [ 2, 2 ],\n",
       "  dataId: {},\n",
       "  id: 18,\n",
       "  rankType: '3',\n",
       "  scopeId: 6\n",
       "}"
      ]
     },
     "execution_count": 4,
     "metadata": {},
     "output_type": "execute_result"
    }
   ],
   "source": [
    "featureset = dataset.loc({columns: config.feature})\n",
    "\n",
    "scaller = new dfd.MinMaxScaler()\n",
    "scaller.fit(featureset)\n",
    "\n",
    "featuresetScaled = scaller.transform(featureset)\n",
    "\n",
    "trainSize = featuresetScaled.values.length * 0.9\n",
    "trainset = featuresetScaled.iloc({rows: [`${0}:${trainSize}`]})\n",
    "testset =  featuresetScaled.iloc({rows: [`${trainSize}:${featuresetScaled.values.length}`]})\n",
    "\n",
    "trainset = trainTestSplit(trainset, timeStep=config.timesteps)\n",
    "testset = trainTestSplit(testset, timeStep=config.timesteps)\n",
    "\n",
    "XTrain = tf.tensor(trainset[0])\n",
    "yTrain = tf.tensor(trainset[1])\n",
    "\n",
    "XTest = tf.tensor(testset[0])\n",
    "yTest = tf.tensor(testset[1])\n",
    "\n",
    "XTrain = tf.reshape(XTrain, [XTrain.shape[0], config.feature.length, XTrain.shape[1]])\n",
    "XTest = tf.reshape(XTest, [XTest.shape[0], config.feature.length, XTest.shape[1]])"
   ]
  },
  {
   "cell_type": "code",
   "execution_count": 5,
   "metadata": {},
   "outputs": [
    {
     "name": "stdout",
     "output_type": "stream",
     "text": [
      "__________________________________________________________________________________________\n",
      "Layer (type)                Input Shape               Output shape              Param #   \n",
      "==========================================================================================\n",
      "lstm_LSTM1 (LSTM)           [[1,1,2]]                 [1,1]                     16        \n",
      "==========================================================================================\n",
      "Total params: 16\n",
      "Trainable params: 16\n",
      "Non-trainable params: 0\n",
      "__________________________________________________________________________________________\n"
     ]
    }
   ],
   "source": [
    "yPredLoss = []\n",
    "yTrueLoss = []\n",
    "loss = []\n",
    "\n",
    "function meanSquaredError(yTrue, yPred) {\n",
    "  yPredLoss.push(yPred.array())\n",
    "  yTrueLoss.push(yTrue.array())\n",
    "  loss.push(tf.losses.meanSquaredError(yTrue, yPred).arraySync())\n",
    "  return tf.losses.meanSquaredError(yTrue, yPred)\n",
    "}\n",
    "\n",
    "model = tf.sequential()\n",
    "\n",
    "model.add(tf.layers.lstm({\n",
    "  units: config.unitSize,\n",
    "  batchInputShape: [config.maxBatchSize, config.feature.length, config.timesteps],\n",
    "  goBackwards: true,\n",
    "  dropout: config.dropout,\n",
    "  weights: [\n",
    "    tf.tensor([\n",
    "      [0.5774, 0.5774, 0.5774, 0.5774],\n",
    "      [0.5774, 0.5774, 0.5774, 0.5774]\n",
    "    ]),\n",
    "    tf.tensor([\n",
    "      [0.5774, 0.5774, 0.5774, 0.5774]\n",
    "    ]),\n",
    "    tf.zeros([4])\n",
    "  ]\n",
    "}))\n",
    "\n",
    "// model.layers[0].getWeights()[0].print()\n",
    "\n",
    "model.compile({\n",
    "  optimizer: tf.train.sgd(config.learningRate),\n",
    "  // loss: 'meanSquaredError',\n",
    "  loss: meanSquaredError,\n",
    "  runEagerly: true\n",
    "})\n",
    "\n",
    "model.summary()"
   ]
  },
  {
   "cell_type": "code",
   "execution_count": 6,
   "metadata": {},
   "outputs": [],
   "source": [
    "batchEnd = []\n",
    "epochEnd = []\n",
    "\n",
    "$$async$$ = true;\n",
    "(async function () {\n",
    "  history = await model.fit(XTrain, yTrain, {\n",
    "    shuffle: false,\n",
    "    epochs: config.maxEpochs,\n",
    "    verbose: 1,\n",
    "    batchSize: config.maxBatchSize,\n",
    "    callbacks: [\n",
    "      new tf.CustomCallback({\n",
    "        // onEpochBegin: null,\n",
    "        onEpochEnd: (epoch, logs = null) => epochEnd.push(logs.loss),\n",
    "        // on_batch_begin: null,\n",
    "        onBatchEnd: (batch, logs = null) => batchEnd.push(logs.loss),\n",
    "        // onTrainBegin: null,\n",
    "        // onTrainEnd: null,\n",
    "      })\n",
    "    ]\n",
    "  })\n",
    "  $$done$$()\n",
    "})()"
   ]
  },
  {
   "cell_type": "code",
   "execution_count": 7,
   "metadata": {},
   "outputs": [
    {
     "name": "stdout",
     "output_type": "stream",
     "text": [
      "[\n",
      "  [ [ 0.003764435416087508 ] ],\n",
      "  [ [ 0.2075117528438568 ] ],\n",
      "  [ [ 0.31454363465309143 ] ],\n",
      "  [ [ 0.24471434950828552 ] ],\n",
      "  [ [ 0.18366461992263794 ] ],\n",
      "  [ [ 0.07705558836460114 ] ],\n",
      "  [ [ 0.06722110509872437 ] ],\n",
      "  [ [ 0.05115007609128952 ] ],\n",
      "  [ [ 0.02120816893875599 ] ],\n",
      "  [ [ 0.045577529817819595 ] ],\n",
      "  [ [ 0.06173235550522804 ] ],\n",
      "  [ [ 0.08842892944812775 ] ],\n",
      "  [ [ 0.10123305767774582 ] ],\n",
      "  [ [ 0.13989442586898804 ] ],\n",
      "  [ [ 0.13641346991062164 ] ],\n",
      "  [ [ 0.06277725100517273 ] ],\n",
      "  [ [ 0.07123468816280365 ] ],\n",
      "  [ [ 0.09615403413772583 ] ],\n",
      "  [ [ 0.11529918015003204 ] ],\n",
      "  [ [ 0.1393214911222458 ] ],\n",
      "  [ [ 0.14054806530475616 ] ],\n",
      "  [ [ 0.08195114135742188 ] ],\n",
      "  [ [ 0.06584157794713974 ] ],\n",
      "  [ [ 0.10253032296895981 ] ],\n",
      "  [ [ 0.07829129695892334 ] ],\n",
      "  [ [ 0.18813830614089966 ] ],\n",
      "  [ [ 0.19023026525974274 ] ],\n",
      "  [ [ 0.11310435831546783 ] ],\n",
      "  [ [ 0.2378578782081604 ] ],\n",
      "  [ [ 0.2208230197429657 ] ],\n",
      "  [ [ 0.20531068742275238 ] ],\n",
      "  [ [ 0.16387724876403809 ] ],\n",
      "  [ [ 0.05718914046883583 ] ],\n",
      "  [ [ 0.05152532458305359 ] ],\n",
      "  [ [ 0.05461660400032997 ] ],\n",
      "  [ [ 0.07834545522928238 ] ],\n",
      "  [ [ 0.2511671781539917 ] ],\n",
      "  [ [ 0.22472266852855682 ] ],\n",
      "  [ [ 0.11742480844259262 ] ],\n",
      "  [ [ 0.11727093160152435 ] ],\n",
      "  [ [ 0.05872110277414322 ] ],\n",
      "  [ [ 0.06433486193418503 ] ],\n",
      "  [ [ 0.17095772922039032 ] ],\n",
      "  [ [ 0.17080838978290558 ] ],\n",
      "  [ [ 0.0676271840929985 ] ],\n",
      "  [ [ 0.07542497664690018 ] ],\n",
      "  [ [ 0.23569855093955994 ] ],\n",
      "  [ [ 0.21877437829971313 ] ],\n",
      "  [ [ 0.08959362655878067 ] ],\n",
      "  [ [ 0.08560583740472794 ] ],\n",
      "  [ [ 0.15521377325057983 ] ],\n",
      "  [ [ 0.15829703211784363 ] ],\n",
      "  [ [ 0.0688503161072731 ] ],\n",
      "  [ [ 0.2642710208892822 ] ],\n",
      "  [ [ 0.35675302147865295 ] ],\n",
      "  [ [ 0.29340511560440063 ] ],\n",
      "  [ [ 0.23938515782356262 ] ],\n",
      "  [ [ 0.13902540504932404 ] ],\n",
      "  [ [ 0.1278323084115982 ] ],\n",
      "  [ [ 0.11117736250162125 ] ],\n",
      "  [ [ 0.07861288636922836 ] ],\n",
      "  [ [ 0.10354588180780411 ] ],\n",
      "  [ [ 0.11967489123344421 ] ],\n",
      "  [ [ 0.14465510845184326 ] ],\n",
      "  [ [ 0.1566121131181717 ] ],\n",
      "  [ [ 0.19095464050769806 ] ],\n",
      "  [ [ 0.1877783238887787 ] ],\n",
      "  [ [ 0.11567392945289612 ] ],\n",
      "  [ [ 0.12309280782938004 ] ],\n",
      "  [ [ 0.14688856899738312 ] ],\n",
      "  [ [ 0.16420356929302216 ] ],\n",
      "  [ [ 0.18585710227489471 ] ],\n",
      "  [ [ 0.18618391454219818 ] ],\n",
      "  [ [ 0.13000643253326416 ] ],\n",
      "  [ [ 0.1127045601606369 ] ],\n",
      "  [ [ 0.14825890958309174 ] ],\n",
      "  [ [ 0.12435949593782425 ] ],\n",
      "  [ [ 0.22593708336353302 ] ],\n",
      "  [ [ 0.229010209441185 ] ],\n",
      "  [ [ 0.15512202680110931 ] ],\n",
      "  [ [ 0.2693970799446106 ] ],\n",
      "  [ [ 0.2541969418525696 ] ],\n",
      "  [ [ 0.2381947785615921 ] ],\n",
      "  [ [ 0.20051506161689758 ] ],\n",
      "  [ [ 0.09695328027009964 ] ],\n",
      "  [ [ 0.09086447209119797 ] ],\n",
      "  [ [ 0.09366174787282944 ] ],\n",
      "  [ [ 0.11694550514221191 ] ],\n",
      "  [ [ 0.2776866853237152 ] ],\n",
      "  [ [ 0.25471049547195435 ] ],\n",
      "  [ [ 0.15282699465751648 ] ],\n",
      "  [ [ 0.15288709104061127 ] ],\n",
      "  [ [ 0.09489420801401138 ] ],\n",
      "  [ [ 0.1002083420753479 ] ],\n",
      "  [ [ 0.20188653469085693 ] ],\n",
      "  [ [ 0.2022877186536789 ] ],\n",
      "  [ [ 0.1024404838681221 ] ],\n",
      "  [ [ 0.10978564620018005 ] ],\n",
      "  [ [ 0.26040685176849365 ] ],\n",
      "  [ [ 0.24579228460788727 ] ],\n",
      "  ... 2500 more items\n",
      "]\n"
     ]
    }
   ],
   "source": [
    "$$async$$ = true;\n",
    "(async function () {\n",
    "  await Promise.all(yPredLoss).then(values => {\n",
    "    console.log(values);\n",
    "  });\n",
    "  $$done$$()\n",
    "})()"
   ]
  },
  {
   "cell_type": "code",
   "execution_count": 8,
   "metadata": {},
   "outputs": [
    {
     "data": {
      "text/plain": [
       "[\n",
       "       0.9924852848052979,    0.10129033029079437,   0.09368187189102173,\n",
       "  0.000057774414017330855,   0.006491821259260178,  0.009643659926950932,\n",
       "    0.0021717974450439215,   0.002511928789317608,   0.01780383288860321,\n",
       "    0.0019459737231954932,    0.04647785425186157,  0.004115016665309668,\n",
       "       0.1149027869105339,   5.172122996555117e-7,  0.004816798958927393,\n",
       "     0.012651857919991016,   0.014031832106411457,  0.026777978986501694,\n",
       "     0.032608095556497574,    0.01402103528380394,  0.016962140798568726,\n",
       "     0.006384733133018017,   0.016909027472138405, 0.0037568577099591494,\n",
       "       0.3890896737575531,    0.01543080247938633,  0.014172444120049477,\n",
       "       0.2877036929130554, 0.00012218552001286298,    0.1080184057354927,\n",
       "     0.030050890520215034,    0.02486666850745678,  0.002926415763795376,\n",
       "    0.0006631721626035869,   0.005667124874889851,    0.6042335629463196,\n",
       "     0.058012526482343674,   0.007149661425501108,  0.010607315227389336,\n",
       "     0.013511737808585167, 0.00012765433348249644,   0.21867209672927856,\n",
       "     0.014259066432714462,    0.02847539260983467,  0.000685772392898798,\n",
       "       0.5160834193229675,    0.04805026575922966,   0.00826996099203825,\n",
       "     0.008027018047869205,     0.1518286019563675,  0.018115872517228127,\n",
       "     0.025057950988411903,      0.867039680480957,   0.06838337332010269,\n",
       "      0.06962503492832184,  0.0031687570735812187,  0.018575608730316162,\n",
       "     0.001312781241722405,   0.011494788341224194,  0.012132236734032631,\n",
       "     0.005779995582997799, 0.00019196544599253684,   0.02485184744000435,\n",
       "    0.0000627615227131173,    0.08042559772729874,  0.002681105164811015,\n",
       "     0.014584913849830627,  0.0035502288956195116,  0.004435282666236162,\n",
       "     0.012747595086693764,   0.017337705940008163,  0.005165992770344019,\n",
       "      0.03093188814818859,  0.0010143737308681011, 0.0069175357930362225,\n",
       "     0.011453663930296898,     0.3337399959564209,  0.026250334456562996,\n",
       "     0.006442972458899021,    0.24439425766468048,  0.001814160030335188,\n",
       "       0.0871947705745697,    0.04253329709172249,   0.03776395320892334,\n",
       "      0.00880979374051094,   0.004236874170601368, 0.0013129869475960732,\n",
       "       0.5457140207290649,    0.07149067521095276,  0.002977649448439479,\n",
       "     0.019152898341417313,    0.02306029573082924, 0.0022535459138453007,\n",
       "       0.1864084154367447,   0.022602157667279243,   0.04009039327502251,\n",
       "   0.00007440862827934325,     0.4678953289985657,   0.05949306860566139,\n",
       "      0.01391390897333622,\n",
       "  ... 2500 more items\n",
       "]"
      ]
     },
     "execution_count": 8,
     "metadata": {},
     "output_type": "execute_result"
    }
   ],
   "source": [
    "batchEnd"
   ]
  },
  {
   "cell_type": "code",
   "execution_count": 9,
   "metadata": {},
   "outputs": [
    {
     "data": {
      "text/plain": [
       "[\n",
       "  0.07985345274209976,  0.0716899037361145,  0.0690271183848381,\n",
       "  0.06783075630664825,  0.0671655684709549, 0.06673196703195572,\n",
       "  0.06641414016485214, 0.06616140902042389, 0.06594928354024887,\n",
       "  0.06576499342918396, 0.06560125201940536, 0.06545361131429672,\n",
       "  0.06531914323568344, 0.06519577652215958, 0.06508197635412216,\n",
       "  0.06497654318809509, 0.06487848609685898, 0.06478700786828995,\n",
       "  0.06470144540071487,  0.0646212100982666, 0.06454578787088394,\n",
       "  0.06447473913431168, 0.06440768390893936, 0.06434430181980133,\n",
       "  0.06428425014019012, 0.06422726064920425,  0.0641731321811676,\n",
       "  0.06412162631750107, 0.06407254189252853, 0.06402570009231567,\n",
       "  0.06398095935583115, 0.06393817067146301, 0.06389720737934113,\n",
       "  0.06385792791843414,  0.0638202428817749, 0.06378404796123505,\n",
       "   0.0637492686510086, 0.06371579319238663, 0.06368356943130493,\n",
       "  0.06365251541137695, 0.06362255662679672, 0.06359364092350006,\n",
       "  0.06356573104858398, 0.06353874504566193,  0.0635126605629921,\n",
       "  0.06348742544651031, 0.06346297264099121, 0.06343930959701538,\n",
       "  0.06341636925935745, 0.06339411437511444\n",
       "]"
      ]
     },
     "execution_count": 9,
     "metadata": {},
     "output_type": "execute_result"
    }
   ],
   "source": [
    "epochEnd"
   ]
  },
  {
   "cell_type": "code",
   "execution_count": 10,
   "metadata": {},
   "outputs": [
    {
     "data": {
      "text/plain": [
       "Tensor {\n",
       "  kept: false,\n",
       "  isDisposedInternal: false,\n",
       "  shape: [ 4, 1 ],\n",
       "  dtype: 'float32',\n",
       "  size: 4,\n",
       "  strides: [ 1 ],\n",
       "  dataId: {},\n",
       "  id: 666015,\n",
       "  rankType: '2',\n",
       "  scopeId: 566981\n",
       "}"
      ]
     },
     "execution_count": 10,
     "metadata": {},
     "output_type": "execute_result"
    }
   ],
   "source": [
    "proyeksi = model.predict(XTest, yTest)"
   ]
  },
  {
   "cell_type": "code",
   "execution_count": 11,
   "metadata": {},
   "outputs": [
    {
     "data": {
      "text/plain": [
       "Float32Array(4) [\n",
       "  0.1997341513633728,\n",
       "  0.187837153673172,\n",
       "  0.18746259808540344,\n",
       "  0.18775293231010437\n",
       "]"
      ]
     },
     "execution_count": 11,
     "metadata": {},
     "output_type": "execute_result"
    }
   ],
   "source": [
    "proyeksi.dataSync()"
   ]
  },
  {
   "cell_type": "code",
   "execution_count": null,
   "metadata": {},
   "outputs": [],
   "source": []
  }
 ],
 "metadata": {
  "kernelspec": {
   "display_name": "JavaScript (Node.js)",
   "language": "javascript",
   "name": "javascript"
  },
  "language_info": {
   "file_extension": ".js",
   "mimetype": "application/javascript",
   "name": "javascript",
   "version": "16.13.2"
  },
  "orig_nbformat": 4
 },
 "nbformat": 4,
 "nbformat_minor": 2
}
