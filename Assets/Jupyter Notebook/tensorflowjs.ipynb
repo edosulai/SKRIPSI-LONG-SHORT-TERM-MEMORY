{
 "cells": [
  {
   "cell_type": "code",
   "execution_count": 1,
   "metadata": {},
   "outputs": [],
   "source": [
    "const dfd = require(\"danfojs-node\");\n",
    "const tf = dfd.tensorflow\n",
    "// const tf = require('@tensorflow/tfjs');"
   ]
  },
  {
   "cell_type": "code",
   "execution_count": 2,
   "metadata": {},
   "outputs": [
    {
     "data": {
      "text/plain": [
       "{\n",
       "  rowStart: 7228,\n",
       "  rowEnd: 7288,\n",
       "  timesteps: 2,\n",
       "  maxBatchSize: 1,\n",
       "  layerSize: 1,\n",
       "  unitSize: 1,\n",
       "  dropout: 0,\n",
       "  learningRate: 0.1,\n",
       "  maxEpochs: 50,\n",
       "  timeCol: 'tanggal',\n",
       "  feature: [ 'rr' ]\n",
       "}"
      ]
     },
     "execution_count": 2,
     "metadata": {},
     "output_type": "execute_result"
    }
   ],
   "source": [
    "config = {\n",
    "  rowStart: 7228,\n",
    "  rowEnd: 7288,\n",
    "  timesteps: 2,\n",
    "  // maxBatchSize: 13,\n",
    "  maxBatchSize: 1,\n",
    "  layerSize: 1,\n",
    "  unitSize: 1,\n",
    "  dropout: 0,\n",
    "  learningRate: 0.1,\n",
    "  maxEpochs: 50,\n",
    "  timeCol: 'tanggal',\n",
    "  feature: ['rr']\n",
    "}\n",
    "\n",
    "// usecols = [config.timeCol].concat(config.feature)\n",
    "\n",
    "function trainTestSplit(dataset, timeStep = 1) {\n",
    "  dataX = []\n",
    "  dataY = []\n",
    "\n",
    "  // for (let i = 0; i < dataset.values.length - timeStep - 1; i++) {\n",
    "  for (let i = 0; i < dataset.values.length - timeStep; i++) {\n",
    "    dataX.push(dataset.iloc({ rows: [`${i}:${i + timeStep}`] }).values)\n",
    "    dataY.push(dataset.iloc({ rows: [i + timeStep] }).values[0])\n",
    "  }\n",
    "\n",
    "  return [dataX, dataY]\n",
    "}"
   ]
  },
  {
   "cell_type": "code",
   "execution_count": 3,
   "metadata": {},
   "outputs": [
    {
     "data": {
      "text/plain": [
       "[ 60, 11 ]"
      ]
     },
     "execution_count": 3,
     "metadata": {},
     "output_type": "execute_result"
    }
   ],
   "source": [
    "$$async$$ = true;\n",
    "(async function () {\n",
    "  dataset = await dfd.readCSV(\"../Data/1985-2021.csv\")\n",
    "  dataset = dataset.iloc({rows:[`${config.rowStart}:${config.rowEnd}`]})\n",
    "  datelist = dataset.loc({columns: [config.timeCol]})\n",
    "\n",
    "  $$done$$(dataset.shape)\n",
    "})()"
   ]
  },
  {
   "cell_type": "code",
   "execution_count": 4,
   "metadata": {},
   "outputs": [
    {
     "data": {
      "text/plain": [
       "Tensor {\n",
       "  kept: false,\n",
       "  isDisposedInternal: false,\n",
       "  shape: [ 4, 1, 2 ],\n",
       "  dtype: 'float32',\n",
       "  size: 8,\n",
       "  strides: [ 2, 2 ],\n",
       "  dataId: {},\n",
       "  id: 18,\n",
       "  rankType: '3',\n",
       "  scopeId: 6\n",
       "}"
      ]
     },
     "execution_count": 4,
     "metadata": {},
     "output_type": "execute_result"
    }
   ],
   "source": [
    "featureset = dataset.loc({columns: config.feature})\n",
    "\n",
    "scaller = new dfd.MinMaxScaler()\n",
    "scaller.fit(featureset)\n",
    "\n",
    "featuresetScaled = scaller.transform(featureset)\n",
    "\n",
    "trainSize = featuresetScaled.values.length * 0.9\n",
    "trainset = featuresetScaled.iloc({rows: [`${0}:${trainSize}`]})\n",
    "testset =  featuresetScaled.iloc({rows: [`${trainSize}:${featuresetScaled.values.length}`]})\n",
    "\n",
    "trainset = trainTestSplit(trainset, timeStep=config.timesteps)\n",
    "testset = trainTestSplit(testset, timeStep=config.timesteps)\n",
    "\n",
    "XTrain = tf.tensor(trainset[0])\n",
    "yTrain = tf.tensor(trainset[1])\n",
    "\n",
    "XTest = tf.tensor(testset[0])\n",
    "yTest = tf.tensor(testset[1])\n",
    "\n",
    "XTrain = tf.reshape(XTrain, [XTrain.shape[0], config.feature.length, XTrain.shape[1]])\n",
    "XTest = tf.reshape(XTest, [XTest.shape[0], config.feature.length, XTest.shape[1]])"
   ]
  },
  {
   "cell_type": "code",
   "execution_count": 9,
   "metadata": {},
   "outputs": [
    {
     "name": "stdout",
     "output_type": "stream",
     "text": [
      "__________________________________________________________________________________________\n",
      "Layer (type)                Input Shape               Output shape              Param #   \n",
      "==========================================================================================\n",
      "lstm_LSTM2 (LSTM)           [[1,1,2]]                 [1,1]                     16        \n",
      "==========================================================================================\n",
      "Total params: 16\n",
      "Trainable params: 16\n",
      "Non-trainable params: 0\n",
      "__________________________________________________________________________________________\n"
     ]
    }
   ],
   "source": [
    "// yPredLoss = []\n",
    "// yTrueLoss = []\n",
    "// loss = []\n",
    "\n",
    "// function meanSquaredError(yTrue, yPred) {\n",
    "//   yPredLoss.push(yPred.array())\n",
    "//   yTrueLoss.push(yTrue.array())\n",
    "//   loss.push(tf.losses.meanSquaredError(yTrue, yPred).arraySync())\n",
    "//   return tf.losses.meanSquaredError(yTrue, yPred)\n",
    "// }\n",
    "\n",
    "model = tf.sequential()\n",
    "\n",
    "model.add(tf.layers.lstm({\n",
    "  units: config.unitSize,\n",
    "  batchInputShape: [config.maxBatchSize, config.feature.length, config.timesteps],\n",
    "  goBackwards: true,\n",
    "  dropout: config.dropout,\n",
    "  weights: [\n",
    "    tf.tensor([\n",
    "      [0.5774, 0.5774, 0.5774, 0.5774],\n",
    "      [0.5774, 0.5774, 0.5774, 0.5774]\n",
    "    ]),\n",
    "    tf.tensor([\n",
    "      [0.5774, 0.5774, 0.5774, 0.5774]\n",
    "    ]),\n",
    "    tf.zeros([4])\n",
    "  ]\n",
    "}))\n",
    "\n",
    "// model.layers[0].getWeights()[0].print()\n",
    "\n",
    "model.compile({\n",
    "  optimizer: tf.train.sgd(config.learningRate),\n",
    "  loss: 'meanSquaredError',\n",
    "  // loss: meanSquaredError,\n",
    "  runEagerly: true\n",
    "})\n",
    "\n",
    "model.summary()"
   ]
  },
  {
   "cell_type": "code",
   "execution_count": 10,
   "metadata": {},
   "outputs": [
    {
     "name": "stdout",
     "output_type": "stream",
     "text": [
      "Epoch 1 / 50\n"
     ]
    },
    {
     "name": "stderr",
     "output_type": "stream",
     "text": [
      "\n"
     ]
    },
    {
     "name": "stdout",
     "output_type": "stream",
     "text": [
      "1663ms 31974us/step - loss=0.0799 \n",
      "Epoch 2 / 50\n"
     ]
    },
    {
     "name": "stderr",
     "output_type": "stream",
     "text": [
      "\n"
     ]
    },
    {
     "name": "stdout",
     "output_type": "stream",
     "text": [
      "738ms 14195us/step - loss=0.0717 \n",
      "Epoch 3 / 50\n"
     ]
    },
    {
     "name": "stderr",
     "output_type": "stream",
     "text": [
      "\n"
     ]
    },
    {
     "name": "stdout",
     "output_type": "stream",
     "text": [
      "1009ms 19412us/step - loss=0.0690 \n",
      "Epoch 4 / 50\n"
     ]
    },
    {
     "name": "stderr",
     "output_type": "stream",
     "text": [
      "\n"
     ]
    },
    {
     "name": "stdout",
     "output_type": "stream",
     "text": [
      "1427ms 27444us/step - loss=0.0678 \n",
      "Epoch 5 / 50\n"
     ]
    },
    {
     "name": "stderr",
     "output_type": "stream",
     "text": [
      "\n"
     ]
    },
    {
     "name": "stdout",
     "output_type": "stream",
     "text": [
      "821ms 15782us/step - loss=0.0672 \n",
      "Epoch 6 / 50\n"
     ]
    },
    {
     "name": "stderr",
     "output_type": "stream",
     "text": [
      "\n"
     ]
    },
    {
     "name": "stdout",
     "output_type": "stream",
     "text": [
      "963ms 18525us/step - loss=0.0667 \n",
      "Epoch 7 / 50\n"
     ]
    },
    {
     "name": "stderr",
     "output_type": "stream",
     "text": [
      "\n"
     ]
    },
    {
     "name": "stdout",
     "output_type": "stream",
     "text": [
      "679ms 13049us/step - loss=0.0664 \n",
      "Epoch 8 / 50\n"
     ]
    },
    {
     "name": "stderr",
     "output_type": "stream",
     "text": [
      "\n"
     ]
    },
    {
     "name": "stdout",
     "output_type": "stream",
     "text": [
      "619ms 11896us/step - loss=0.0662 \n",
      "Epoch 9 / 50\n"
     ]
    },
    {
     "name": "stderr",
     "output_type": "stream",
     "text": [
      "\n"
     ]
    },
    {
     "name": "stdout",
     "output_type": "stream",
     "text": [
      "539ms 10369us/step - loss=0.0659 \n",
      "Epoch 10 / 50\n"
     ]
    },
    {
     "name": "stderr",
     "output_type": "stream",
     "text": [
      "\n"
     ]
    },
    {
     "name": "stdout",
     "output_type": "stream",
     "text": [
      "1100ms 21157us/step - loss=0.0658 \n",
      "Epoch 11 / 50\n"
     ]
    },
    {
     "name": "stderr",
     "output_type": "stream",
     "text": [
      "\n"
     ]
    },
    {
     "name": "stdout",
     "output_type": "stream",
     "text": [
      "895ms 17218us/step - loss=0.0656 \n",
      "Epoch 12 / 50\n"
     ]
    },
    {
     "name": "stderr",
     "output_type": "stream",
     "text": [
      "\n"
     ]
    },
    {
     "name": "stdout",
     "output_type": "stream",
     "text": [
      "1369ms 26335us/step - loss=0.0655 \n",
      "Epoch 13 / 50\n"
     ]
    },
    {
     "name": "stderr",
     "output_type": "stream",
     "text": [
      "\n"
     ]
    },
    {
     "name": "stdout",
     "output_type": "stream",
     "text": [
      "774ms 14889us/step - loss=0.0653 \n",
      "Epoch 14 / 50\n"
     ]
    },
    {
     "name": "stderr",
     "output_type": "stream",
     "text": [
      "\n"
     ]
    },
    {
     "name": "stdout",
     "output_type": "stream",
     "text": [
      "1445ms 27792us/step - loss=0.0652 \n",
      "Epoch 15 / 50\n"
     ]
    },
    {
     "name": "stderr",
     "output_type": "stream",
     "text": [
      "\n"
     ]
    },
    {
     "name": "stdout",
     "output_type": "stream",
     "text": [
      "1367ms 26297us/step - loss=0.0651 \n",
      "Epoch 16 / 50\n"
     ]
    },
    {
     "name": "stderr",
     "output_type": "stream",
     "text": [
      "\n"
     ]
    },
    {
     "name": "stdout",
     "output_type": "stream",
     "text": [
      "850ms 16354us/step - loss=0.0650 \n",
      "Epoch 17 / 50\n"
     ]
    },
    {
     "name": "stderr",
     "output_type": "stream",
     "text": [
      "\n"
     ]
    },
    {
     "name": "stdout",
     "output_type": "stream",
     "text": [
      "1079ms 20752us/step - loss=0.0649 \n",
      "Epoch 18 / 50\n"
     ]
    },
    {
     "name": "stderr",
     "output_type": "stream",
     "text": [
      "\n"
     ]
    },
    {
     "name": "stdout",
     "output_type": "stream",
     "text": [
      "1328ms 25532us/step - loss=0.0648 \n",
      "Epoch 19 / 50\n"
     ]
    },
    {
     "name": "stderr",
     "output_type": "stream",
     "text": [
      "\n"
     ]
    },
    {
     "name": "stdout",
     "output_type": "stream",
     "text": [
      "808ms 15533us/step - loss=0.0647 \n",
      "Epoch 20 / 50\n"
     ]
    },
    {
     "name": "stderr",
     "output_type": "stream",
     "text": [
      "\n"
     ]
    },
    {
     "name": "stdout",
     "output_type": "stream",
     "text": [
      "1420ms 27303us/step - loss=0.0646 \n",
      "Epoch 21 / 50\n"
     ]
    },
    {
     "name": "stderr",
     "output_type": "stream",
     "text": [
      "\n"
     ]
    },
    {
     "name": "stdout",
     "output_type": "stream",
     "text": [
      "849ms 16323us/step - loss=0.0645 \n",
      "Epoch 22 / 50\n"
     ]
    },
    {
     "name": "stderr",
     "output_type": "stream",
     "text": [
      "\n"
     ]
    },
    {
     "name": "stdout",
     "output_type": "stream",
     "text": [
      "786ms 15112us/step - loss=0.0645 \n",
      "Epoch 23 / 50\n"
     ]
    },
    {
     "name": "stderr",
     "output_type": "stream",
     "text": [
      "\n"
     ]
    },
    {
     "name": "stdout",
     "output_type": "stream",
     "text": [
      "755ms 14519us/step - loss=0.0644 \n",
      "Epoch 24 / 50\n"
     ]
    },
    {
     "name": "stderr",
     "output_type": "stream",
     "text": [
      "\n"
     ]
    },
    {
     "name": "stdout",
     "output_type": "stream",
     "text": [
      "746ms 14349us/step - loss=0.0643 \n",
      "Epoch 25 / 50\n"
     ]
    },
    {
     "name": "stderr",
     "output_type": "stream",
     "text": [
      "\n"
     ]
    },
    {
     "name": "stdout",
     "output_type": "stream",
     "text": [
      "760ms 14616us/step - loss=0.0643 \n",
      "Epoch 26 / 50\n"
     ]
    },
    {
     "name": "stderr",
     "output_type": "stream",
     "text": [
      "\n"
     ]
    },
    {
     "name": "stdout",
     "output_type": "stream",
     "text": [
      "773ms 14867us/step - loss=0.0642 \n",
      "Epoch 27 / 50\n"
     ]
    },
    {
     "name": "stderr",
     "output_type": "stream",
     "text": [
      "\n"
     ]
    },
    {
     "name": "stdout",
     "output_type": "stream",
     "text": [
      "710ms 13645us/step - loss=0.0642 \n",
      "Epoch 28 / 50\n"
     ]
    },
    {
     "name": "stderr",
     "output_type": "stream",
     "text": [
      "\n"
     ]
    },
    {
     "name": "stdout",
     "output_type": "stream",
     "text": [
      "693ms 13326us/step - loss=0.0641 \n",
      "Epoch 29 / 50\n"
     ]
    },
    {
     "name": "stderr",
     "output_type": "stream",
     "text": [
      "\n"
     ]
    },
    {
     "name": "stdout",
     "output_type": "stream",
     "text": [
      "527ms 10126us/step - loss=0.0641 \n",
      "Epoch 30 / 50\n"
     ]
    },
    {
     "name": "stderr",
     "output_type": "stream",
     "text": [
      "\n"
     ]
    },
    {
     "name": "stdout",
     "output_type": "stream",
     "text": [
      "498ms 9581us/step - loss=0.0640 \n",
      "Epoch 31 / 50\n"
     ]
    },
    {
     "name": "stderr",
     "output_type": "stream",
     "text": [
      "\n"
     ]
    },
    {
     "name": "stdout",
     "output_type": "stream",
     "text": [
      "476ms 9145us/step - loss=0.0640 \n",
      "Epoch 32 / 50\n"
     ]
    },
    {
     "name": "stderr",
     "output_type": "stream",
     "text": [
      "\n"
     ]
    },
    {
     "name": "stdout",
     "output_type": "stream",
     "text": [
      "481ms 9257us/step - loss=0.0639 \n",
      "Epoch 33 / 50\n"
     ]
    },
    {
     "name": "stderr",
     "output_type": "stream",
     "text": [
      "\n"
     ]
    },
    {
     "name": "stdout",
     "output_type": "stream",
     "text": [
      "480ms 9229us/step - loss=0.0639 \n",
      "Epoch 34 / 50\n"
     ]
    },
    {
     "name": "stderr",
     "output_type": "stream",
     "text": [
      "\n"
     ]
    },
    {
     "name": "stdout",
     "output_type": "stream",
     "text": [
      "546ms 10507us/step - loss=0.0639 \n",
      "Epoch 35 / 50\n"
     ]
    },
    {
     "name": "stderr",
     "output_type": "stream",
     "text": [
      "\n"
     ]
    },
    {
     "name": "stdout",
     "output_type": "stream",
     "text": [
      "929ms 17870us/step - loss=0.0638 \n",
      "Epoch 36 / 50\n"
     ]
    },
    {
     "name": "stderr",
     "output_type": "stream",
     "text": [
      "\n"
     ]
    },
    {
     "name": "stdout",
     "output_type": "stream",
     "text": [
      "1074ms 20655us/step - loss=0.0638 \n",
      "Epoch 37 / 50\n"
     ]
    },
    {
     "name": "stderr",
     "output_type": "stream",
     "text": [
      "\n"
     ]
    },
    {
     "name": "stdout",
     "output_type": "stream",
     "text": [
      "1101ms 21178us/step - loss=0.0637 \n",
      "Epoch 38 / 50\n"
     ]
    },
    {
     "name": "stderr",
     "output_type": "stream",
     "text": [
      "\n"
     ]
    },
    {
     "name": "stdout",
     "output_type": "stream",
     "text": [
      "1285ms 24706us/step - loss=0.0637 \n",
      "Epoch 39 / 50\n"
     ]
    },
    {
     "name": "stderr",
     "output_type": "stream",
     "text": [
      "\n"
     ]
    },
    {
     "name": "stdout",
     "output_type": "stream",
     "text": [
      "674ms 12970us/step - loss=0.0637 \n",
      "Epoch 40 / 50\n"
     ]
    },
    {
     "name": "stderr",
     "output_type": "stream",
     "text": [
      "\n"
     ]
    },
    {
     "name": "stdout",
     "output_type": "stream",
     "text": [
      "579ms 11142us/step - loss=0.0637 \n",
      "Epoch 41 / 50\n"
     ]
    },
    {
     "name": "stderr",
     "output_type": "stream",
     "text": [
      "\n"
     ]
    },
    {
     "name": "stdout",
     "output_type": "stream",
     "text": [
      "526ms 10107us/step - loss=0.0636 \n",
      "Epoch 42 / 50\n"
     ]
    },
    {
     "name": "stderr",
     "output_type": "stream",
     "text": [
      "\n"
     ]
    },
    {
     "name": "stdout",
     "output_type": "stream",
     "text": [
      "501ms 9638us/step - loss=0.0636 \n",
      "Epoch 43 / 50\n"
     ]
    },
    {
     "name": "stderr",
     "output_type": "stream",
     "text": [
      "\n"
     ]
    },
    {
     "name": "stdout",
     "output_type": "stream",
     "text": [
      "489ms 9404us/step - loss=0.0636 \n",
      "Epoch 44 / 50\n"
     ]
    },
    {
     "name": "stderr",
     "output_type": "stream",
     "text": [
      "\n"
     ]
    },
    {
     "name": "stdout",
     "output_type": "stream",
     "text": [
      "479ms 9203us/step - loss=0.0635 \n",
      "Epoch 45 / 50\n"
     ]
    },
    {
     "name": "stderr",
     "output_type": "stream",
     "text": [
      "\n"
     ]
    },
    {
     "name": "stdout",
     "output_type": "stream",
     "text": [
      "494ms 9503us/step - loss=0.0635 \n",
      "Epoch 46 / 50\n"
     ]
    },
    {
     "name": "stderr",
     "output_type": "stream",
     "text": [
      "\n"
     ]
    },
    {
     "name": "stdout",
     "output_type": "stream",
     "text": [
      "477ms 9181us/step - loss=0.0635 \n",
      "Epoch 47 / 50\n"
     ]
    },
    {
     "name": "stderr",
     "output_type": "stream",
     "text": [
      "\n"
     ]
    },
    {
     "name": "stdout",
     "output_type": "stream",
     "text": [
      "631ms 12135us/step - loss=0.0635 \n",
      "Epoch 48 / 50\n"
     ]
    },
    {
     "name": "stderr",
     "output_type": "stream",
     "text": [
      "\n"
     ]
    },
    {
     "name": "stdout",
     "output_type": "stream",
     "text": [
      "493ms 9487us/step - loss=0.0634 \n",
      "Epoch 49 / 50\n"
     ]
    },
    {
     "name": "stderr",
     "output_type": "stream",
     "text": [
      "\n"
     ]
    },
    {
     "name": "stdout",
     "output_type": "stream",
     "text": [
      "501ms 9628us/step - loss=0.0634 \n",
      "Epoch 50 / 50\n"
     ]
    },
    {
     "name": "stderr",
     "output_type": "stream",
     "text": [
      "\n"
     ]
    },
    {
     "name": "stdout",
     "output_type": "stream",
     "text": [
      "492ms 9461us/step - loss=0.0634 \n"
     ]
    }
   ],
   "source": [
    "// batchEnd = []\n",
    "epochEnd = []\n",
    "\n",
    "$$async$$ = true;\n",
    "(async function () {\n",
    "  history = await model.fit(XTrain, yTrain, {\n",
    "    shuffle: false,\n",
    "    epochs: config.maxEpochs,\n",
    "    verbose: 1,\n",
    "    batchSize: config.maxBatchSize,\n",
    "    callbacks: [\n",
    "      new tf.CustomCallback({\n",
    "        // onEpochBegin: null,\n",
    "        onEpochEnd: (epoch, logs = null) => epochEnd.push(logs.loss),\n",
    "        // on_batch_begin: null,\n",
    "        // onBatchEnd: (batch, logs = null) => batchEnd.push(logs.loss),\n",
    "        // onTrainBegin: null,\n",
    "        // onTrainEnd: null,\n",
    "      })\n",
    "    ]\n",
    "  })\n",
    "  $$done$$()\n",
    "})()"
   ]
  },
  {
   "cell_type": "code",
   "execution_count": 11,
   "metadata": {},
   "outputs": [
    {
     "data": {
      "text/plain": [
       "[\n",
       "  0.07985345274209976,  0.0716899037361145,  0.0690271183848381,\n",
       "  0.06783075630664825,  0.0671655684709549, 0.06673196703195572,\n",
       "  0.06641414016485214, 0.06616140902042389, 0.06594928354024887,\n",
       "  0.06576499342918396, 0.06560125201940536, 0.06545361131429672,\n",
       "  0.06531914323568344, 0.06519577652215958, 0.06508197635412216,\n",
       "  0.06497654318809509, 0.06487848609685898, 0.06478700786828995,\n",
       "  0.06470144540071487,  0.0646212100982666, 0.06454578787088394,\n",
       "  0.06447473913431168, 0.06440768390893936, 0.06434430181980133,\n",
       "  0.06428425014019012, 0.06422726064920425,  0.0641731321811676,\n",
       "  0.06412162631750107, 0.06407254189252853, 0.06402570009231567,\n",
       "  0.06398095935583115, 0.06393817067146301, 0.06389720737934113,\n",
       "  0.06385792791843414,  0.0638202428817749, 0.06378404796123505,\n",
       "   0.0637492686510086, 0.06371579319238663, 0.06368356943130493,\n",
       "  0.06365251541137695, 0.06362255662679672, 0.06359364092350006,\n",
       "  0.06356573104858398, 0.06353874504566193,  0.0635126605629921,\n",
       "  0.06348742544651031, 0.06346297264099121, 0.06343930959701538,\n",
       "  0.06341636925935745, 0.06339411437511444\n",
       "]"
      ]
     },
     "execution_count": 11,
     "metadata": {},
     "output_type": "execute_result"
    }
   ],
   "source": [
    "epochEnd"
   ]
  },
  {
   "cell_type": "code",
   "execution_count": 12,
   "metadata": {},
   "outputs": [
    {
     "data": {
      "text/plain": [
       "Tensor {\n",
       "  kept: false,\n",
       "  isDisposedInternal: false,\n",
       "  shape: [ 4, 1 ],\n",
       "  dtype: 'float32',\n",
       "  size: 4,\n",
       "  strides: [ 1 ],\n",
       "  dataId: {},\n",
       "  id: 1295612,\n",
       "  rankType: '2',\n",
       "  scopeId: 1118420\n",
       "}"
      ]
     },
     "execution_count": 12,
     "metadata": {},
     "output_type": "execute_result"
    }
   ],
   "source": [
    "proyeksi = model.predict(XTest, yTest)"
   ]
  },
  {
   "cell_type": "code",
   "execution_count": 15,
   "metadata": {},
   "outputs": [
    {
     "data": {
      "text/plain": [
       "Float32Array(4) [\n",
       "  0.1997341513633728,\n",
       "  0.187837153673172,\n",
       "  0.18746259808540344,\n",
       "  0.18775293231010437\n",
       "]"
      ]
     },
     "execution_count": 15,
     "metadata": {},
     "output_type": "execute_result"
    }
   ],
   "source": [
    "proyeksi.dataSync()"
   ]
  }
 ],
 "metadata": {
  "kernelspec": {
   "display_name": "JavaScript (Node.js)",
   "language": "javascript",
   "name": "javascript"
  },
  "language_info": {
   "file_extension": ".js",
   "mimetype": "application/javascript",
   "name": "javascript",
   "version": "16.13.2"
  },
  "orig_nbformat": 4
 },
 "nbformat": 4,
 "nbformat_minor": 2
}
